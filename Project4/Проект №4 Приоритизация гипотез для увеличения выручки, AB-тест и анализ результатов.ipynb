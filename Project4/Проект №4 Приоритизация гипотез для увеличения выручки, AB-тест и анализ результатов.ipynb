{
 "cells": [
  {
   "cell_type": "markdown",
   "metadata": {},
   "source": [
    "# Приоритизация гипотез для увеличения выручки,  A/B-тест и анализ результатов"
   ]
  },
  {
   "cell_type": "markdown",
   "metadata": {},
   "source": [
    "# Цели и описание проекта"
   ]
  },
  {
   "cell_type": "markdown",
   "metadata": {},
   "source": [
    "Проект состоит из двух частей, в первой части нам дано 9 гипотез для увеличение выручки, нам необходимо приоритизировать их с помощью параметров ICE и RICE и пояснить различия в методе приоритизации, во второй части дано два файла с информацией о заказах и с количеством пользователей, необходимо провести A/B-тест и принять решение по результатам теста и объясните его."
   ]
  },
  {
   "cell_type": "markdown",
   "metadata": {},
   "source": [
    "# Описание данных\n",
    "***Данные для первой части*** \n",
    "\n",
    "**Файл /datasets/hypothesis.csv.** \n",
    "- Hypothesis — краткое описание гипотезы;\n",
    "- Reach — охват пользователей по 10-балльной шкале;\n",
    "- Impact — влияние на пользователей по 10-балльной шкале;\n",
    "- Confidence — уверенность в гипотезе по 10-балльной шкале;\n",
    "- Efforts — затраты ресурсов на проверку гипотезы по 10-балльной шкале. Чем больше значение Efforts, тем дороже проверка гипотезы.\n",
    "\n",
    "***Данные для второй части*** \n",
    "\n",
    "**Файл /datasets/orders.csv**\n",
    "- actionId — идентификатор заказа;\n",
    "- visitorId — идентификатор пользователя, совершившего заказ;\n",
    "- date — дата, когда был совершён заказ;\n",
    "- revenue — выручка заказа;\n",
    "- group — группа A/B-теста, в которую попал заказ.\n",
    "\n",
    "**Файл /datasets/visitors.csv.** \n",
    "- date — дата;\n",
    "- group — группа A/B-теста;\n",
    "- visitors — количество пользователей в указанную дату в указанной группе A/B-теста"
   ]
  },
  {
   "cell_type": "markdown",
   "metadata": {},
   "source": [
    "# План работ\n",
    "***Часть 1. Приоритизация гипотез.***\n",
    "- Загрузка данных\n",
    "- Применение фреймворка ICE для приоритизации гипотез. Сортировка гипотез по убыванию приоритета.\n",
    "- Применение фреймворк RICE для приоритизации гипотез. Сортировка гипотез по убыванию приоритета.\n",
    "- Анализ, как изменилась приоритизация гипотез при применении RICE вместо ICE. Вывод, почему так произошло.\n",
    "\n",
    "***Часть 2. Анализ A/B-теста***\n",
    "- Загрузка данных и импорт необходимых библиотек\n",
    "- Построение графика кумулятивной выручки по группам. Выводы и предположения.\n",
    "- Построение графика кумулятивного среднего чека по группам. Выводы и предположения.\n",
    "- Построение графика относительного изменения кумулятивного среднего чека группы B к группе A. Выводы и предположения.\n",
    "- Построение графика кумулятивного среднего количества заказов по группам. Выводы и предположения.\n",
    "- Построение графика относительного изменения кумулятивного среднего количества заказов группы B к группе A. Выводы и предположения.\n",
    "- Построение точечного графика количества заказов по пользователям. Выводы и предположения.\n",
    "- Подсчёт 95-й и 99-й перцентили количества заказов на пользователя. Выбор границы для определения аномальных пользователей.\n",
    "- Построение точечного графика стоимостей заказов. Выводы и предположения.\n",
    "- Подсчёт 95-й и 99-й перцентили стоимости заказов. Выбор границы для определения аномальных заказов.\n",
    "- Подсчёт статистической значимости различий в среднем количестве заказов между группами по «сырым» данным. Выводы и предположения.\n",
    "- Подсчёт статистической значимости различий в среднем чеке заказа между группами по «сырым» данным. Выводы и предположения.\n",
    "- Подсчёт статистической значимости различий в среднем количестве заказов между группами по «очищенным» данным. Выводы и предположения.\n",
    "- Подсчёт статистической значимости различий в среднем чеке заказа между группами по «очищенным» данным. Выводы и предположения.\n",
    "- Решение по результатам теста\n",
    "\n",
    "***Общий вывод***"
   ]
  },
  {
   "cell_type": "markdown",
   "metadata": {},
   "source": [
    "## Приотизация гипотез"
   ]
  },
  {
   "cell_type": "markdown",
   "metadata": {},
   "source": [
    "### Загрузка необходимых библиотек и данных"
   ]
  },
  {
   "cell_type": "code",
   "execution_count": 2,
   "metadata": {},
   "outputs": [],
   "source": [
    "# загрузка библиотек\n",
    "import pandas as pd\n",
    "import datetime as dt\n",
    "import numpy as np\n",
    "import matplotlib.pyplot as plt\n",
    "from pandas.plotting import register_matplotlib_converters\n",
    "import warnings\n",
    "import scipy.stats as stats"
   ]
  },
  {
   "cell_type": "code",
   "execution_count": 3,
   "metadata": {},
   "outputs": [
    {
     "data": {
      "text/html": [
       "<div>\n",
       "<style scoped>\n",
       "    .dataframe tbody tr th:only-of-type {\n",
       "        vertical-align: middle;\n",
       "    }\n",
       "\n",
       "    .dataframe tbody tr th {\n",
       "        vertical-align: top;\n",
       "    }\n",
       "\n",
       "    .dataframe thead th {\n",
       "        text-align: right;\n",
       "    }\n",
       "</style>\n",
       "<table border=\"1\" class=\"dataframe\">\n",
       "  <thead>\n",
       "    <tr style=\"text-align: right;\">\n",
       "      <th></th>\n",
       "      <th>hypothesis</th>\n",
       "      <th>reach</th>\n",
       "      <th>impact</th>\n",
       "      <th>confidence</th>\n",
       "      <th>efforts</th>\n",
       "    </tr>\n",
       "  </thead>\n",
       "  <tbody>\n",
       "    <tr>\n",
       "      <th>0</th>\n",
       "      <td>Добавить два новых канала привлечения трафика, что позволит привлекать на 30% больше пользователей</td>\n",
       "      <td>3</td>\n",
       "      <td>10</td>\n",
       "      <td>8</td>\n",
       "      <td>6</td>\n",
       "    </tr>\n",
       "    <tr>\n",
       "      <th>1</th>\n",
       "      <td>Запустить собственную службу доставки, что сократит срок доставки заказов</td>\n",
       "      <td>2</td>\n",
       "      <td>5</td>\n",
       "      <td>4</td>\n",
       "      <td>10</td>\n",
       "    </tr>\n",
       "    <tr>\n",
       "      <th>2</th>\n",
       "      <td>Добавить блоки рекомендаций товаров на сайт интернет магазина, чтобы повысить конверсию и средний чек заказа</td>\n",
       "      <td>8</td>\n",
       "      <td>3</td>\n",
       "      <td>7</td>\n",
       "      <td>3</td>\n",
       "    </tr>\n",
       "    <tr>\n",
       "      <th>3</th>\n",
       "      <td>Изменить структура категорий, что увеличит конверсию, т.к. пользователи быстрее найдут нужный товар</td>\n",
       "      <td>8</td>\n",
       "      <td>3</td>\n",
       "      <td>3</td>\n",
       "      <td>8</td>\n",
       "    </tr>\n",
       "    <tr>\n",
       "      <th>4</th>\n",
       "      <td>Изменить цвет фона главной страницы, чтобы увеличить вовлеченность пользователей</td>\n",
       "      <td>3</td>\n",
       "      <td>1</td>\n",
       "      <td>1</td>\n",
       "      <td>1</td>\n",
       "    </tr>\n",
       "    <tr>\n",
       "      <th>5</th>\n",
       "      <td>Добавить страницу отзывов клиентов о магазине, что позволит увеличить количество заказов</td>\n",
       "      <td>3</td>\n",
       "      <td>2</td>\n",
       "      <td>2</td>\n",
       "      <td>3</td>\n",
       "    </tr>\n",
       "    <tr>\n",
       "      <th>6</th>\n",
       "      <td>Показать на главной странице баннеры с актуальными акциями и распродажами, чтобы увеличить конверсию</td>\n",
       "      <td>5</td>\n",
       "      <td>3</td>\n",
       "      <td>8</td>\n",
       "      <td>3</td>\n",
       "    </tr>\n",
       "    <tr>\n",
       "      <th>7</th>\n",
       "      <td>Добавить форму подписки на все основные страницы, чтобы собрать базу клиентов для email-рассылок</td>\n",
       "      <td>10</td>\n",
       "      <td>7</td>\n",
       "      <td>8</td>\n",
       "      <td>5</td>\n",
       "    </tr>\n",
       "    <tr>\n",
       "      <th>8</th>\n",
       "      <td>Запустить акцию, дающую скидку на товар в день рождения</td>\n",
       "      <td>1</td>\n",
       "      <td>9</td>\n",
       "      <td>9</td>\n",
       "      <td>5</td>\n",
       "    </tr>\n",
       "  </tbody>\n",
       "</table>\n",
       "</div>"
      ],
      "text/plain": [
       "                                                                                                     hypothesis  \\\n",
       "0            Добавить два новых канала привлечения трафика, что позволит привлекать на 30% больше пользователей   \n",
       "1                                     Запустить собственную службу доставки, что сократит срок доставки заказов   \n",
       "2  Добавить блоки рекомендаций товаров на сайт интернет магазина, чтобы повысить конверсию и средний чек заказа   \n",
       "3           Изменить структура категорий, что увеличит конверсию, т.к. пользователи быстрее найдут нужный товар   \n",
       "4                              Изменить цвет фона главной страницы, чтобы увеличить вовлеченность пользователей   \n",
       "5                      Добавить страницу отзывов клиентов о магазине, что позволит увеличить количество заказов   \n",
       "6          Показать на главной странице баннеры с актуальными акциями и распродажами, чтобы увеличить конверсию   \n",
       "7              Добавить форму подписки на все основные страницы, чтобы собрать базу клиентов для email-рассылок   \n",
       "8                                                       Запустить акцию, дающую скидку на товар в день рождения   \n",
       "\n",
       "   reach  impact  confidence  efforts  \n",
       "0      3      10           8        6  \n",
       "1      2       5           4       10  \n",
       "2      8       3           7        3  \n",
       "3      8       3           3        8  \n",
       "4      3       1           1        1  \n",
       "5      3       2           2        3  \n",
       "6      5       3           8        3  \n",
       "7     10       7           8        5  \n",
       "8      1       9           9        5  "
      ]
     },
     "metadata": {},
     "output_type": "display_data"
    }
   ],
   "source": [
    "# расирение вывода ячеек\n",
    "pd.options.display.max_colwidth = 130\n",
    "\n",
    "# загрузка файла с гипотезами\n",
    "data = pd.read_csv('/datasets/hypothesis.csv')\n",
    "data.columns = data.columns.str.lower()\n",
    "display(data)\n"
   ]
  },
  {
   "cell_type": "markdown",
   "metadata": {},
   "source": [
    "### Применение фреймворка ICE для приоритизации гипотез. Сортировка гипотез по убыванию приоритета."
   ]
  },
  {
   "cell_type": "code",
   "execution_count": 4,
   "metadata": {},
   "outputs": [
    {
     "data": {
      "text/html": [
       "<div>\n",
       "<style scoped>\n",
       "    .dataframe tbody tr th:only-of-type {\n",
       "        vertical-align: middle;\n",
       "    }\n",
       "\n",
       "    .dataframe tbody tr th {\n",
       "        vertical-align: top;\n",
       "    }\n",
       "\n",
       "    .dataframe thead th {\n",
       "        text-align: right;\n",
       "    }\n",
       "</style>\n",
       "<table border=\"1\" class=\"dataframe\">\n",
       "  <thead>\n",
       "    <tr style=\"text-align: right;\">\n",
       "      <th></th>\n",
       "      <th>hypothesis</th>\n",
       "      <th>ICE</th>\n",
       "    </tr>\n",
       "  </thead>\n",
       "  <tbody>\n",
       "    <tr>\n",
       "      <th>8</th>\n",
       "      <td>Запустить акцию, дающую скидку на товар в день рождения</td>\n",
       "      <td>16.20</td>\n",
       "    </tr>\n",
       "    <tr>\n",
       "      <th>0</th>\n",
       "      <td>Добавить два новых канала привлечения трафика, что позволит привлекать на 30% больше пользователей</td>\n",
       "      <td>13.33</td>\n",
       "    </tr>\n",
       "    <tr>\n",
       "      <th>7</th>\n",
       "      <td>Добавить форму подписки на все основные страницы, чтобы собрать базу клиентов для email-рассылок</td>\n",
       "      <td>11.20</td>\n",
       "    </tr>\n",
       "    <tr>\n",
       "      <th>6</th>\n",
       "      <td>Показать на главной странице баннеры с актуальными акциями и распродажами, чтобы увеличить конверсию</td>\n",
       "      <td>8.00</td>\n",
       "    </tr>\n",
       "    <tr>\n",
       "      <th>2</th>\n",
       "      <td>Добавить блоки рекомендаций товаров на сайт интернет магазина, чтобы повысить конверсию и средний чек заказа</td>\n",
       "      <td>7.00</td>\n",
       "    </tr>\n",
       "    <tr>\n",
       "      <th>1</th>\n",
       "      <td>Запустить собственную службу доставки, что сократит срок доставки заказов</td>\n",
       "      <td>2.00</td>\n",
       "    </tr>\n",
       "    <tr>\n",
       "      <th>5</th>\n",
       "      <td>Добавить страницу отзывов клиентов о магазине, что позволит увеличить количество заказов</td>\n",
       "      <td>1.33</td>\n",
       "    </tr>\n",
       "    <tr>\n",
       "      <th>3</th>\n",
       "      <td>Изменить структура категорий, что увеличит конверсию, т.к. пользователи быстрее найдут нужный товар</td>\n",
       "      <td>1.12</td>\n",
       "    </tr>\n",
       "    <tr>\n",
       "      <th>4</th>\n",
       "      <td>Изменить цвет фона главной страницы, чтобы увеличить вовлеченность пользователей</td>\n",
       "      <td>1.00</td>\n",
       "    </tr>\n",
       "  </tbody>\n",
       "</table>\n",
       "</div>"
      ],
      "text/plain": [
       "                                                                                                     hypothesis  \\\n",
       "8                                                       Запустить акцию, дающую скидку на товар в день рождения   \n",
       "0            Добавить два новых канала привлечения трафика, что позволит привлекать на 30% больше пользователей   \n",
       "7              Добавить форму подписки на все основные страницы, чтобы собрать базу клиентов для email-рассылок   \n",
       "6          Показать на главной странице баннеры с актуальными акциями и распродажами, чтобы увеличить конверсию   \n",
       "2  Добавить блоки рекомендаций товаров на сайт интернет магазина, чтобы повысить конверсию и средний чек заказа   \n",
       "1                                     Запустить собственную службу доставки, что сократит срок доставки заказов   \n",
       "5                      Добавить страницу отзывов клиентов о магазине, что позволит увеличить количество заказов   \n",
       "3           Изменить структура категорий, что увеличит конверсию, т.к. пользователи быстрее найдут нужный товар   \n",
       "4                              Изменить цвет фона главной страницы, чтобы увеличить вовлеченность пользователей   \n",
       "\n",
       "     ICE  \n",
       "8  16.20  \n",
       "0  13.33  \n",
       "7  11.20  \n",
       "6   8.00  \n",
       "2   7.00  \n",
       "1   2.00  \n",
       "5   1.33  \n",
       "3   1.12  \n",
       "4   1.00  "
      ]
     },
     "metadata": {},
     "output_type": "display_data"
    }
   ],
   "source": [
    "data['ICE'] = round((data['impact'] * data['confidence']) / data['efforts'], 2)\n",
    "\n",
    "display(data[['hypothesis','ICE']].sort_values(by='ICE', ascending=False))"
   ]
  },
  {
   "cell_type": "markdown",
   "metadata": {},
   "source": [
    "Согласно фреймворку ICE для приоритизации гипотез наиболее приоритетно для начала запустить акцию дающий скидку на товар, затем добавить 2 новых канала привлечения трафика, добавить форму подписки на все основные страницы, сделать банеры с актуальной информацией, затем сделать блок рекомендаций товаров на сайте"
   ]
  },
  {
   "cell_type": "markdown",
   "metadata": {},
   "source": [
    "### Применение фреймворк RICE для приоритизации гипотез. Сортировка гипотез по убыванию приоритета."
   ]
  },
  {
   "cell_type": "code",
   "execution_count": 5,
   "metadata": {},
   "outputs": [
    {
     "data": {
      "text/html": [
       "<div>\n",
       "<style scoped>\n",
       "    .dataframe tbody tr th:only-of-type {\n",
       "        vertical-align: middle;\n",
       "    }\n",
       "\n",
       "    .dataframe tbody tr th {\n",
       "        vertical-align: top;\n",
       "    }\n",
       "\n",
       "    .dataframe thead th {\n",
       "        text-align: right;\n",
       "    }\n",
       "</style>\n",
       "<table border=\"1\" class=\"dataframe\">\n",
       "  <thead>\n",
       "    <tr style=\"text-align: right;\">\n",
       "      <th></th>\n",
       "      <th>hypothesis</th>\n",
       "      <th>RICE</th>\n",
       "    </tr>\n",
       "  </thead>\n",
       "  <tbody>\n",
       "    <tr>\n",
       "      <th>7</th>\n",
       "      <td>Добавить форму подписки на все основные страницы, чтобы собрать базу клиентов для email-рассылок</td>\n",
       "      <td>112.0</td>\n",
       "    </tr>\n",
       "    <tr>\n",
       "      <th>2</th>\n",
       "      <td>Добавить блоки рекомендаций товаров на сайт интернет магазина, чтобы повысить конверсию и средний чек заказа</td>\n",
       "      <td>56.0</td>\n",
       "    </tr>\n",
       "    <tr>\n",
       "      <th>0</th>\n",
       "      <td>Добавить два новых канала привлечения трафика, что позволит привлекать на 30% больше пользователей</td>\n",
       "      <td>40.0</td>\n",
       "    </tr>\n",
       "    <tr>\n",
       "      <th>6</th>\n",
       "      <td>Показать на главной странице баннеры с актуальными акциями и распродажами, чтобы увеличить конверсию</td>\n",
       "      <td>40.0</td>\n",
       "    </tr>\n",
       "    <tr>\n",
       "      <th>8</th>\n",
       "      <td>Запустить акцию, дающую скидку на товар в день рождения</td>\n",
       "      <td>16.2</td>\n",
       "    </tr>\n",
       "    <tr>\n",
       "      <th>3</th>\n",
       "      <td>Изменить структура категорий, что увеличит конверсию, т.к. пользователи быстрее найдут нужный товар</td>\n",
       "      <td>9.0</td>\n",
       "    </tr>\n",
       "    <tr>\n",
       "      <th>1</th>\n",
       "      <td>Запустить собственную службу доставки, что сократит срок доставки заказов</td>\n",
       "      <td>4.0</td>\n",
       "    </tr>\n",
       "    <tr>\n",
       "      <th>5</th>\n",
       "      <td>Добавить страницу отзывов клиентов о магазине, что позволит увеличить количество заказов</td>\n",
       "      <td>4.0</td>\n",
       "    </tr>\n",
       "    <tr>\n",
       "      <th>4</th>\n",
       "      <td>Изменить цвет фона главной страницы, чтобы увеличить вовлеченность пользователей</td>\n",
       "      <td>3.0</td>\n",
       "    </tr>\n",
       "  </tbody>\n",
       "</table>\n",
       "</div>"
      ],
      "text/plain": [
       "                                                                                                     hypothesis  \\\n",
       "7              Добавить форму подписки на все основные страницы, чтобы собрать базу клиентов для email-рассылок   \n",
       "2  Добавить блоки рекомендаций товаров на сайт интернет магазина, чтобы повысить конверсию и средний чек заказа   \n",
       "0            Добавить два новых канала привлечения трафика, что позволит привлекать на 30% больше пользователей   \n",
       "6          Показать на главной странице баннеры с актуальными акциями и распродажами, чтобы увеличить конверсию   \n",
       "8                                                       Запустить акцию, дающую скидку на товар в день рождения   \n",
       "3           Изменить структура категорий, что увеличит конверсию, т.к. пользователи быстрее найдут нужный товар   \n",
       "1                                     Запустить собственную службу доставки, что сократит срок доставки заказов   \n",
       "5                      Добавить страницу отзывов клиентов о магазине, что позволит увеличить количество заказов   \n",
       "4                              Изменить цвет фона главной страницы, чтобы увеличить вовлеченность пользователей   \n",
       "\n",
       "    RICE  \n",
       "7  112.0  \n",
       "2   56.0  \n",
       "0   40.0  \n",
       "6   40.0  \n",
       "8   16.2  \n",
       "3    9.0  \n",
       "1    4.0  \n",
       "5    4.0  \n",
       "4    3.0  "
      ]
     },
     "metadata": {},
     "output_type": "display_data"
    }
   ],
   "source": [
    "data['RICE'] = (data['reach'] * data['impact'] * data['confidence']) / data['efforts']\n",
    "\n",
    "display(data[['hypothesis','RICE']].sort_values(by='RICE', ascending=False))"
   ]
  },
  {
   "cell_type": "markdown",
   "metadata": {},
   "source": [
    "Согласно фреймворку RICE для приоритизации гипотез наиболее приоритетно для начала добавить форму подписки на основные страницы, затем добавить блок рекомендаций, добавить новые каналы привлечения и показатель на главной странице банер с актуальной информацией"
   ]
  },
  {
   "cell_type": "markdown",
   "metadata": {},
   "source": [
    "### Анализ, как изменилась приоритизация гипотез при применении RICE вместо ICE. Вывод, почему так произошло."
   ]
  },
  {
   "cell_type": "markdown",
   "metadata": {},
   "source": [
    "Поскольку метод приотизации гипотез RICE в отличии от ICE учитывает охват пользователей(**reach**), кардинально изменились приоритеты например **гипотеза гласящая о необходимости добавить форму подписки на основные страницы** выбилась в лидеры так обладает параметром **reach** равном 10 и опережает **гипотезу о необходимости запустить акцию, дающую скидку на товар** которая является самой приоритетной при анализе методом ICE, но не попала в приоритет обладает параметром **reach** равному 1  "
   ]
  },
  {
   "cell_type": "markdown",
   "metadata": {},
   "source": [
    "## Анализ A/B-теста"
   ]
  },
  {
   "cell_type": "markdown",
   "metadata": {},
   "source": [
    "### Загрузка и обработка данных"
   ]
  },
  {
   "cell_type": "code",
   "execution_count": 6,
   "metadata": {},
   "outputs": [
    {
     "data": {
      "text/html": [
       "<div>\n",
       "<style scoped>\n",
       "    .dataframe tbody tr th:only-of-type {\n",
       "        vertical-align: middle;\n",
       "    }\n",
       "\n",
       "    .dataframe tbody tr th {\n",
       "        vertical-align: top;\n",
       "    }\n",
       "\n",
       "    .dataframe thead th {\n",
       "        text-align: right;\n",
       "    }\n",
       "</style>\n",
       "<table border=\"1\" class=\"dataframe\">\n",
       "  <thead>\n",
       "    <tr style=\"text-align: right;\">\n",
       "      <th></th>\n",
       "      <th>transactionId</th>\n",
       "      <th>visitorId</th>\n",
       "      <th>date</th>\n",
       "      <th>revenue</th>\n",
       "      <th>group</th>\n",
       "    </tr>\n",
       "  </thead>\n",
       "  <tbody>\n",
       "    <tr>\n",
       "      <th>0</th>\n",
       "      <td>3667963787</td>\n",
       "      <td>3312258926</td>\n",
       "      <td>2019-08-15</td>\n",
       "      <td>1650</td>\n",
       "      <td>B</td>\n",
       "    </tr>\n",
       "    <tr>\n",
       "      <th>1</th>\n",
       "      <td>2804400009</td>\n",
       "      <td>3642806036</td>\n",
       "      <td>2019-08-15</td>\n",
       "      <td>730</td>\n",
       "      <td>B</td>\n",
       "    </tr>\n",
       "    <tr>\n",
       "      <th>2</th>\n",
       "      <td>2961555356</td>\n",
       "      <td>4069496402</td>\n",
       "      <td>2019-08-15</td>\n",
       "      <td>400</td>\n",
       "      <td>A</td>\n",
       "    </tr>\n",
       "    <tr>\n",
       "      <th>3</th>\n",
       "      <td>3797467345</td>\n",
       "      <td>1196621759</td>\n",
       "      <td>2019-08-15</td>\n",
       "      <td>9759</td>\n",
       "      <td>B</td>\n",
       "    </tr>\n",
       "    <tr>\n",
       "      <th>4</th>\n",
       "      <td>2282983706</td>\n",
       "      <td>2322279887</td>\n",
       "      <td>2019-08-15</td>\n",
       "      <td>2308</td>\n",
       "      <td>B</td>\n",
       "    </tr>\n",
       "  </tbody>\n",
       "</table>\n",
       "</div>"
      ],
      "text/plain": [
       "   transactionId   visitorId       date  revenue group\n",
       "0     3667963787  3312258926 2019-08-15     1650     B\n",
       "1     2804400009  3642806036 2019-08-15      730     B\n",
       "2     2961555356  4069496402 2019-08-15      400     A\n",
       "3     3797467345  1196621759 2019-08-15     9759     B\n",
       "4     2282983706  2322279887 2019-08-15     2308     B"
      ]
     },
     "metadata": {},
     "output_type": "display_data"
    },
    {
     "name": "stdout",
     "output_type": "stream",
     "text": [
      "<class 'pandas.core.frame.DataFrame'>\n",
      "RangeIndex: 1197 entries, 0 to 1196\n",
      "Data columns (total 5 columns):\n",
      " #   Column         Non-Null Count  Dtype         \n",
      "---  ------         --------------  -----         \n",
      " 0   transactionId  1197 non-null   int64         \n",
      " 1   visitorId      1197 non-null   int64         \n",
      " 2   date           1197 non-null   datetime64[ns]\n",
      " 3   revenue        1197 non-null   int64         \n",
      " 4   group          1197 non-null   object        \n",
      "dtypes: datetime64[ns](1), int64(3), object(1)\n",
      "memory usage: 46.9+ KB\n",
      "None\n"
     ]
    },
    {
     "data": {
      "text/html": [
       "<div>\n",
       "<style scoped>\n",
       "    .dataframe tbody tr th:only-of-type {\n",
       "        vertical-align: middle;\n",
       "    }\n",
       "\n",
       "    .dataframe tbody tr th {\n",
       "        vertical-align: top;\n",
       "    }\n",
       "\n",
       "    .dataframe thead th {\n",
       "        text-align: right;\n",
       "    }\n",
       "</style>\n",
       "<table border=\"1\" class=\"dataframe\">\n",
       "  <thead>\n",
       "    <tr style=\"text-align: right;\">\n",
       "      <th></th>\n",
       "      <th>date</th>\n",
       "      <th>group</th>\n",
       "      <th>visitors</th>\n",
       "    </tr>\n",
       "  </thead>\n",
       "  <tbody>\n",
       "    <tr>\n",
       "      <th>0</th>\n",
       "      <td>2019-08-01</td>\n",
       "      <td>A</td>\n",
       "      <td>719</td>\n",
       "    </tr>\n",
       "    <tr>\n",
       "      <th>1</th>\n",
       "      <td>2019-08-02</td>\n",
       "      <td>A</td>\n",
       "      <td>619</td>\n",
       "    </tr>\n",
       "    <tr>\n",
       "      <th>2</th>\n",
       "      <td>2019-08-03</td>\n",
       "      <td>A</td>\n",
       "      <td>507</td>\n",
       "    </tr>\n",
       "    <tr>\n",
       "      <th>3</th>\n",
       "      <td>2019-08-04</td>\n",
       "      <td>A</td>\n",
       "      <td>717</td>\n",
       "    </tr>\n",
       "    <tr>\n",
       "      <th>4</th>\n",
       "      <td>2019-08-05</td>\n",
       "      <td>A</td>\n",
       "      <td>756</td>\n",
       "    </tr>\n",
       "  </tbody>\n",
       "</table>\n",
       "</div>"
      ],
      "text/plain": [
       "        date group  visitors\n",
       "0 2019-08-01     A       719\n",
       "1 2019-08-02     A       619\n",
       "2 2019-08-03     A       507\n",
       "3 2019-08-04     A       717\n",
       "4 2019-08-05     A       756"
      ]
     },
     "metadata": {},
     "output_type": "display_data"
    },
    {
     "name": "stdout",
     "output_type": "stream",
     "text": [
      "<class 'pandas.core.frame.DataFrame'>\n",
      "RangeIndex: 62 entries, 0 to 61\n",
      "Data columns (total 3 columns):\n",
      " #   Column    Non-Null Count  Dtype         \n",
      "---  ------    --------------  -----         \n",
      " 0   date      62 non-null     datetime64[ns]\n",
      " 1   group     62 non-null     object        \n",
      " 2   visitors  62 non-null     int64         \n",
      "dtypes: datetime64[ns](1), int64(1), object(1)\n",
      "memory usage: 1.6+ KB\n",
      "None\n",
      "0\n",
      "0\n"
     ]
    }
   ],
   "source": [
    "# загрузка файла\n",
    "orders = pd.read_csv('/datasets/orders.csv')\n",
    "\n",
    "# приведение даты к нормальному виду\n",
    "orders['date'] = orders['date'].map(\n",
    "    lambda x: dt.datetime.strptime(x, '%Y-%m-%d')\n",
    ")\n",
    "\n",
    "# загрузка файла\n",
    "visitors = pd.read_csv('/datasets/visitors.csv')\n",
    "\n",
    "# приведение даты к нормальному виду\n",
    "visitors['date'] = visitors['date'].map(\n",
    "    lambda x: dt.datetime.strptime(x, '%Y-%m-%d')\n",
    ")\n",
    "# предпросмотр информации из таблиц\n",
    "display(orders.head())\n",
    "print(orders.info())\n",
    "display(visitors.head())\n",
    "print(visitors.info())\n",
    "# подсчёт дубликатов\n",
    "print(len(orders)- len(orders.drop_duplicates ()))\n",
    "print(len(visitors)- len(visitors.drop_duplicates ()))"
   ]
  },
  {
   "cell_type": "markdown",
   "metadata": {},
   "source": [
    "### Построение графика кумулятивной выручки по группам. Выводы и предположения."
   ]
  },
  {
   "cell_type": "code",
   "execution_count": 13,
   "metadata": {},
   "outputs": [
    {
     "data": {
      "text/plain": [
       "<matplotlib.legend.Legend at 0x7f4e6a615700>"
      ]
     },
     "execution_count": 13,
     "metadata": {},
     "output_type": "execute_result"
    },
    {
     "data": {
      "image/png": "[encoded data removed]",
      "text/plain": [
       "<Figure size 1008x432 with 1 Axes>"
      ]
     },
     "metadata": {
      "needs_background": "light"
     },
     "output_type": "display_data"
    }
   ],
   "source": [
    "ordersAggregated = orders.apply(\n",
    "    lambda x: orders[\n",
    "        np.logical_and(\n",
    "            orders['date'] <= x['date'], orders['group'] == x['group']\n",
    "        )\n",
    "    ].agg(\n",
    "        {\n",
    "            'date': 'max',\n",
    "            'group': 'max',\n",
    "            'transactionId': 'nunique',\n",
    "            'visitorId': 'nunique',\n",
    "            'revenue': 'sum',\n",
    "        }\n",
    "    ),\n",
    "    axis=1,\n",
    ").sort_values(by=['date', 'group'])\n",
    "\n",
    "visitorsAggregated = visitors.apply(\n",
    "    lambda x: visitors[\n",
    "        np.logical_and(\n",
    "            visitors['date'] <= x['date'], visitors['group'] == x['group']\n",
    "        )\n",
    "    ].agg({'date': 'max', 'group': 'max', 'visitors': 'sum'}),\n",
    "    axis=1,\n",
    ").sort_values(by=['date', 'group'])\n",
    "\n",
    "cumulativeData = ordersAggregated.merge(\n",
    "    visitorsAggregated, left_on=['date', 'group'], right_on=['date', 'group']\n",
    ")\n",
    "cumulativeData.columns = [\n",
    "    'date',\n",
    "    'group',\n",
    "    'orders',\n",
    "    'buyers',\n",
    "    'revenue',\n",
    "    'visitors',\n",
    "]\n",
    "cumulativeRevenueA = cumulativeData.query('group == \"A\"')[['date','revenue', 'orders']]\n",
    "cumulativeRevenueB = cumulativeData.query('group == \"B\"')[['date','revenue', 'orders']]\n",
    "\n",
    "# Строим график выручки группы А\n",
    "plt.figure(figsize=(14,6))\n",
    "plt.xlabel(\"Дата\")\n",
    "plt.ylabel(\"Млн. y.e\")\n",
    "plt.title(\"График кумулятивной выручки по группам.\")\n",
    "plt.plot(cumulativeRevenueA['date'], cumulativeRevenueA['revenue'], label='A')\n",
    "\n",
    "# Строим график выручки группы B\n",
    "plt.plot(cumulativeRevenueB['date'], cumulativeRevenueB['revenue'], label='B')\n",
    "\n",
    "plt.legend() "
   ]
  },
  {
   "cell_type": "markdown",
   "metadata": {},
   "source": [
    "Во 2/3 от времени теста группа B вырвалась вперед и на середине резко пошла в отрыв, есть предположения что заказы с аномально \n",
    "большой суммой или же увеличение их количества влияют на результат"
   ]
  },
  {
   "cell_type": "markdown",
   "metadata": {},
   "source": [
    "### Построение графика кумулятивного среднего чека по группам. Выводы и предположения."
   ]
  },
  {
   "cell_type": "code",
   "execution_count": 14,
   "metadata": {},
   "outputs": [
    {
     "data": {
      "text/plain": [
       "<matplotlib.legend.Legend at 0x7f4e6a7a1250>"
      ]
     },
     "execution_count": 14,
     "metadata": {},
     "output_type": "execute_result"
    },
    {
     "data": {
      "image/png": "[encoded data removed]",
      "text/plain": [
       "<Figure size 1008x432 with 1 Axes>"
      ]
     },
     "metadata": {
      "needs_background": "light"
     },
     "output_type": "display_data"
    }
   ],
   "source": [
    "# Строим график\n",
    "plt.figure(figsize=(14,6))\n",
    "plt.xlabel(\"Дата\")\n",
    "plt.ylabel(\"Средний чек в y.e\")\n",
    "plt.title(\"График кумулятивноого среднего чека по группам\")\n",
    "plt.plot(cumulativeRevenueA['date'], cumulativeRevenueA['revenue']/cumulativeRevenueA['orders'], label='A')\n",
    "plt.plot(cumulativeRevenueB['date'], cumulativeRevenueB['revenue']/cumulativeRevenueB['orders'], label='B')\n",
    "plt.legend() "
   ]
  },
  {
   "cell_type": "markdown",
   "metadata": {},
   "source": [
    "График не стабилен, группа B в середине теста резко вырвалась вперед, думаю принимать какое либо решение рано,\n",
    "до анализа выбросов"
   ]
  },
  {
   "cell_type": "markdown",
   "metadata": {},
   "source": [
    "### Построение графика относительного изменения кумулятивного среднего чека группы B к группе A. Выводы и предположения."
   ]
  },
  {
   "cell_type": "code",
   "execution_count": 15,
   "metadata": {},
   "outputs": [
    {
     "data": {
      "text/plain": [
       "<matplotlib.lines.Line2D at 0x7f4e6a38dfd0>"
      ]
     },
     "execution_count": 15,
     "metadata": {},
     "output_type": "execute_result"
    },
    {
     "data": {
      "image/png": "[encoded data removed]",
      "text/plain": [
       "<Figure size 1008x432 with 1 Axes>"
      ]
     },
     "metadata": {
      "needs_background": "light"
     },
     "output_type": "display_data"
    }
   ],
   "source": [
    "# собираем данные в одном датафрейме\n",
    "mergedCumulativeRevenue = cumulativeRevenueA.merge(cumulativeRevenueB, left_on='date', right_on='date', how='left', suffixes=['A', 'B'])\n",
    "\n",
    "# cтроим отношение средних чеков\n",
    "plt.figure(figsize=(14,6))\n",
    "plt.xlabel(\"Дата\")\n",
    "plt.ylabel(\"Различия среднего чека\")\n",
    "plt.title(\"График относительного изменения кумулятивного среднего чека группы B к группе A\")\n",
    "plt.plot(mergedCumulativeRevenue['date'], (mergedCumulativeRevenue['revenueB']/mergedCumulativeRevenue['ordersB'])/(mergedCumulativeRevenue['revenueA']/mergedCumulativeRevenue['ordersA'])-1)\n",
    "\n",
    "# добавляем ось X\n",
    "plt.axhline(y=0, color='black', linestyle='--') "
   ]
  },
  {
   "cell_type": "markdown",
   "metadata": {},
   "source": [
    "Результаты теста резко меняются в определенные даты возможно в это время регистрируются аномальные заказы"
   ]
  },
  {
   "cell_type": "markdown",
   "metadata": {},
   "source": [
    "### Построение графика кумулятивного среднего количества заказов по группам. Выводы и предположения."
   ]
  },
  {
   "cell_type": "code",
   "execution_count": 16,
   "metadata": {},
   "outputs": [
    {
     "data": {
      "text/plain": [
       "<matplotlib.legend.Legend at 0x7f4e6a7d2a30>"
      ]
     },
     "execution_count": 16,
     "metadata": {},
     "output_type": "execute_result"
    },
    {
     "data": {
      "image/png": "[encoded data removed]",
      "text/plain": [
       "<Figure size 1008x432 with 1 Axes>"
      ]
     },
     "metadata": {
      "needs_background": "light"
     },
     "output_type": "display_data"
    }
   ],
   "source": [
    "plt.figure(figsize=(14,6))\n",
    "plt.xlabel(\"Дата\")\n",
    "plt.ylabel(\"Кумулятивное среднее количества заказов\")\n",
    "plt.title(\"График относительного изменения кумулятивного среднего количества заказов по группам\")\n",
    "plt.plot(cumulativeRevenueA['date'], cumulativeData.query('group ==\"A\"')['orders']/cumulativeData.query('group ==\"A\"')['visitors'], label='A')\n",
    "plt.plot(cumulativeRevenueB['date'], cumulativeData.query('group ==\"B\"')['orders']/cumulativeData.query('group ==\"B\"')['visitors'], label='B')\n",
    "plt.legend() "
   ]
  },
  {
   "cell_type": "markdown",
   "metadata": {},
   "source": [
    "Графики поначалу графики не стабильны, группа B плавно перегоняет группа А на протяжение теста, думаю зависимость  аномальных выбросов по количеству заказов есть особенно она видна в начале"
   ]
  },
  {
   "cell_type": "markdown",
   "metadata": {},
   "source": [
    "### Построение графика относительного изменения кумулятивного среднего количества заказов группы B к группе A. Выводы и предположения."
   ]
  },
  {
   "cell_type": "code",
   "execution_count": 17,
   "metadata": {},
   "outputs": [
    {
     "data": {
      "text/plain": [
       "<matplotlib.lines.Line2D at 0x7f4e6a6e1ee0>"
      ]
     },
     "execution_count": 17,
     "metadata": {},
     "output_type": "execute_result"
    },
    {
     "data": {
      "image/png": "[encoded data removed]",
      "text/plain": [
       "<Figure size 1008x432 with 1 Axes>"
      ]
     },
     "metadata": {
      "needs_background": "light"
     },
     "output_type": "display_data"
    }
   ],
   "source": [
    "# cтроим отношение средних чеков\n",
    "plt.figure(figsize=(14,6))\n",
    "plt.xlabel(\"Дата\")\n",
    "plt.ylabel(\"Разница\")\n",
    "plt.title(\"График относительного изменения кумулятивного среднего количества заказов группы B к группе A\")\n",
    "plt.plot(mergedCumulativeRevenue['date'], mergedCumulativeRevenue['ordersB']/mergedCumulativeRevenue['ordersA']-1)\n",
    "\n",
    "# добавляем ось X\n",
    "plt.axhline(y=0, color='black', linestyle='--') "
   ]
  },
  {
   "cell_type": "markdown",
   "metadata": {},
   "source": [
    "Как видно из графика, в начале есть определенные значимые колебания графика различия, в данном случае все же имело место быть зависимость от аномально большого количества заказов"
   ]
  },
  {
   "cell_type": "markdown",
   "metadata": {},
   "source": [
    "### Построение точечного графика количества заказов по пользователям. Выводы и предположения."
   ]
  },
  {
   "cell_type": "code",
   "execution_count": 12,
   "metadata": {},
   "outputs": [
    {
     "name": "stdout",
     "output_type": "stream",
     "text": [
      "      transactionId  orders\n",
      "1023     4256040402      11\n",
      "591      2458001652      11\n",
      "569      2378935119       9\n",
      "487      2038680547       8\n",
      "44        199603092       5\n"
     ]
    },
    {
     "data": {
      "text/plain": [
       "<matplotlib.collections.PathCollection at 0x7fe002a7dfd0>"
      ]
     },
     "execution_count": 12,
     "metadata": {},
     "output_type": "execute_result"
    },
    {
     "data": {
      "image/png": "[encoded data removed]",
      "text/plain": [
       "<Figure size 1008x432 with 1 Axes>"
      ]
     },
     "metadata": {
      "needs_background": "light"
     },
     "output_type": "display_data"
    }
   ],
   "source": [
    "# Групировка пользователей по количеству заказов\n",
    "ordersByUsers = orders.groupby('visitorId', as_index=False).agg({'transactionId':'nunique'})\n",
    "ordersByUsers.columns = ['transactionId', 'orders']\n",
    "print(ordersByUsers.sort_values(by='orders', ascending=False).head())\n",
    "\n",
    "# Построение графика\n",
    "x_values = pd.Series(range(0, len(ordersByUsers['orders'])))\n",
    "plt.figure(figsize=(14,6))\n",
    "plt.xlabel(\"Пользователи\")\n",
    "plt.ylabel(\"Заказы\")\n",
    "plt.title(\"Точечный график количества заказов по пользователям.\")\n",
    "plt.scatter(x_values, ordersByUsers['orders']) "
   ]
  },
  {
   "cell_type": "markdown",
   "metadata": {},
   "source": [
    "Как видно из точечного графика большая часть пользователей делали от 1 до 3 заказов, остальных можно отнести к аномальным заказам"
   ]
  },
  {
   "cell_type": "markdown",
   "metadata": {},
   "source": [
    "### Подсчёт 95-й и 99-й перцентили количества заказов на пользователя. Выбор границы для определения аномальных пользователей."
   ]
  },
  {
   "cell_type": "code",
   "execution_count": 13,
   "metadata": {},
   "outputs": [
    {
     "name": "stdout",
     "output_type": "stream",
     "text": [
      "[2. 4.]\n"
     ]
    }
   ],
   "source": [
    "print(np.percentile(ordersByUsers['orders'], [95, 99]))"
   ]
  },
  {
   "cell_type": "code",
   "execution_count": 14,
   "metadata": {},
   "outputs": [
    {
     "name": "stdout",
     "output_type": "stream",
     "text": [
      "transactionId    13\n",
      "orders           13\n",
      "dtype: int64\n"
     ]
    }
   ],
   "source": [
    "print(ordersByUsers.query('orders > 3').count())"
   ]
  },
  {
   "cell_type": "markdown",
   "metadata": {},
   "source": [
    "Подсчёт 95-й и 99-й перцентили подтвердил что 4 и более заказов было всего 13 штук и что это анамалии которые необходимо удалить"
   ]
  },
  {
   "cell_type": "markdown",
   "metadata": {},
   "source": [
    "### Построение точечного графика стоимостей заказов. Выводы и предположения."
   ]
  },
  {
   "cell_type": "code",
   "execution_count": 18,
   "metadata": {},
   "outputs": [
    {
     "name": "stdout",
     "output_type": "stream",
     "text": [
      "      transactionId     cost\n",
      "168       590470918  1294500\n",
      "1107     3936777065   202740\n",
      "49        192721366    93940\n",
      "188       666610489    92550\n",
      "1029     3668308183    86620\n"
     ]
    },
    {
     "data": {
      "text/plain": [
       "<matplotlib.collections.PathCollection at 0x7f4e5eb03910>"
      ]
     },
     "execution_count": 18,
     "metadata": {},
     "output_type": "execute_result"
    },
    {
     "data": {
      "image/png": "[encoded data removed]",
      "text/plain": [
       "<Figure size 1008x432 with 1 Axes>"
      ]
     },
     "metadata": {
      "needs_background": "light"
     },
     "output_type": "display_data"
    }
   ],
   "source": [
    "costByOrders = orders.groupby('transactionId', as_index=False).agg({'revenue':'sum'})\n",
    "costByOrders.columns = ['transactionId', 'cost']\n",
    "print(costByOrders.sort_values(by='cost', ascending=False).head())\n",
    "\n",
    "x_values = pd.Series(range(0, len(costByOrders['cost'])))\n",
    "plt.figure(figsize=(14,6))\n",
    "plt.xlabel(\"Пользователи\")\n",
    "plt.ylabel(\"Стоимость в млн. у.е\")\n",
    "plt.title(\"Точечный график стоимостей заказов.\")\n",
    "plt.scatter(x_values, costByOrders['cost']) "
   ]
  },
  {
   "cell_type": "code",
   "execution_count": 19,
   "metadata": {},
   "outputs": [
    {
     "data": {
      "text/plain": [
       "(-59.800000000000004, 1255.8, 0.0, 100000.0)"
      ]
     },
     "execution_count": 19,
     "metadata": {},
     "output_type": "execute_result"
    },
    {
     "data": {
      "image/png": "[encoded data removed]",
      "text/plain": [
       "<Figure size 1008x432 with 1 Axes>"
      ]
     },
     "metadata": {
      "needs_background": "light"
     },
     "output_type": "display_data"
    }
   ],
   "source": [
    "plt.figure(figsize=(14,6))\n",
    "plt.xlabel(\"Пользователи\")\n",
    "plt.ylabel(\"Стоимость\")\n",
    "plt.title(\"Точечный график стоимостей заказов без выбросов.\")\n",
    "plt.scatter(x_values, costByOrders['cost']) \n",
    "plt.axis(ymin=0, ymax=100000)"
   ]
  },
  {
   "cell_type": "markdown",
   "metadata": {},
   "source": [
    "всего 2 заказа превысило отметку в 100000 это явные анамалии"
   ]
  },
  {
   "cell_type": "markdown",
   "metadata": {},
   "source": [
    "### Подсчёт 95-й и 99-й перцентили стоимости заказов. Выбор границы для определения аномальных заказов."
   ]
  },
  {
   "cell_type": "code",
   "execution_count": 17,
   "metadata": {},
   "outputs": [
    {
     "name": "stdout",
     "output_type": "stream",
     "text": [
      "[28000.  58233.2]\n"
     ]
    }
   ],
   "source": [
    "print(np.percentile(costByOrders['cost'], [95, 99]))"
   ]
  },
  {
   "cell_type": "code",
   "execution_count": 18,
   "metadata": {},
   "outputs": [
    {
     "name": "stdout",
     "output_type": "stream",
     "text": [
      "transactionId    11\n",
      "cost             11\n",
      "dtype: int64\n"
     ]
    }
   ],
   "source": [
    "print(costByOrders.query('cost > 60000').count())"
   ]
  },
  {
   "cell_type": "markdown",
   "metadata": {},
   "source": [
    "Думаю отметку аномальности стоит оставить заказам более чем 60000, учитывая их количество мы немного потеряем "
   ]
  },
  {
   "cell_type": "markdown",
   "metadata": {},
   "source": [
    "### Подсчёт статистической значимости различий в среднем количестве заказов между группами по «сырым» данным. Выводы и предположения."
   ]
  },
  {
   "cell_type": "markdown",
   "metadata": {},
   "source": [
    "Так как нулевая гипотеза обычно предпалагает равенство двух совокупностей, а альтернативная ей противоположное то:\n",
    "\n",
    "- Нулевая гипотеза - Статистических различий в среднем количестве заказов по «сырым» данным между группами нет\n",
    "- Альтернативная гипотеза - Статистических различия в среднем количестве заказов по «сырым» данным между группами присутствуют"
   ]
  },
  {
   "cell_type": "code",
   "execution_count": 19,
   "metadata": {},
   "outputs": [
    {
     "name": "stdout",
     "output_type": "stream",
     "text": [
      "        date  ordersPerDateA  revenuePerDateA  ordersPerDateB  \\\n",
      "0 2019-08-01              24           148579              21   \n",
      "1 2019-08-02              20            93822              24   \n",
      "2 2019-08-03              24           112473              16   \n",
      "3 2019-08-04              16            70825              17   \n",
      "4 2019-08-05              25           124218              23   \n",
      "\n",
      "   revenuePerDateB  ordersCummulativeA  revenueCummulativeA  \\\n",
      "0           101217                  24               148579   \n",
      "1           165531                  44               242401   \n",
      "2           114248                  68               354874   \n",
      "3           108571                  84               425699   \n",
      "4            92428                 109               549917   \n",
      "\n",
      "   ordersCummulativeB  revenueCummulativeB  visitorsPerDateA  \\\n",
      "0                  21               101217               719   \n",
      "1                  45               266748               619   \n",
      "2                  61               380996               507   \n",
      "3                  78               489567               717   \n",
      "4                 101               581995               756   \n",
      "\n",
      "   visitorsPerDateB  visitorsCummulativeA  visitorsCummulativeB  \n",
      "0               713                   719                   713  \n",
      "1               581                  1338                  1294  \n",
      "2               509                  1845                  1803  \n",
      "3               770                  2562                  2573  \n",
      "4               707                  3318                  3280  \n",
      "p-значение:  0.01679\n",
      "Отвергаем нулевую гипотезу статистические различия в среднем количестве заказов между группами по «сырым» данным присутствуют\n",
      "Относительное различие в среднем количестве заказов между группами по «сырым» данным составляет 13.81%\n"
     ]
    }
   ],
   "source": [
    "visitorsADaily = visitors[visitors['group'] == 'A'][['date', 'visitors']]\n",
    "visitorsADaily.columns = ['date', 'visitorsPerDateA']\n",
    "\n",
    "visitorsACummulative = visitorsADaily.apply(\n",
    "    lambda x: visitorsADaily[visitorsADaily['date'] <= x['date']].agg(\n",
    "        {'date': 'max', 'visitorsPerDateA': 'sum'}\n",
    "    ),\n",
    "    axis=1,\n",
    ")\n",
    "visitorsACummulative.columns = ['date', 'visitorsCummulativeA']\n",
    "\n",
    "visitorsBDaily = visitors[visitors['group'] == 'B'][['date', 'visitors']]\n",
    "visitorsBDaily.columns = ['date', 'visitorsPerDateB']\n",
    "\n",
    "visitorsBCummulative = visitorsBDaily.apply(\n",
    "    lambda x: visitorsBDaily[visitorsBDaily['date'] <= x['date']].agg(\n",
    "        {'date': 'max', 'visitorsPerDateB': 'sum'}\n",
    "    ),\n",
    "    axis=1,\n",
    ")\n",
    "visitorsBCummulative.columns = ['date', 'visitorsCummulativeB']\n",
    "\n",
    "ordersADaily = (\n",
    "    orders[orders['group'] == 'A'][['date', 'transactionId', 'visitorId', 'revenue']]\n",
    "    .groupby('date', as_index=False)\n",
    "    .agg({'transactionId': pd.Series.nunique, 'revenue': 'sum'})\n",
    ")\n",
    "ordersADaily.columns = ['date', 'ordersPerDateA', 'revenuePerDateA']\n",
    "\n",
    "ordersACummulative = ordersADaily.apply(\n",
    "    lambda x: ordersADaily[ordersADaily['date'] <= x['date']].agg(\n",
    "        {'date': 'max', 'ordersPerDateA': 'sum', 'revenuePerDateA': 'sum'}\n",
    "    ),\n",
    "    axis=1,\n",
    ").sort_values(by=['date'])\n",
    "ordersACummulative.columns = [\n",
    "    'date',\n",
    "    'ordersCummulativeA',\n",
    "    'revenueCummulativeA',\n",
    "]\n",
    "\n",
    "ordersBDaily = (\n",
    "    orders[orders['group'] == 'B'][['date', 'transactionId', 'visitorId', 'revenue']]\n",
    "    .groupby('date', as_index=False)\n",
    "    .agg({'transactionId': pd.Series.nunique, 'revenue': 'sum'})\n",
    ")\n",
    "ordersBDaily.columns = ['date', 'ordersPerDateB', 'revenuePerDateB']\n",
    "\n",
    "ordersBCummulative = ordersBDaily.apply(\n",
    "    lambda x: ordersBDaily[ordersBDaily['date'] <= x['date']].agg(\n",
    "        {'date': 'max', 'ordersPerDateB': 'sum', 'revenuePerDateB': 'sum'}\n",
    "    ),\n",
    "    axis=1,\n",
    ").sort_values(by=['date'])\n",
    "ordersBCummulative.columns = [\n",
    "    'date',\n",
    "    'ordersCummulativeB',\n",
    "    'revenueCummulativeB',\n",
    "]\n",
    "\n",
    "data = (\n",
    "    ordersADaily.merge(\n",
    "        ordersBDaily, left_on='date', right_on='date', how='left'\n",
    "    )\n",
    "    .merge(ordersACummulative, left_on='date', right_on='date', how='left')\n",
    "    .merge(ordersBCummulative, left_on='date', right_on='date', how='left')\n",
    "    .merge(visitorsADaily, left_on='date', right_on='date', how='left')\n",
    "    .merge(visitorsBDaily, left_on='date', right_on='date', how='left')\n",
    "    .merge(visitorsACummulative, left_on='date', right_on='date', how='left')\n",
    "    .merge(visitorsBCummulative, left_on='date', right_on='date', how='left')\n",
    ")\n",
    "\n",
    "print(data.head(5))\n",
    "\n",
    "ordersByUsersA = (\n",
    "    orders[orders['group'] == 'A']\n",
    "    .groupby('visitorId', as_index=False)\n",
    "    .agg({'transactionId': pd.Series.nunique})\n",
    ")\n",
    "ordersByUsersA.columns = ['visitorId', 'orders']\n",
    "ordersByUsersB = (\n",
    "    orders[orders['group'] == 'B']\n",
    "    .groupby('visitorId', as_index=False)\n",
    "    .agg({'transactionId': pd.Series.nunique})\n",
    ")\n",
    "ordersByUsersB.columns = ['visitorId', 'orders']\n",
    "sampleA = pd.concat([ordersByUsersA['orders'],pd.Series(0, index=np.arange(data['visitorsPerDateA'].sum() - len(ordersByUsersA['orders'])), name='orders')],axis=0)\n",
    "\n",
    "sampleB = pd.concat([ordersByUsersB['orders'],pd.Series(0, index=np.arange(data['visitorsPerDateB'].sum() - len(ordersByUsersB['orders'])), name='orders')],axis=0) \n",
    "alpha = 0.05\n",
    "p_value = stats.mannwhitneyu(sampleA, sampleB)[1]\n",
    "print('p-значение: ', \"{0:.5f}\".format(p_value))\n",
    "if p_value < alpha:\n",
    "    print('Отвергаем нулевую гипотезу статистические различия в среднем количестве заказов между группами по «сырым» данным присутствуют')\n",
    "else:\n",
    "    print('Не получилось отвергнуть нулевую гипотезу, статистических различий в среднем количестве заказов между группами по «сырым» данным нет') \n",
    "print('''Относительное различие в среднем количестве заказов между группами по «сырым» данным составляет''', \"{0:.2%}\".format(sampleB.mean() / sampleA.mean() - 1))\n"
   ]
  },
  {
   "cell_type": "markdown",
   "metadata": {},
   "source": [
    "Отвергаем нулевую гипотезу так как p-value < 0.05, анализ по сырым данным говорит что в прирост среднего количества заказов группы В к группе А по \"сырым\" данным\n",
    "составляет 13,8%\n"
   ]
  },
  {
   "cell_type": "markdown",
   "metadata": {},
   "source": [
    "### Подсчёт статистической значимости различий в среднем чеке заказа между группами по «сырым» данным. Выводы и предположения."
   ]
  },
  {
   "cell_type": "markdown",
   "metadata": {},
   "source": [
    "- Нулевая гипотеза - Статистических различий в среднем чеке заказа между группами по «сырым» данным нет\n",
    "- Альтернативная гипотеза - Статистических различия в среднем чеке заказа между группами по «сырым» данным присутствуют"
   ]
  },
  {
   "cell_type": "code",
   "execution_count": 20,
   "metadata": {},
   "outputs": [
    {
     "name": "stdout",
     "output_type": "stream",
     "text": [
      "p-значение:  0.72929\n",
      "Не получилось отвергнуть нулевую гипотезу, статистических различий в среднем чеке между группами по «сырым» данным нет\n",
      "Относительное различие  в среднем чеке заказа между группами по «сырым» данным составляет 25.87%\n"
     ]
    }
   ],
   "source": [
    "\n",
    "p_value_2 = stats.mannwhitneyu(orders[orders['group']=='A']['revenue'], orders[orders['group']=='B']['revenue'])[1]\n",
    "print('p-значение: ', \"{0:.5f}\".format(p_value_2))\n",
    "if p_value_2 < alpha:\n",
    "    print('Отвергаем нулевую гипотезу статистические различия в среднем чеке между группами по «сырым» данным присутствуют')\n",
    "else:\n",
    "    print('Не получилось отвергнуть нулевую гипотезу, статистических различий в среднем чеке между группами по «сырым» данным нет') \n",
    "print('''Относительное различие  в среднем чеке заказа между группами по «сырым» данным составляет''', '{0:.2%}'.format(orders[orders['group']=='B']['revenue'].mean()/orders[orders['group']=='A']['revenue'].mean()-1))\n"
   ]
  },
  {
   "cell_type": "markdown",
   "metadata": {},
   "source": [
    "p-value > 0.05 стистических различий нет, относительное различие группы Б по отношению к А > 25%, нужно разобрать анамалии"
   ]
  },
  {
   "cell_type": "markdown",
   "metadata": {},
   "source": [
    "### Подсчёт статистической значимости различий в среднем количестве заказов между группами по «очищенным» данным. Выводы и предположения."
   ]
  },
  {
   "cell_type": "markdown",
   "metadata": {},
   "source": [
    "- Нулевая гипотеза - Статистических различий в среднем количестве заказов по «очищённым» данным между группами нет\n",
    "- Альтернативная гипотеза - Статистических различия в среднем количестве заказов по «очищённым» данным между группами присутствуют"
   ]
  },
  {
   "cell_type": "code",
   "execution_count": 21,
   "metadata": {},
   "outputs": [
    {
     "name": "stdout",
     "output_type": "stream",
     "text": [
      "p-значение:  0.01282\n",
      "Отвергаем нулевую гипотезу статистические различия в среднем количестве заказов между группами по «очищенным» данным присутствуют\n",
      "Относительное различие в среднем количестве заказов между группами по «очищенным» данным состовляет 15.288%\n"
     ]
    }
   ],
   "source": [
    "usersWithManyOrders = pd.concat(\n",
    "    [\n",
    "        ordersByUsersA[ordersByUsersA['orders'] > 3]['visitorId'],\n",
    "        ordersByUsersB[ordersByUsersB['orders'] > 3]['visitorId'],\n",
    "    ],\n",
    "    axis=0,\n",
    ")\n",
    "usersWithExpensiveOrders = orders[orders['revenue'] > 60000]['visitorId']\n",
    "abnormalUsers = (\n",
    "    pd.concat([usersWithManyOrders, usersWithExpensiveOrders], axis=0)\n",
    "    .drop_duplicates()\n",
    "    .sort_values())\n",
    "sampleAFiltered = pd.concat(\n",
    "    [\n",
    "        ordersByUsersA[\n",
    "            np.logical_not(ordersByUsersA['visitorId'].isin(abnormalUsers))\n",
    "        ]['orders'],\n",
    "        pd.Series(\n",
    "            0,\n",
    "            index=np.arange(\n",
    "                data['visitorsPerDateA'].sum() - len(ordersByUsersA['orders'])\n",
    "            ),\n",
    "            name='orders',\n",
    "        ),\n",
    "    ],\n",
    "    axis=0,\n",
    ")\n",
    "\n",
    "sampleBFiltered = pd.concat(\n",
    "    [\n",
    "        ordersByUsersB[\n",
    "            np.logical_not(ordersByUsersB['visitorId'].isin(abnormalUsers))\n",
    "        ]['orders'],\n",
    "        pd.Series(\n",
    "            0,\n",
    "            index=np.arange(\n",
    "                data['visitorsPerDateB'].sum() - len(ordersByUsersB['orders'])\n",
    "            ),\n",
    "            name='orders',\n",
    "        ),\n",
    "    ],\n",
    "    axis=0,\n",
    ") \n",
    "p_value_3 = stats.mannwhitneyu(sampleAFiltered, sampleBFiltered)[1]\n",
    "print('p-значение: ', \"{0:.5f}\".format(p_value_3))\n",
    "if p_value_3 < alpha:\n",
    "    print('Отвергаем нулевую гипотезу статистические различия в среднем количестве заказов между группами по «очищенным» данным присутствуют')\n",
    "else:\n",
    "    print('Не получилось отвергнуть нулевую гипотезу, статистических различий в среднем количестве заказов между группами по «очищенным» данным нет')\n",
    "print('''Относительное различие в среднем количестве заказов между группами по «очищенным» данным состовляет'''' {0:.3%}'.format(sampleBFiltered.mean()/sampleAFiltered.mean()-1)) \n"
   ]
  },
  {
   "cell_type": "markdown",
   "metadata": {},
   "source": [
    "p-value < 0.05 стистические различия в среднем количестве заказов есть, относительное различие группы Б по отношению к А > 15%"
   ]
  },
  {
   "cell_type": "markdown",
   "metadata": {},
   "source": [
    "### Подсчёт статистической значимости различий в среднем чеке заказа между группами по «очищенным» данным. Выводы и предположения."
   ]
  },
  {
   "cell_type": "code",
   "execution_count": 70,
   "metadata": {},
   "outputs": [
    {
     "name": "stdout",
     "output_type": "stream",
     "text": [
      "p-значение:  0.92077\n",
      "Не получилось отвергнуть нулевую гипотезу, статистических различий в среднем чеке между группами по «очищенным» данным нет\n",
      "Относительное различие в среднем чеке заказа между группами по «очищенным» данным состовляет -0.053%\n"
     ]
    }
   ],
   "source": [
    "p_value_4 = stats.mannwhitneyu(\n",
    "            orders[\n",
    "                np.logical_and(\n",
    "                    orders['group'] == 'A',\n",
    "                    np.logical_not(orders['visitorId'].isin(abnormalUsers)),\n",
    "                )\n",
    "            ]['revenue'],\n",
    "            orders[\n",
    "                np.logical_and(\n",
    "                    orders['group'] == 'B',\n",
    "                    np.logical_not(orders['visitorId'].isin(abnormalUsers)),\n",
    "                )\n",
    "            ]['revenue'],\n",
    "        )[1]\n",
    "print('p-значение: ', \"{0:.5f}\".format(p_value_4))\n",
    "if p_value_4 < alpha:\n",
    "    print('Отвергаем нулевую гипотезу статистические различия в среднем чеке между группами по «очищенным» данным присутствуют')\n",
    "else:\n",
    "    print('Не получилось отвергнуть нулевую гипотезу, статистических различий в среднем чеке между группами по «очищенным» данным нет') \n",
    "print('''Относительное различие в среднем чеке заказа между группами по «очищенным» данным состовляет''',  \n",
    "    \"{0:.3%}\".format(\n",
    "        orders[\n",
    "            np.logical_and(\n",
    "                orders['group'] == 'B',\n",
    "                np.logical_not(orders['visitorId'].isin(abnormalUsers)),\n",
    "            )\n",
    "        ]['revenue'].mean()\n",
    "        / orders[\n",
    "            np.logical_and(\n",
    "                orders['group'] == 'A',\n",
    "                np.logical_not(orders['visitorId'].isin(abnormalUsers)),\n",
    "            )\n",
    "        ]['revenue'].mean()\n",
    "        - 1\n",
    "    )\n",
    ") "
   ]
  },
  {
   "cell_type": "markdown",
   "metadata": {},
   "source": [
    "После удаления аномальных данных p-value > 0.05 статистических различий нет, относительное различие группы Б по отношению к А составляет всего 0.053% при этом учитывая большое p-value, можно сделать вывод что различий по среднему чеку между группами нет"
   ]
  },
  {
   "cell_type": "markdown",
   "metadata": {},
   "source": [
    "### Решение по результатам теста"
   ]
  },
  {
   "cell_type": "markdown",
   "metadata": {},
   "source": [
    "По результатам теста, мы приняли решение **остановить тест зафиксировать победу группы Б** , хотя каких либо статистических отличий, так и значимых относительных по среднему чеку по \"очищённым\" данным между группами нет, но стистические различия в среднем количестве заказов есть, относительное различие группы Б по отношению к А > 15% по количеству заказов"
   ]
  },
  {
   "cell_type": "markdown",
   "metadata": {},
   "source": [
    "# Общий вывод"
   ]
  },
  {
   "cell_type": "markdown",
   "metadata": {},
   "source": [
    "- На основе проведенной работы можно сделать общий вывод.Согласно фреймворку ICE для приоритизации гипотез наиболее приоритетно для начала запустить акцию дающий скидку на товар, затем добавить 2 новых канала привлечения трафика, добавить форму подписки на все основные страницы, сделать банеры с актуальной информацией, затем сделать блок рекомендаций товаров на сайте. Согласно фреймворку RICE для приоритизации гипотез наиболее приоритетно для начала добавить форму подписки на основные страницы, затем добавить блок рекомендаций, добавить новые каналы привлечения и показатель на главной странице банер с актуальной информацией. Поскольку метод приотизации гипотез RICE в отличии от ICE учитывает охват пользователей(**reach**), кардинально изменились приоритеты например **гипотеза гласящая о необходимости добавить форму подписки на основные страницы** выбилась в лидеры так обладает параметром **reach** равном 10 и опережает **гипотезу о необходимости запустить акцию, дающую скидку на товар** которая является самой приоритетной при анализе методом ICE, но не попала в приоритет обладает параметром **reach** равному 1.\n",
    "- Касательно анализа A/B теста файлы данные на тест без пропусков, единственное что было сделано по преобработке это приведение столбцов с датой к нужному типу данных. На всех представставленных графиках кумулятивного среднего чека  и количества заказов по группам лидирует группа Б, но учитывая не стабильный график, выводы делать рано необходимо вычислить анамалии, при подсчёте  \n",
    "95-й и 99-й перцентиля количества и стоимости заказов было выявлено что клиенты имеющие более 3 заказов, на сумму более 60000,  являются анамальными и малозначительными поэтому при дальнейшем анализе и при расчете статистической различия их исключили, при расчете по \"сырым\" данным мы получили относительную разницу среднего чека в более чем 25%, при этом статистического различия обнаружено не было, что не скажешь про статистические различия в среднем количестве заказов между группами они есть как и относительная разница в более 13% что только подтверждается при очистке от анамалий, при этом относительная разница среднего чека минимизируется, статистическая разница так же не появляется. На основании этого можно сделать вывод что средний чек между группами не отличается, зато есть статистическая и относительная разница в количестве заказов, здесь лидер группа Б. Тест можно признать успешным "
   ]
  }
 ],
 "metadata": {
  "ExecuteTimeLog": [
   {
    "duration": 460,
    "start_time": "2022-11-28T03:00:50.879Z"
   },
   {
    "duration": 35,
    "start_time": "2022-11-28T03:04:19.239Z"
   },
   {
    "duration": 27,
    "start_time": "2022-11-28T03:08:15.342Z"
   },
   {
    "duration": 9,
    "start_time": "2022-11-28T03:08:15.370Z"
   },
   {
    "duration": 27,
    "start_time": "2022-11-28T03:11:14.891Z"
   },
   {
    "duration": 30,
    "start_time": "2022-11-28T03:11:24.251Z"
   },
   {
    "duration": 29,
    "start_time": "2022-11-28T03:20:15.061Z"
   },
   {
    "duration": 181,
    "start_time": "2022-11-28T03:23:37.049Z"
   },
   {
    "duration": 110,
    "start_time": "2022-11-28T03:23:50.129Z"
   },
   {
    "duration": 559,
    "start_time": "2022-11-28T03:28:00.177Z"
   },
   {
    "duration": 91,
    "start_time": "2022-11-28T03:45:03.629Z"
   },
   {
    "duration": 925,
    "start_time": "2022-11-28T15:12:50.107Z"
   },
   {
    "duration": 72,
    "start_time": "2022-11-28T15:13:11.450Z"
   },
   {
    "duration": 16,
    "start_time": "2022-11-28T15:13:13.050Z"
   },
   {
    "duration": 16,
    "start_time": "2022-11-28T15:13:13.850Z"
   },
   {
    "duration": 453,
    "start_time": "2022-11-28T15:13:16.341Z"
   },
   {
    "duration": 131,
    "start_time": "2022-11-28T15:13:46.816Z"
   },
   {
    "duration": 394,
    "start_time": "2022-11-28T15:19:24.485Z"
   },
   {
    "duration": 108,
    "start_time": "2022-11-28T15:19:54.502Z"
   },
   {
    "duration": 109,
    "start_time": "2022-11-28T15:25:03.916Z"
   },
   {
    "duration": 55,
    "start_time": "2022-11-28T21:07:24.898Z"
   },
   {
    "duration": 1283,
    "start_time": "2022-11-28T21:21:59.352Z"
   },
   {
    "duration": 67,
    "start_time": "2022-11-28T21:22:14.383Z"
   },
   {
    "duration": 10,
    "start_time": "2022-11-28T21:22:15.818Z"
   },
   {
    "duration": 9,
    "start_time": "2022-11-28T21:22:17.002Z"
   },
   {
    "duration": 182,
    "start_time": "2022-11-28T21:22:19.516Z"
   },
   {
    "duration": 106,
    "start_time": "2022-11-28T21:28:12.105Z"
   },
   {
    "duration": 99,
    "start_time": "2022-11-28T21:31:48.789Z"
   },
   {
    "duration": 104,
    "start_time": "2022-11-28T21:38:50.909Z"
   },
   {
    "duration": 105,
    "start_time": "2022-11-28T21:39:40.407Z"
   },
   {
    "duration": 30,
    "start_time": "2022-11-28T21:43:21.205Z"
   },
   {
    "duration": 8,
    "start_time": "2022-11-28T21:43:21.237Z"
   },
   {
    "duration": 9,
    "start_time": "2022-11-28T21:43:21.409Z"
   },
   {
    "duration": 97,
    "start_time": "2022-11-28T21:43:21.420Z"
   },
   {
    "duration": 0,
    "start_time": "2022-11-28T21:43:21.519Z"
   },
   {
    "duration": 104,
    "start_time": "2022-11-28T22:06:04.981Z"
   },
   {
    "duration": 337,
    "start_time": "2022-11-28T22:22:34.302Z"
   },
   {
    "duration": 331,
    "start_time": "2022-11-28T22:34:37.570Z"
   },
   {
    "duration": 16,
    "start_time": "2022-11-28T22:35:33.517Z"
   },
   {
    "duration": 296,
    "start_time": "2022-11-28T22:39:26.694Z"
   },
   {
    "duration": 353,
    "start_time": "2022-11-28T22:39:30.894Z"
   },
   {
    "duration": 312,
    "start_time": "2022-11-28T23:11:49.309Z"
   },
   {
    "duration": 332,
    "start_time": "2022-11-28T23:11:55.969Z"
   },
   {
    "duration": 310,
    "start_time": "2022-11-28T23:12:04.529Z"
   },
   {
    "duration": 486,
    "start_time": "2022-11-28T23:12:44.527Z"
   },
   {
    "duration": 47,
    "start_time": "2022-12-02T10:39:26.370Z"
   },
   {
    "duration": 55,
    "start_time": "2022-12-09T11:14:53.769Z"
   },
   {
    "duration": 8,
    "start_time": "2022-12-09T11:15:01.129Z"
   },
   {
    "duration": 8,
    "start_time": "2022-12-09T11:21:47.081Z"
   },
   {
    "duration": 8,
    "start_time": "2022-12-09T11:21:54.700Z"
   },
   {
    "duration": 864,
    "start_time": "2022-12-09T11:22:03.681Z"
   },
   {
    "duration": 84,
    "start_time": "2022-12-09T11:22:13.769Z"
   },
   {
    "duration": 213,
    "start_time": "2022-12-09T11:22:18.065Z"
   },
   {
    "duration": 12,
    "start_time": "2022-12-09T11:22:22.847Z"
   },
   {
    "duration": 11,
    "start_time": "2022-12-09T11:22:25.753Z"
   },
   {
    "duration": 592,
    "start_time": "2022-12-09T11:22:28.280Z"
   },
   {
    "duration": 201,
    "start_time": "2022-12-09T11:22:31.671Z"
   },
   {
    "duration": 327,
    "start_time": "2022-12-09T11:23:10.181Z"
   },
   {
    "duration": 248,
    "start_time": "2022-12-09T11:24:31.512Z"
   },
   {
    "duration": 279,
    "start_time": "2022-12-09T11:27:36.992Z"
   },
   {
    "duration": 7,
    "start_time": "2022-12-09T11:28:50.700Z"
   },
   {
    "duration": 278,
    "start_time": "2022-12-09T11:31:56.066Z"
   },
   {
    "duration": 15,
    "start_time": "2022-12-09T11:43:32.555Z"
   },
   {
    "duration": 16,
    "start_time": "2022-12-09T11:45:56.620Z"
   },
   {
    "duration": 13,
    "start_time": "2022-12-09T11:46:12.357Z"
   },
   {
    "duration": 11,
    "start_time": "2022-12-09T11:47:11.238Z"
   },
   {
    "duration": 14,
    "start_time": "2022-12-09T11:48:00.026Z"
   },
   {
    "duration": 12,
    "start_time": "2022-12-09T11:48:04.953Z"
   },
   {
    "duration": 13,
    "start_time": "2022-12-09T11:48:50.738Z"
   },
   {
    "duration": 1134,
    "start_time": "2022-12-09T11:48:57.687Z"
   },
   {
    "duration": 12,
    "start_time": "2022-12-09T11:49:19.416Z"
   },
   {
    "duration": 1196,
    "start_time": "2022-12-09T11:50:40.449Z"
   },
   {
    "duration": 1156,
    "start_time": "2022-12-09T11:51:06.015Z"
   },
   {
    "duration": 1130,
    "start_time": "2022-12-09T11:51:15.959Z"
   },
   {
    "duration": 153,
    "start_time": "2022-12-09T11:52:13.087Z"
   },
   {
    "duration": 6,
    "start_time": "2022-12-09T11:53:21.463Z"
   },
   {
    "duration": 5,
    "start_time": "2022-12-09T11:54:13.530Z"
   },
   {
    "duration": 1541,
    "start_time": "2022-12-09T12:35:51.051Z"
   },
   {
    "duration": 1123,
    "start_time": "2022-12-09T12:36:05.677Z"
   },
   {
    "duration": 1388,
    "start_time": "2022-12-09T12:36:30.338Z"
   },
   {
    "duration": 143,
    "start_time": "2022-12-09T12:36:51.666Z"
   },
   {
    "duration": 4,
    "start_time": "2022-12-09T12:38:52.136Z"
   },
   {
    "duration": 153,
    "start_time": "2022-12-09T12:39:10.436Z"
   },
   {
    "duration": 1163,
    "start_time": "2022-12-09T12:39:37.717Z"
   },
   {
    "duration": 4,
    "start_time": "2022-12-09T12:39:47.790Z"
   },
   {
    "duration": 550,
    "start_time": "2022-12-09T12:42:00.697Z"
   },
   {
    "duration": 49,
    "start_time": "2022-12-09T14:30:32.341Z"
   },
   {
    "duration": 1381,
    "start_time": "2022-12-09T14:30:42.082Z"
   },
   {
    "duration": 82,
    "start_time": "2022-12-09T14:30:50.252Z"
   },
   {
    "duration": 29,
    "start_time": "2022-12-09T14:30:56.767Z"
   },
   {
    "duration": 12,
    "start_time": "2022-12-09T14:31:01.982Z"
   },
   {
    "duration": 205,
    "start_time": "2022-12-09T14:31:28.340Z"
   },
   {
    "duration": 11,
    "start_time": "2022-12-09T14:31:33.511Z"
   },
   {
    "duration": 16,
    "start_time": "2022-12-09T14:33:19.105Z"
   },
   {
    "duration": 17,
    "start_time": "2022-12-09T14:51:51.494Z"
   },
   {
    "duration": 1290,
    "start_time": "2022-12-09T14:54:44.854Z"
   },
   {
    "duration": 303,
    "start_time": "2022-12-09T16:28:29.379Z"
   },
   {
    "duration": 150,
    "start_time": "2022-12-09T16:33:45.772Z"
   },
   {
    "duration": 160,
    "start_time": "2022-12-09T16:38:25.744Z"
   },
   {
    "duration": 336,
    "start_time": "2022-12-09T16:39:42.569Z"
   },
   {
    "duration": 55,
    "start_time": "2022-12-10T14:51:25.154Z"
   },
   {
    "duration": 10,
    "start_time": "2022-12-10T14:51:31.555Z"
   },
   {
    "duration": 1454,
    "start_time": "2022-12-10T14:51:37.359Z"
   },
   {
    "duration": 15,
    "start_time": "2022-12-10T14:51:38.818Z"
   },
   {
    "duration": 35,
    "start_time": "2022-12-10T14:51:38.836Z"
   },
   {
    "duration": 201,
    "start_time": "2022-12-10T14:51:40.912Z"
   },
   {
    "duration": 628,
    "start_time": "2022-12-10T14:51:41.504Z"
   },
   {
    "duration": 186,
    "start_time": "2022-12-10T14:51:42.577Z"
   },
   {
    "duration": 355,
    "start_time": "2022-12-10T14:51:43.397Z"
   },
   {
    "duration": 186,
    "start_time": "2022-12-10T14:51:43.904Z"
   },
   {
    "duration": 252,
    "start_time": "2022-12-10T14:51:44.477Z"
   },
   {
    "duration": 147,
    "start_time": "2022-12-10T14:51:45.236Z"
   },
   {
    "duration": 5,
    "start_time": "2022-12-10T14:51:45.866Z"
   },
   {
    "duration": 138,
    "start_time": "2022-12-10T14:51:46.354Z"
   },
   {
    "duration": 5,
    "start_time": "2022-12-10T14:51:46.953Z"
   },
   {
    "duration": 430,
    "start_time": "2022-12-10T14:51:47.419Z"
   },
   {
    "duration": 13,
    "start_time": "2022-12-10T14:51:48.079Z"
   },
   {
    "duration": 67,
    "start_time": "2022-12-10T14:51:49.483Z"
   },
   {
    "duration": 77,
    "start_time": "2022-12-10T14:55:54.957Z"
   },
   {
    "duration": 1101,
    "start_time": "2022-12-10T14:56:23.700Z"
   },
   {
    "duration": 42,
    "start_time": "2022-12-10T14:57:05.878Z"
   },
   {
    "duration": 11,
    "start_time": "2022-12-10T14:58:16.259Z"
   },
   {
    "duration": 70,
    "start_time": "2022-12-10T15:05:20.574Z"
   },
   {
    "duration": 6,
    "start_time": "2022-12-10T15:15:47.089Z"
   },
   {
    "duration": 72,
    "start_time": "2022-12-10T15:17:03.450Z"
   },
   {
    "duration": 126,
    "start_time": "2022-12-10T15:19:46.046Z"
   },
   {
    "duration": 7,
    "start_time": "2022-12-10T15:23:58.296Z"
   },
   {
    "duration": 8,
    "start_time": "2022-12-10T15:25:29.161Z"
   },
   {
    "duration": 7,
    "start_time": "2022-12-10T15:25:37.174Z"
   },
   {
    "duration": 7,
    "start_time": "2022-12-10T15:25:40.563Z"
   },
   {
    "duration": 8,
    "start_time": "2022-12-10T15:25:44.150Z"
   },
   {
    "duration": 11,
    "start_time": "2022-12-10T15:25:52.010Z"
   },
   {
    "duration": 7,
    "start_time": "2022-12-10T15:26:10.389Z"
   },
   {
    "duration": 9,
    "start_time": "2022-12-10T15:26:21.175Z"
   },
   {
    "duration": 7,
    "start_time": "2022-12-10T15:26:34.304Z"
   },
   {
    "duration": 7,
    "start_time": "2022-12-10T15:27:34.566Z"
   },
   {
    "duration": 9,
    "start_time": "2022-12-10T15:27:39.156Z"
   },
   {
    "duration": 7,
    "start_time": "2022-12-10T15:27:44.779Z"
   },
   {
    "duration": 8,
    "start_time": "2022-12-10T15:27:50.781Z"
   },
   {
    "duration": 7,
    "start_time": "2022-12-10T15:27:57.755Z"
   },
   {
    "duration": 7,
    "start_time": "2022-12-10T15:28:00.579Z"
   },
   {
    "duration": 9,
    "start_time": "2022-12-10T15:28:04.351Z"
   },
   {
    "duration": 9,
    "start_time": "2022-12-10T15:28:14.154Z"
   },
   {
    "duration": 10,
    "start_time": "2022-12-10T15:29:44.296Z"
   },
   {
    "duration": 8,
    "start_time": "2022-12-10T15:32:27.220Z"
   },
   {
    "duration": 8,
    "start_time": "2022-12-10T15:32:32.546Z"
   },
   {
    "duration": 7,
    "start_time": "2022-12-10T15:32:39.567Z"
   },
   {
    "duration": 35,
    "start_time": "2022-12-10T15:34:21.114Z"
   },
   {
    "duration": 11,
    "start_time": "2022-12-10T15:34:26.901Z"
   },
   {
    "duration": 75,
    "start_time": "2022-12-10T16:01:53.599Z"
   },
   {
    "duration": 1269,
    "start_time": "2022-12-10T16:11:33.099Z"
   },
   {
    "duration": 1210,
    "start_time": "2022-12-10T16:11:58.648Z"
   },
   {
    "duration": 16,
    "start_time": "2022-12-10T16:12:07.297Z"
   },
   {
    "duration": 92,
    "start_time": "2022-12-10T16:19:35.503Z"
   },
   {
    "duration": 1356,
    "start_time": "2022-12-10T16:51:07.502Z"
   },
   {
    "duration": 10,
    "start_time": "2022-12-10T16:51:08.861Z"
   },
   {
    "duration": 8,
    "start_time": "2022-12-10T16:51:08.873Z"
   },
   {
    "duration": 188,
    "start_time": "2022-12-10T16:51:08.884Z"
   },
   {
    "duration": 525,
    "start_time": "2022-12-10T16:51:09.074Z"
   },
   {
    "duration": 181,
    "start_time": "2022-12-10T16:51:09.600Z"
   },
   {
    "duration": 361,
    "start_time": "2022-12-10T16:51:09.783Z"
   },
   {
    "duration": 203,
    "start_time": "2022-12-10T16:51:10.146Z"
   },
   {
    "duration": 260,
    "start_time": "2022-12-10T16:51:10.351Z"
   },
   {
    "duration": 135,
    "start_time": "2022-12-10T16:51:10.613Z"
   },
   {
    "duration": 5,
    "start_time": "2022-12-10T16:51:10.750Z"
   },
   {
    "duration": 12,
    "start_time": "2022-12-10T16:51:10.756Z"
   },
   {
    "duration": 142,
    "start_time": "2022-12-10T16:51:10.769Z"
   },
   {
    "duration": 12,
    "start_time": "2022-12-10T16:51:10.912Z"
   },
   {
    "duration": 9,
    "start_time": "2022-12-10T16:51:10.925Z"
   },
   {
    "duration": 366,
    "start_time": "2022-12-10T16:51:10.935Z"
   },
   {
    "duration": 19,
    "start_time": "2022-12-10T16:51:11.303Z"
   },
   {
    "duration": 32,
    "start_time": "2022-12-10T16:51:11.323Z"
   },
   {
    "duration": 12,
    "start_time": "2022-12-10T16:51:11.357Z"
   },
   {
    "duration": 1384,
    "start_time": "2022-12-11T13:41:56.559Z"
   },
   {
    "duration": 1213,
    "start_time": "2022-12-11T13:42:49.093Z"
   },
   {
    "duration": 12,
    "start_time": "2022-12-11T13:43:42.123Z"
   },
   {
    "duration": 36,
    "start_time": "2022-12-11T13:45:58.853Z"
   },
   {
    "duration": 33,
    "start_time": "2022-12-11T13:46:38.690Z"
   },
   {
    "duration": 1186,
    "start_time": "2022-12-11T13:47:34.600Z"
   },
   {
    "duration": 13,
    "start_time": "2022-12-11T13:47:53.200Z"
   },
   {
    "duration": 30,
    "start_time": "2022-12-11T14:10:39.705Z"
   },
   {
    "duration": 30,
    "start_time": "2022-12-11T14:10:48.930Z"
   },
   {
    "duration": 29,
    "start_time": "2022-12-11T14:11:26.698Z"
   },
   {
    "duration": 31,
    "start_time": "2022-12-11T14:16:53.185Z"
   },
   {
    "duration": 9,
    "start_time": "2022-12-11T14:17:29.912Z"
   },
   {
    "duration": 35,
    "start_time": "2022-12-11T14:21:11.446Z"
   },
   {
    "duration": 11,
    "start_time": "2022-12-11T14:21:41.185Z"
   },
   {
    "duration": 12,
    "start_time": "2022-12-11T14:21:48.415Z"
   },
   {
    "duration": 32,
    "start_time": "2022-12-11T14:52:50.253Z"
   },
   {
    "duration": 33,
    "start_time": "2022-12-11T14:53:00.730Z"
   },
   {
    "duration": 77,
    "start_time": "2022-12-12T04:55:53.215Z"
   },
   {
    "duration": 50,
    "start_time": "2022-12-12T05:00:27.676Z"
   },
   {
    "duration": 1453,
    "start_time": "2022-12-12T05:00:38.223Z"
   },
   {
    "duration": 99,
    "start_time": "2022-12-12T05:00:39.679Z"
   },
   {
    "duration": 13,
    "start_time": "2022-12-12T05:00:43.400Z"
   },
   {
    "duration": 12,
    "start_time": "2022-12-12T05:00:44.473Z"
   },
   {
    "duration": 215,
    "start_time": "2022-12-12T05:00:46.944Z"
   },
   {
    "duration": 3,
    "start_time": "2022-12-12T05:01:25.163Z"
   },
   {
    "duration": 33,
    "start_time": "2022-12-12T05:01:25.645Z"
   },
   {
    "duration": 13,
    "start_time": "2022-12-12T05:01:27.491Z"
   },
   {
    "duration": 13,
    "start_time": "2022-12-12T05:01:28.923Z"
   },
   {
    "duration": 108,
    "start_time": "2022-12-12T05:01:31.620Z"
   },
   {
    "duration": 102,
    "start_time": "2022-12-12T05:02:26.554Z"
   },
   {
    "duration": 95,
    "start_time": "2022-12-12T05:09:44.000Z"
   },
   {
    "duration": 760,
    "start_time": "2022-12-12T05:15:49.904Z"
   },
   {
    "duration": 536,
    "start_time": "2022-12-12T05:16:19.840Z"
   },
   {
    "duration": 566,
    "start_time": "2022-12-12T05:18:10.369Z"
   },
   {
    "duration": 5,
    "start_time": "2022-12-12T05:20:41.212Z"
   },
   {
    "duration": 680,
    "start_time": "2022-12-12T05:21:30.092Z"
   },
   {
    "duration": 74,
    "start_time": "2022-12-12T05:24:05.640Z"
   },
   {
    "duration": 238,
    "start_time": "2022-12-12T05:25:07.393Z"
   },
   {
    "duration": 250,
    "start_time": "2022-12-12T05:25:47.421Z"
   },
   {
    "duration": 430,
    "start_time": "2022-12-12T05:26:52.821Z"
   },
   {
    "duration": 266,
    "start_time": "2022-12-12T05:28:12.049Z"
   },
   {
    "duration": 6,
    "start_time": "2022-12-12T05:29:11.798Z"
   },
   {
    "duration": 9,
    "start_time": "2022-12-12T05:30:17.567Z"
   },
   {
    "duration": 349,
    "start_time": "2022-12-12T05:31:02.377Z"
   },
   {
    "duration": 225,
    "start_time": "2022-12-12T05:31:30.516Z"
   },
   {
    "duration": 8,
    "start_time": "2022-12-12T05:32:07.276Z"
   },
   {
    "duration": 350,
    "start_time": "2022-12-12T05:36:42.676Z"
   },
   {
    "duration": 9,
    "start_time": "2022-12-12T05:39:43.847Z"
   },
   {
    "duration": 8,
    "start_time": "2022-12-12T05:42:20.027Z"
   },
   {
    "duration": 12,
    "start_time": "2022-12-12T05:43:36.761Z"
   },
   {
    "duration": 10,
    "start_time": "2022-12-12T05:43:46.676Z"
   },
   {
    "duration": 41,
    "start_time": "2022-12-12T05:44:04.965Z"
   },
   {
    "duration": 7,
    "start_time": "2022-12-12T05:44:44.934Z"
   },
   {
    "duration": 280,
    "start_time": "2022-12-12T05:46:27.755Z"
   },
   {
    "duration": 317,
    "start_time": "2022-12-12T05:51:22.828Z"
   },
   {
    "duration": 51,
    "start_time": "2022-12-12T09:36:23.318Z"
   },
   {
    "duration": 8,
    "start_time": "2022-12-12T09:36:30.882Z"
   },
   {
    "duration": 1264,
    "start_time": "2022-12-12T09:36:39.033Z"
   },
   {
    "duration": 97,
    "start_time": "2022-12-12T09:36:40.299Z"
   },
   {
    "duration": 14,
    "start_time": "2022-12-12T09:36:42.052Z"
   },
   {
    "duration": 12,
    "start_time": "2022-12-12T09:36:42.670Z"
   },
   {
    "duration": 213,
    "start_time": "2022-12-12T09:36:43.803Z"
   },
   {
    "duration": 560,
    "start_time": "2022-12-12T09:36:44.791Z"
   },
   {
    "duration": 205,
    "start_time": "2022-12-12T09:36:49.198Z"
   },
   {
    "duration": 380,
    "start_time": "2022-12-12T09:36:50.103Z"
   },
   {
    "duration": 248,
    "start_time": "2022-12-12T09:36:51.030Z"
   },
   {
    "duration": 339,
    "start_time": "2022-12-12T09:36:51.814Z"
   },
   {
    "duration": 146,
    "start_time": "2022-12-12T09:36:54.501Z"
   },
   {
    "duration": 147,
    "start_time": "2022-12-12T09:37:44.290Z"
   },
   {
    "duration": 187,
    "start_time": "2022-12-12T09:38:29.513Z"
   },
   {
    "duration": 120,
    "start_time": "2022-12-12T09:38:37.574Z"
   },
   {
    "duration": 132,
    "start_time": "2022-12-12T09:38:44.990Z"
   },
   {
    "duration": 116,
    "start_time": "2022-12-12T09:39:24.462Z"
   },
   {
    "duration": 119,
    "start_time": "2022-12-12T09:39:32.054Z"
   },
   {
    "duration": 124,
    "start_time": "2022-12-12T09:39:46.073Z"
   },
   {
    "duration": 120,
    "start_time": "2022-12-12T09:39:51.090Z"
   },
   {
    "duration": 121,
    "start_time": "2022-12-12T09:40:02.250Z"
   },
   {
    "duration": 119,
    "start_time": "2022-12-12T09:40:11.170Z"
   },
   {
    "duration": 128,
    "start_time": "2022-12-12T09:40:34.162Z"
   },
   {
    "duration": 120,
    "start_time": "2022-12-12T09:41:51.273Z"
   },
   {
    "duration": 138,
    "start_time": "2022-12-12T09:42:13.789Z"
   },
   {
    "duration": 133,
    "start_time": "2022-12-12T09:42:28.269Z"
   },
   {
    "duration": 122,
    "start_time": "2022-12-12T09:42:50.069Z"
   },
   {
    "duration": 273,
    "start_time": "2022-12-12T09:43:15.442Z"
   },
   {
    "duration": 136,
    "start_time": "2022-12-12T09:43:36.278Z"
   },
   {
    "duration": 162,
    "start_time": "2022-12-12T09:44:01.399Z"
   },
   {
    "duration": 72,
    "start_time": "2022-12-12T09:44:16.789Z"
   },
   {
    "duration": 150,
    "start_time": "2022-12-12T09:44:22.070Z"
   },
   {
    "duration": 127,
    "start_time": "2022-12-12T09:44:47.401Z"
   },
   {
    "duration": 105,
    "start_time": "2022-12-12T09:44:52.312Z"
   },
   {
    "duration": 153,
    "start_time": "2022-12-12T09:46:11.589Z"
   },
   {
    "duration": 158,
    "start_time": "2022-12-12T09:47:16.574Z"
   },
   {
    "duration": 147,
    "start_time": "2022-12-12T09:47:51.815Z"
   },
   {
    "duration": 343,
    "start_time": "2022-12-12T09:49:32.241Z"
   },
   {
    "duration": 328,
    "start_time": "2022-12-12T09:51:16.292Z"
   },
   {
    "duration": 335,
    "start_time": "2022-12-12T09:51:50.394Z"
   },
   {
    "duration": 317,
    "start_time": "2022-12-12T09:52:09.020Z"
   },
   {
    "duration": 349,
    "start_time": "2022-12-12T09:52:21.650Z"
   },
   {
    "duration": 370,
    "start_time": "2022-12-12T09:52:45.995Z"
   },
   {
    "duration": 346,
    "start_time": "2022-12-12T09:53:47.396Z"
   },
   {
    "duration": 10,
    "start_time": "2022-12-12T09:54:24.776Z"
   },
   {
    "duration": 10,
    "start_time": "2022-12-12T09:55:17.256Z"
   },
   {
    "duration": 38,
    "start_time": "2022-12-12T10:08:39.908Z"
   },
   {
    "duration": 29,
    "start_time": "2022-12-12T10:08:54.256Z"
   },
   {
    "duration": 30,
    "start_time": "2022-12-12T10:09:13.736Z"
   },
   {
    "duration": 14,
    "start_time": "2022-12-12T10:09:37.268Z"
   },
   {
    "duration": 16,
    "start_time": "2022-12-12T10:10:43.988Z"
   },
   {
    "duration": 13,
    "start_time": "2022-12-12T10:11:04.869Z"
   },
   {
    "duration": 13,
    "start_time": "2022-12-12T10:11:13.330Z"
   },
   {
    "duration": 356,
    "start_time": "2022-12-12T10:18:40.789Z"
   },
   {
    "duration": 415,
    "start_time": "2022-12-12T10:36:20.745Z"
   },
   {
    "duration": 334,
    "start_time": "2022-12-12T10:46:12.442Z"
   },
   {
    "duration": 337,
    "start_time": "2022-12-12T11:23:32.885Z"
   },
   {
    "duration": 332,
    "start_time": "2022-12-12T11:24:32.603Z"
   },
   {
    "duration": 15,
    "start_time": "2022-12-12T11:27:09.369Z"
   },
   {
    "duration": 4,
    "start_time": "2022-12-12T11:29:22.755Z"
   },
   {
    "duration": 14,
    "start_time": "2022-12-12T11:29:35.731Z"
   },
   {
    "duration": 20,
    "start_time": "2022-12-12T11:31:02.888Z"
   },
   {
    "duration": 339,
    "start_time": "2022-12-12T11:34:01.204Z"
   },
   {
    "duration": 504,
    "start_time": "2022-12-12T11:35:22.373Z"
   },
   {
    "duration": 36,
    "start_time": "2022-12-12T11:37:31.636Z"
   },
   {
    "duration": 15,
    "start_time": "2022-12-12T11:39:53.707Z"
   },
   {
    "duration": 14,
    "start_time": "2022-12-12T11:42:05.055Z"
   },
   {
    "duration": 11,
    "start_time": "2022-12-12T11:50:34.037Z"
   },
   {
    "duration": 13,
    "start_time": "2022-12-12T12:31:12.264Z"
   },
   {
    "duration": 2,
    "start_time": "2022-12-12T15:13:23.994Z"
   },
   {
    "duration": 38,
    "start_time": "2022-12-12T15:13:24.205Z"
   },
   {
    "duration": 10,
    "start_time": "2022-12-12T15:13:25.418Z"
   },
   {
    "duration": 10,
    "start_time": "2022-12-12T15:13:26.120Z"
   },
   {
    "duration": 97,
    "start_time": "2022-12-12T15:13:27.655Z"
   },
   {
    "duration": 454,
    "start_time": "2022-12-12T15:13:30.754Z"
   },
   {
    "duration": 332,
    "start_time": "2022-12-12T16:12:12.476Z"
   },
   {
    "duration": 46,
    "start_time": "2023-02-14T04:53:48.492Z"
   },
   {
    "duration": 1062,
    "start_time": "2023-02-14T04:54:05.935Z"
   },
   {
    "duration": 90,
    "start_time": "2023-02-14T04:54:08.114Z"
   },
   {
    "duration": 12,
    "start_time": "2023-02-14T04:54:10.214Z"
   },
   {
    "duration": 12,
    "start_time": "2023-02-14T04:54:14.164Z"
   },
   {
    "duration": 211,
    "start_time": "2023-02-14T04:54:15.213Z"
   },
   {
    "duration": 59,
    "start_time": "2023-02-14T04:54:16.415Z"
   },
   {
    "duration": 139,
    "start_time": "2023-02-14T04:54:17.855Z"
   },
   {
    "duration": 11,
    "start_time": "2023-02-14T04:54:18.415Z"
   },
   {
    "duration": 131,
    "start_time": "2023-02-14T04:54:18.975Z"
   },
   {
    "duration": 126,
    "start_time": "2023-02-14T04:54:20.123Z"
   },
   {
    "duration": 143,
    "start_time": "2023-02-14T04:54:20.953Z"
   },
   {
    "duration": 5,
    "start_time": "2023-02-14T04:54:22.365Z"
   },
   {
    "duration": 7,
    "start_time": "2023-02-14T04:54:22.593Z"
   },
   {
    "duration": 191,
    "start_time": "2023-02-14T04:54:23.345Z"
   },
   {
    "duration": 143,
    "start_time": "2023-02-14T04:54:23.975Z"
   },
   {
    "duration": 4,
    "start_time": "2023-02-14T04:54:25.645Z"
   },
   {
    "duration": 6,
    "start_time": "2023-02-14T04:54:25.935Z"
   },
   {
    "duration": 337,
    "start_time": "2023-02-14T04:54:28.173Z"
   },
   {
    "duration": 12,
    "start_time": "2023-02-14T04:54:32.767Z"
   },
   {
    "duration": 30,
    "start_time": "2023-02-14T04:54:59.734Z"
   },
   {
    "duration": 66,
    "start_time": "2023-04-24T19:42:17.536Z"
   },
   {
    "duration": 1342,
    "start_time": "2023-04-24T19:42:22.257Z"
   },
   {
    "duration": 89,
    "start_time": "2023-04-24T19:42:23.601Z"
   },
   {
    "duration": 13,
    "start_time": "2023-04-24T19:43:05.781Z"
   },
   {
    "duration": 11,
    "start_time": "2023-04-24T19:43:15.278Z"
   },
   {
    "duration": 260,
    "start_time": "2023-04-24T19:43:36.556Z"
   },
   {
    "duration": 70,
    "start_time": "2023-04-24T19:43:38.118Z"
   },
   {
    "duration": 209,
    "start_time": "2023-04-24T19:47:53.984Z"
   },
   {
    "duration": 3362,
    "start_time": "2023-04-24T19:48:42.390Z"
   },
   {
    "duration": 227,
    "start_time": "2023-04-24T19:49:10.574Z"
   },
   {
    "duration": 363,
    "start_time": "2023-04-24T19:49:15.327Z"
   },
   {
    "duration": 327,
    "start_time": "2023-04-24T19:49:35.236Z"
   },
   {
    "duration": 328,
    "start_time": "2023-04-24T19:49:52.829Z"
   },
   {
    "duration": 184,
    "start_time": "2023-04-24T19:50:06.555Z"
   },
   {
    "duration": 175,
    "start_time": "2023-04-24T19:50:11.100Z"
   }
  ],
  "kernelspec": {
   "display_name": "Python 3 (ipykernel)",
   "language": "python",
   "name": "python3"
  },
  "language_info": {
   "codemirror_mode": {
    "name": "ipython",
    "version": 3
   },
   "file_extension": ".py",
   "mimetype": "text/x-python",
   "name": "python",
   "nbconvert_exporter": "python",
   "pygments_lexer": "ipython3",
   "version": "3.9.5"
  },
  "toc": {
   "base_numbering": 1,
   "nav_menu": {},
   "number_sections": true,
   "sideBar": false,
   "skip_h1_title": true,
   "title_cell": "Table of Contents",
   "title_sidebar": "Contents",
   "toc_cell": false,
   "toc_position": {
    "height": "700px",
    "left": "39px",
    "top": "180px",
    "width": "286.067px"
   },
   "toc_section_display": true,
   "toc_window_display": true
  }
 },
 "nbformat": 4,
 "nbformat_minor": 2
}
