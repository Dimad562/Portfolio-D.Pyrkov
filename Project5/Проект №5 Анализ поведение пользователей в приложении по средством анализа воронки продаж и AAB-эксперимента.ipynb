{
 "cells": [
  {
   "cell_type": "markdown",
   "metadata": {},
   "source": [
    "# Анализ поведение пользователей в приложении по средством анализа воронки продаж и A/A/B-эксперимента"
   ]
  },
  {
   "cell_type": "markdown",
   "metadata": {},
   "source": [
    "# Цели и задачи проекта"
   ]
  },
  {
   "cell_type": "markdown",
   "metadata": {},
   "source": [
    "> Главной целью проекта является анализ ***поведение пользователей в нашем мобильном приложении*** для доставки еды, посредством изучение анализа данных составление воронки продаж, исследования пути пользователей до покупки и подсчёт пользователей совершивших её и «застрявших на определённых шагах», определить на каких.\n",
    "\n",
    "> После этого нам необходимо будет ***исследовать результаты A/A/B-эксперимента.*** Необходимо будет исследовать влияние изменение шрифтов на пользоватей. Пользователи разбиты на 3 группы: 2 контрольные со старыми шрифтами и одну экспериментальную — с новыми. Необходимо выяснить, какой шрифт лучше."
   ]
  },
  {
   "cell_type": "markdown",
   "metadata": {},
   "source": [
    "# Описание данных"
   ]
  },
  {
   "cell_type": "markdown",
   "metadata": {},
   "source": [
    "Каждая запись в логе — это действие пользователя, или событие.\n",
    "- EventName — название события;\n",
    "- DeviceIDHash — уникальный идентификатор пользователя;\n",
    "- EventTimestamp — время события;\n",
    "- ExpId — номер эксперимента: 246 и 247 — контрольные группы, а 248 — экспериментальная."
   ]
  },
  {
   "cell_type": "markdown",
   "metadata": {},
   "source": [
    "# Краткий план работ"
   ]
  },
  {
   "cell_type": "markdown",
   "metadata": {},
   "source": [
    "- Шаг 1. Импорт библиотек,  загрузка файла с данными и изучение общей информации\n",
    "- Шаг 2. Преобработка данных\n",
    "- Шаг 3. Проверка данных\n",
    "- Шаг 4. Исследования воронки событий\n",
    "- Шаг 5. Изучение результатов эксперимента"
   ]
  },
  {
   "cell_type": "markdown",
   "metadata": {},
   "source": [
    "## Импорт библиотек,  загрузка файла с данными и изучение общей информации"
   ]
  },
  {
   "cell_type": "code",
   "execution_count": 28,
   "metadata": {},
   "outputs": [],
   "source": [
    "import pandas as pd\n",
    "import datetime as dt\n",
    "import numpy as np\n",
    "import matplotlib.pyplot as plt\n",
    "from plotly import graph_objects as go\n",
    "from scipy import stats\n",
    "from statsmodels.stats.proportion import proportions_ztest\n",
    "import math"
   ]
  },
  {
   "cell_type": "code",
   "execution_count": 29,
   "metadata": {},
   "outputs": [
    {
     "data": {
      "text/html": [
       "<div>\n",
       "<style scoped>\n",
       "    .dataframe tbody tr th:only-of-type {\n",
       "        vertical-align: middle;\n",
       "    }\n",
       "\n",
       "    .dataframe tbody tr th {\n",
       "        vertical-align: top;\n",
       "    }\n",
       "\n",
       "    .dataframe thead th {\n",
       "        text-align: right;\n",
       "    }\n",
       "</style>\n",
       "<table border=\"1\" class=\"dataframe\">\n",
       "  <thead>\n",
       "    <tr style=\"text-align: right;\">\n",
       "      <th></th>\n",
       "      <th>EventName</th>\n",
       "      <th>DeviceIDHash</th>\n",
       "      <th>EventTimestamp</th>\n",
       "      <th>ExpId</th>\n",
       "    </tr>\n",
       "  </thead>\n",
       "  <tbody>\n",
       "    <tr>\n",
       "      <th>0</th>\n",
       "      <td>MainScreenAppear</td>\n",
       "      <td>4575588528974610257</td>\n",
       "      <td>1564029816</td>\n",
       "      <td>246</td>\n",
       "    </tr>\n",
       "    <tr>\n",
       "      <th>1</th>\n",
       "      <td>MainScreenAppear</td>\n",
       "      <td>7416695313311560658</td>\n",
       "      <td>1564053102</td>\n",
       "      <td>246</td>\n",
       "    </tr>\n",
       "    <tr>\n",
       "      <th>2</th>\n",
       "      <td>PaymentScreenSuccessful</td>\n",
       "      <td>3518123091307005509</td>\n",
       "      <td>1564054127</td>\n",
       "      <td>248</td>\n",
       "    </tr>\n",
       "    <tr>\n",
       "      <th>3</th>\n",
       "      <td>CartScreenAppear</td>\n",
       "      <td>3518123091307005509</td>\n",
       "      <td>1564054127</td>\n",
       "      <td>248</td>\n",
       "    </tr>\n",
       "    <tr>\n",
       "      <th>4</th>\n",
       "      <td>PaymentScreenSuccessful</td>\n",
       "      <td>6217807653094995999</td>\n",
       "      <td>1564055322</td>\n",
       "      <td>248</td>\n",
       "    </tr>\n",
       "  </tbody>\n",
       "</table>\n",
       "</div>"
      ],
      "text/plain": [
       "                 EventName         DeviceIDHash  EventTimestamp  ExpId\n",
       "0         MainScreenAppear  4575588528974610257      1564029816    246\n",
       "1         MainScreenAppear  7416695313311560658      1564053102    246\n",
       "2  PaymentScreenSuccessful  3518123091307005509      1564054127    248\n",
       "3         CartScreenAppear  3518123091307005509      1564054127    248\n",
       "4  PaymentScreenSuccessful  6217807653094995999      1564055322    248"
      ]
     },
     "metadata": {},
     "output_type": "display_data"
    },
    {
     "name": "stdout",
     "output_type": "stream",
     "text": [
      "<class 'pandas.core.frame.DataFrame'>\n",
      "RangeIndex: 244126 entries, 0 to 244125\n",
      "Data columns (total 4 columns):\n",
      " #   Column          Non-Null Count   Dtype \n",
      "---  ------          --------------   ----- \n",
      " 0   EventName       244126 non-null  object\n",
      " 1   DeviceIDHash    244126 non-null  int64 \n",
      " 2   EventTimestamp  244126 non-null  int64 \n",
      " 3   ExpId           244126 non-null  int64 \n",
      "dtypes: int64(3), object(1)\n",
      "memory usage: 7.5+ MB\n",
      "None\n",
      "Количество пропусков в столбцах\n",
      "EventName         0\n",
      "DeviceIDHash      0\n",
      "EventTimestamp    0\n",
      "ExpId             0\n",
      "dtype: int64\n",
      "Количество дубликатов 413\n",
      "Процент дубликатов 0.17%\n"
     ]
    }
   ],
   "source": [
    "data = pd.read_csv('/datasets/logs_exp.csv', sep='\\t')\n",
    "# выводим первые 5 строк датасета\n",
    "display(data.head())\n",
    "# вывод общей информации датасета\n",
    "print(data.info())\n",
    "# смотрим количество пропущенных значений\n",
    "print('Количество пропусков в столбцах', data.isna().sum(),sep = '\\n')\n",
    "#посмотрим явные дубликаты в датасете\n",
    "print('Количество дубликатов', data.duplicated().sum())\n",
    "print('Процент дубликатов',  \"{0:.2%}\".format(data.duplicated().sum()/len(data)))"
   ]
  },
  {
   "cell_type": "markdown",
   "metadata": {},
   "source": [
    "## Преобработка данных"
   ]
  },
  {
   "cell_type": "code",
   "execution_count": 30,
   "metadata": {},
   "outputs": [
    {
     "name": "stdout",
     "output_type": "stream",
     "text": [
      "Index(['event_name', 'user_id', 'timestamp', 'exp_id'], dtype='object')\n",
      "0\n"
     ]
    },
    {
     "data": {
      "text/html": [
       "<div>\n",
       "<style scoped>\n",
       "    .dataframe tbody tr th:only-of-type {\n",
       "        vertical-align: middle;\n",
       "    }\n",
       "\n",
       "    .dataframe tbody tr th {\n",
       "        vertical-align: top;\n",
       "    }\n",
       "\n",
       "    .dataframe thead th {\n",
       "        text-align: right;\n",
       "    }\n",
       "</style>\n",
       "<table border=\"1\" class=\"dataframe\">\n",
       "  <thead>\n",
       "    <tr style=\"text-align: right;\">\n",
       "      <th></th>\n",
       "      <th>event_name</th>\n",
       "      <th>user_id</th>\n",
       "      <th>timestamp</th>\n",
       "      <th>exp_id</th>\n",
       "      <th>date</th>\n",
       "    </tr>\n",
       "  </thead>\n",
       "  <tbody>\n",
       "    <tr>\n",
       "      <th>0</th>\n",
       "      <td>MainScreenAppear</td>\n",
       "      <td>4575588528974610257</td>\n",
       "      <td>2019-07-25 04:43:36</td>\n",
       "      <td>246</td>\n",
       "      <td>2019-07-25 04:43:36</td>\n",
       "    </tr>\n",
       "    <tr>\n",
       "      <th>1</th>\n",
       "      <td>MainScreenAppear</td>\n",
       "      <td>7416695313311560658</td>\n",
       "      <td>2019-07-25 11:11:42</td>\n",
       "      <td>246</td>\n",
       "      <td>2019-07-25 11:11:42</td>\n",
       "    </tr>\n",
       "    <tr>\n",
       "      <th>2</th>\n",
       "      <td>PaymentScreenSuccessful</td>\n",
       "      <td>3518123091307005509</td>\n",
       "      <td>2019-07-25 11:28:47</td>\n",
       "      <td>248</td>\n",
       "      <td>2019-07-25 11:28:47</td>\n",
       "    </tr>\n",
       "    <tr>\n",
       "      <th>3</th>\n",
       "      <td>CartScreenAppear</td>\n",
       "      <td>3518123091307005509</td>\n",
       "      <td>2019-07-25 11:28:47</td>\n",
       "      <td>248</td>\n",
       "      <td>2019-07-25 11:28:47</td>\n",
       "    </tr>\n",
       "    <tr>\n",
       "      <th>4</th>\n",
       "      <td>PaymentScreenSuccessful</td>\n",
       "      <td>6217807653094995999</td>\n",
       "      <td>2019-07-25 11:48:42</td>\n",
       "      <td>248</td>\n",
       "      <td>2019-07-25 11:48:42</td>\n",
       "    </tr>\n",
       "  </tbody>\n",
       "</table>\n",
       "</div>"
      ],
      "text/plain": [
       "                event_name              user_id           timestamp  exp_id  \\\n",
       "0         MainScreenAppear  4575588528974610257 2019-07-25 04:43:36     246   \n",
       "1         MainScreenAppear  7416695313311560658 2019-07-25 11:11:42     246   \n",
       "2  PaymentScreenSuccessful  3518123091307005509 2019-07-25 11:28:47     248   \n",
       "3         CartScreenAppear  3518123091307005509 2019-07-25 11:28:47     248   \n",
       "4  PaymentScreenSuccessful  6217807653094995999 2019-07-25 11:48:42     248   \n",
       "\n",
       "                 date  \n",
       "0 2019-07-25 04:43:36  \n",
       "1 2019-07-25 11:11:42  \n",
       "2 2019-07-25 11:28:47  \n",
       "3 2019-07-25 11:28:47  \n",
       "4 2019-07-25 11:48:42  "
      ]
     },
     "metadata": {},
     "output_type": "display_data"
    },
    {
     "name": "stdout",
     "output_type": "stream",
     "text": [
      "<class 'pandas.core.frame.DataFrame'>\n",
      "Int64Index: 243713 entries, 0 to 244125\n",
      "Data columns (total 5 columns):\n",
      " #   Column      Non-Null Count   Dtype         \n",
      "---  ------      --------------   -----         \n",
      " 0   event_name  243713 non-null  object        \n",
      " 1   user_id     243713 non-null  int64         \n",
      " 2   timestamp   243713 non-null  datetime64[ns]\n",
      " 3   exp_id      243713 non-null  int64         \n",
      " 4   date        243713 non-null  datetime64[ns]\n",
      "dtypes: datetime64[ns](2), int64(2), object(1)\n",
      "memory usage: 11.2+ MB\n"
     ]
    },
    {
     "data": {
      "text/plain": [
       "None"
      ]
     },
     "metadata": {},
     "output_type": "display_data"
    }
   ],
   "source": [
    "# перевод названий столбцов в в удобный вид\n",
    "data.rename(columns = {'EventName' : 'event_name', 'DeviceIDHash':'user_id','EventTimestamp':'timestamp','ExpId':'exp_id'}, inplace = True)\n",
    "print(data.columns)\n",
    "# удаление дубликатов\n",
    "data = data.drop_duplicates()\n",
    "print(data.duplicated().sum())\n",
    "# обработка столбца с датой и временем события \n",
    "data['timestamp'] = pd.to_datetime(data['timestamp'], unit='s')\n",
    "# создание cтолбца с датой\n",
    "data['date'] = pd.to_datetime(data[\"timestamp\"], unit=\"s\")\n",
    "display(data.head())\n",
    "display(data.info())"
   ]
  },
  {
   "cell_type": "markdown",
   "metadata": {},
   "source": [
    "## Проверка данных"
   ]
  },
  {
   "cell_type": "markdown",
   "metadata": {},
   "source": [
    "### Расчёт количества пользователей,событий и максимальной и минимальной даты"
   ]
  },
  {
   "cell_type": "code",
   "execution_count": 31,
   "metadata": {},
   "outputs": [
    {
     "name": "stdout",
     "output_type": "stream",
     "text": [
      "Всего событий 243713\n",
      "Всего пользователей 7551\n",
      "Среднее количество событий на пользователя 32.0\n",
      "Максимальной датой событий является 2019-08-07 21:15:17\n",
      "Минимальной датой событий является 2019-07-25 04:43:36\n"
     ]
    }
   ],
   "source": [
    "# расчёт количества событий в логе \n",
    "print('Всего','событий', len(data['timestamp']))\n",
    "# расчёт общего количества пользователей\n",
    "print('Всего','пользователей', data['user_id'].nunique())\n",
    "# сколько в среднем событий приходится на пользователя\n",
    "print('''Среднее количество событий на пользователя''', data.groupby('user_id').agg({'timestamp':'count'}).mean()[0].round())\n",
    "# максимальная и минимальная дата события\n",
    "print('''Максимальной датой событий является''', data['date'].max())\n",
    "print('''Минимальной датой событий является''', data['date'].min())"
   ]
  },
  {
   "cell_type": "code",
   "execution_count": 32,
   "metadata": {},
   "outputs": [
    {
     "data": {
      "image/png": "[encoded data removed]",
      "text/plain": [
       "<Figure size 1008x576 with 1 Axes>"
      ]
     },
     "metadata": {
      "needs_background": "light"
     },
     "output_type": "display_data"
    }
   ],
   "source": [
    "# Гистограмма по дате\n",
    "plt.figure(figsize=(14,8))\n",
    "plt.xlabel(\"Дата\")\n",
    "plt.ylabel(\"Количество событий\")\n",
    "plt.title(\"График количества событий по дате\")\n",
    "plt.hist(data['timestamp'],bins=27)\n",
    "plt.show()"
   ]
  },
  {
   "cell_type": "code",
   "execution_count": 33,
   "metadata": {},
   "outputs": [
    {
     "name": "stdout",
     "output_type": "stream",
     "text": [
      "Количество событий приходится на июль: 2826\n",
      "Процент событий приходится на июль: 1.16%\n",
      "Количество пользователей совершивших событие в  июле: 1451\n",
      "Процент пользователей совершивших событие в  июле: 19.22%\n"
     ]
    }
   ],
   "source": [
    "start_date =  pd.to_datetime('2019-08-1')\n",
    "\n",
    "print('''Количество событий приходится на июль:''', len(data[data['date'] < start_date]))\n",
    "\n",
    "print('''Процент событий приходится на июль:''', \"{0:.2%}\".format(len(data[data['date'] < start_date])/len(data)))\n",
    "\n",
    "print('''Количество пользователей совершивших событие в  июле:''', data[data['date'] < start_date]['user_id'].nunique())\n",
    "\n",
    "print('''Процент пользователей совершивших событие в  июле:''', \"{0:.2%}\".format((data[data['date'] < start_date]['user_id'].nunique()/data['user_id'].nunique())))"
   ]
  },
  {
   "cell_type": "code",
   "execution_count": 34,
   "metadata": {},
   "outputs": [
    {
     "name": "stdout",
     "output_type": "stream",
     "text": [
      "Количество удалённых пользователей: 17\n",
      "Процент удалённых пользователей: 0.23%\n",
      "Процент оставшихся событий: 98.84%\n"
     ]
    }
   ],
   "source": [
    "# удаление \"июльских\" событий    \n",
    "total_user = data['user_id'].nunique()\n",
    "total_event = data['date'].count()\n",
    "data = data.query('date >= @start_date')\n",
    "print('''Количество удалённых пользователей:''', total_user - data['user_id'].nunique())\n",
    "print('''Процент удалённых пользователей:''',\"{0:.2%}\".format(-((data['user_id'].nunique())/total_user - 1)))\n",
    "print('''Процент оставшихся событий:''',\"{0:.2%}\".format(data['date'].count()/total_event))"
   ]
  },
  {
   "cell_type": "code",
   "execution_count": 35,
   "metadata": {},
   "outputs": [
    {
     "name": "stdout",
     "output_type": "stream",
     "text": [
      "Максимальной датой событий является 2019-08-07 21:15:17\n",
      "Минимальной датой событий является 2019-08-01 00:07:28\n"
     ]
    }
   ],
   "source": [
    "print('''Максимальной датой событий является''', data['date'].max())\n",
    "print('''Минимальной датой событий является''', data['date'].min())"
   ]
  },
  {
   "cell_type": "markdown",
   "metadata": {},
   "source": [
    "Как видно из расчётов выше 99,84% данных событий приходятся на август и лишь 1.16%(2826) событий на июль 19.22% (1451) пользователей выполнили события в июле, события относительно основных данных вместе с августом  немного, при этом только 17 пользователей совершивших события только в июле, их было решено удалить, так как по сути мы располагаем данными с 1 августа 2019г. "
   ]
  },
  {
   "cell_type": "markdown",
   "metadata": {},
   "source": [
    "### Проверка на пользователей состоящих в более одной группе "
   ]
  },
  {
   "cell_type": "code",
   "execution_count": 36,
   "metadata": {},
   "outputs": [
    {
     "name": "stdout",
     "output_type": "stream",
     "text": [
      "Empty DataFrame\n",
      "Columns: [user_id, exp_id]\n",
      "Index: []\n"
     ]
    }
   ],
   "source": [
    "same_users = (data.groupby('user_id',as_index=False)\n",
    "                   .agg({'exp_id':'nunique'})\n",
    "                   .sort_values(by='exp_id', ascending=False)\n",
    "             )\n",
    "same_users = same_users.query('exp_id > 1')\n",
    "print(same_users)\n"
   ]
  },
  {
   "cell_type": "markdown",
   "metadata": {},
   "source": [
    "При фильтрации получен пустой датафрейм, отдельных пользователей состоящих в разных группах нет"
   ]
  },
  {
   "cell_type": "markdown",
   "metadata": {},
   "source": [
    "## Исследования воронки событий"
   ]
  },
  {
   "cell_type": "markdown",
   "metadata": {},
   "source": [
    "### Частота событий"
   ]
  },
  {
   "cell_type": "code",
   "execution_count": 37,
   "metadata": {},
   "outputs": [
    {
     "data": {
      "text/html": [
       "<div>\n",
       "<style scoped>\n",
       "    .dataframe tbody tr th:only-of-type {\n",
       "        vertical-align: middle;\n",
       "    }\n",
       "\n",
       "    .dataframe tbody tr th {\n",
       "        vertical-align: top;\n",
       "    }\n",
       "\n",
       "    .dataframe thead th {\n",
       "        text-align: right;\n",
       "    }\n",
       "</style>\n",
       "<table border=\"1\" class=\"dataframe\">\n",
       "  <thead>\n",
       "    <tr style=\"text-align: right;\">\n",
       "      <th></th>\n",
       "      <th>event_name</th>\n",
       "      <th>count_events</th>\n",
       "    </tr>\n",
       "  </thead>\n",
       "  <tbody>\n",
       "    <tr>\n",
       "      <th>1</th>\n",
       "      <td>MainScreenAppear</td>\n",
       "      <td>117328</td>\n",
       "    </tr>\n",
       "    <tr>\n",
       "      <th>2</th>\n",
       "      <td>OffersScreenAppear</td>\n",
       "      <td>46333</td>\n",
       "    </tr>\n",
       "    <tr>\n",
       "      <th>0</th>\n",
       "      <td>CartScreenAppear</td>\n",
       "      <td>42303</td>\n",
       "    </tr>\n",
       "    <tr>\n",
       "      <th>3</th>\n",
       "      <td>PaymentScreenSuccessful</td>\n",
       "      <td>33918</td>\n",
       "    </tr>\n",
       "    <tr>\n",
       "      <th>4</th>\n",
       "      <td>Tutorial</td>\n",
       "      <td>1005</td>\n",
       "    </tr>\n",
       "  </tbody>\n",
       "</table>\n",
       "</div>"
      ],
      "text/plain": [
       "                event_name  count_events\n",
       "1         MainScreenAppear        117328\n",
       "2       OffersScreenAppear         46333\n",
       "0         CartScreenAppear         42303\n",
       "3  PaymentScreenSuccessful         33918\n",
       "4                 Tutorial          1005"
      ]
     },
     "metadata": {},
     "output_type": "display_data"
    }
   ],
   "source": [
    "# Подсчёт частоты событий\n",
    "count_events = (data.groupby('event_name',as_index=False)\n",
    "                   .agg({'timestamp':'count'})\n",
    "                   .sort_values(by='timestamp',ascending=False)\n",
    "                   .rename(columns = {'timestamp':'count_events'})\n",
    "              )               \n",
    "display(count_events)"
   ]
  },
  {
   "cell_type": "markdown",
   "metadata": {},
   "source": [
    "### Количество пользователей совершивших определённое событие и последовательность событий "
   ]
  },
  {
   "cell_type": "code",
   "execution_count": 38,
   "metadata": {},
   "outputs": [
    {
     "name": "stdout",
     "output_type": "stream",
     "text": [
      "7534\n"
     ]
    },
    {
     "data": {
      "text/html": [
       "<div>\n",
       "<style scoped>\n",
       "    .dataframe tbody tr th:only-of-type {\n",
       "        vertical-align: middle;\n",
       "    }\n",
       "\n",
       "    .dataframe tbody tr th {\n",
       "        vertical-align: top;\n",
       "    }\n",
       "\n",
       "    .dataframe thead th {\n",
       "        text-align: right;\n",
       "    }\n",
       "</style>\n",
       "<table border=\"1\" class=\"dataframe\">\n",
       "  <thead>\n",
       "    <tr style=\"text-align: right;\">\n",
       "      <th></th>\n",
       "      <th>event_name</th>\n",
       "      <th>count_users</th>\n",
       "      <th>share_users</th>\n",
       "    </tr>\n",
       "  </thead>\n",
       "  <tbody>\n",
       "    <tr>\n",
       "      <th>1</th>\n",
       "      <td>MainScreenAppear</td>\n",
       "      <td>7419</td>\n",
       "      <td>0.98</td>\n",
       "    </tr>\n",
       "    <tr>\n",
       "      <th>2</th>\n",
       "      <td>OffersScreenAppear</td>\n",
       "      <td>4593</td>\n",
       "      <td>0.61</td>\n",
       "    </tr>\n",
       "    <tr>\n",
       "      <th>0</th>\n",
       "      <td>CartScreenAppear</td>\n",
       "      <td>3734</td>\n",
       "      <td>0.50</td>\n",
       "    </tr>\n",
       "    <tr>\n",
       "      <th>3</th>\n",
       "      <td>PaymentScreenSuccessful</td>\n",
       "      <td>3539</td>\n",
       "      <td>0.47</td>\n",
       "    </tr>\n",
       "    <tr>\n",
       "      <th>4</th>\n",
       "      <td>Tutorial</td>\n",
       "      <td>840</td>\n",
       "      <td>0.11</td>\n",
       "    </tr>\n",
       "  </tbody>\n",
       "</table>\n",
       "</div>"
      ],
      "text/plain": [
       "                event_name  count_users  share_users\n",
       "1         MainScreenAppear         7419         0.98\n",
       "2       OffersScreenAppear         4593         0.61\n",
       "0         CartScreenAppear         3734         0.50\n",
       "3  PaymentScreenSuccessful         3539         0.47\n",
       "4                 Tutorial          840         0.11"
      ]
     },
     "metadata": {},
     "output_type": "display_data"
    }
   ],
   "source": [
    "# Подсчёт количества пользователей\n",
    "count_users = (data.groupby('event_name', as_index=False)\n",
    "                   .agg({'user_id':'nunique'})\n",
    "                   .sort_values(by='user_id',ascending=False)\n",
    "                   .rename(columns = {'user_id':'count_users'})\n",
    "              )\n",
    "print(data['user_id'].nunique())\n",
    "count_users['share_users'] = round(count_users['count_users']/data['user_id'].nunique(), 2)\n",
    "display(count_users)\n"
   ]
  },
  {
   "cell_type": "markdown",
   "metadata": {},
   "source": [
    "## По убыванию количества пользователей от самого популярного события и события по очередности для воронки продаж делятся на:\n",
    "- Выход на главный экран выполнило 7419 пользователя это самое популярное событие  по очередности это ***1 событие***\n",
    "- Выход на страницу предложений выполнило 4606 пользователей это  по очередности ***2 событие***\n",
    "- Выход на страницу «корзины» выполнило 3742 пользователей это по очередности  ***3 событие***\n",
    "- Выход на страницу подтверждающую успешную оплату выполнило 3542 пользователей это по очередности  ***4 событие***\n",
    "- Страницу просмотра руководства пользования сайтом выполнило 845 пользователей они к воронке продаж не относятся и посредовательность ***не может быть определена и её необходимо исключить***, можно только предположить что вероятно данное событие чащё происходило впервую очередь"
   ]
  },
  {
   "cell_type": "code",
   "execution_count": 39,
   "metadata": {},
   "outputs": [
    {
     "data": {
      "text/html": [
       "<div>\n",
       "<style scoped>\n",
       "    .dataframe tbody tr th:only-of-type {\n",
       "        vertical-align: middle;\n",
       "    }\n",
       "\n",
       "    .dataframe tbody tr th {\n",
       "        vertical-align: top;\n",
       "    }\n",
       "\n",
       "    .dataframe thead th {\n",
       "        text-align: right;\n",
       "    }\n",
       "</style>\n",
       "<table border=\"1\" class=\"dataframe\">\n",
       "  <thead>\n",
       "    <tr style=\"text-align: right;\">\n",
       "      <th></th>\n",
       "      <th>event_name</th>\n",
       "      <th>count_users</th>\n",
       "      <th>share_users</th>\n",
       "    </tr>\n",
       "  </thead>\n",
       "  <tbody>\n",
       "    <tr>\n",
       "      <th>1</th>\n",
       "      <td>MainScreenAppear</td>\n",
       "      <td>7419</td>\n",
       "      <td>0.98</td>\n",
       "    </tr>\n",
       "    <tr>\n",
       "      <th>2</th>\n",
       "      <td>OffersScreenAppear</td>\n",
       "      <td>4593</td>\n",
       "      <td>0.61</td>\n",
       "    </tr>\n",
       "    <tr>\n",
       "      <th>0</th>\n",
       "      <td>CartScreenAppear</td>\n",
       "      <td>3734</td>\n",
       "      <td>0.50</td>\n",
       "    </tr>\n",
       "    <tr>\n",
       "      <th>3</th>\n",
       "      <td>PaymentScreenSuccessful</td>\n",
       "      <td>3539</td>\n",
       "      <td>0.47</td>\n",
       "    </tr>\n",
       "  </tbody>\n",
       "</table>\n",
       "</div>"
      ],
      "text/plain": [
       "                event_name  count_users  share_users\n",
       "1         MainScreenAppear         7419         0.98\n",
       "2       OffersScreenAppear         4593         0.61\n",
       "0         CartScreenAppear         3734         0.50\n",
       "3  PaymentScreenSuccessful         3539         0.47"
      ]
     },
     "metadata": {},
     "output_type": "display_data"
    }
   ],
   "source": [
    "sales_funnel = count_users.query('event_name != \"Tutorial\"')\n",
    "\n",
    "display(sales_funnel)"
   ]
  },
  {
   "cell_type": "markdown",
   "metadata": {},
   "source": [
    "### Подсчёт количества пользователей прошедших от первого события до платы, прошедших определённый этап и потерянных на этом этапе, виузалиция воронки событий"
   ]
  },
  {
   "cell_type": "code",
   "execution_count": 41,
   "metadata": {},
   "outputs": [
    {
     "data": {
      "application/vnd.plotly.v1+json": {
       "config": {
        "plotlyServerURL": "https://plot.ly"
       },
       "data": [
        {
         "textinfo": "value+percent previous+percent initial",
         "type": "funnel",
         "x": [
          7419,
          4593,
          3734,
          3539
         ],
         "y": [
          "MainScreenAppear",
          "OffersScreenAppear",
          "CartScreenAppear",
          "PaymentScreenSuccessful"
         ]
        }
       ],
       "layout": {
        "template": {
         "data": {
          "bar": [
           {
            "error_x": {
             "color": "#2a3f5f"
            },
            "error_y": {
             "color": "#2a3f5f"
            },
            "marker": {
             "line": {
              "color": "#E5ECF6",
              "width": 0.5
             },
             "pattern": {
              "fillmode": "overlay",
              "size": 10,
              "solidity": 0.2
             }
            },
            "type": "bar"
           }
          ],
          "barpolar": [
           {
            "marker": {
             "line": {
              "color": "#E5ECF6",
              "width": 0.5
             },
             "pattern": {
              "fillmode": "overlay",
              "size": 10,
              "solidity": 0.2
             }
            },
            "type": "barpolar"
           }
          ],
          "carpet": [
           {
            "aaxis": {
             "endlinecolor": "#2a3f5f",
             "gridcolor": "white",
             "linecolor": "white",
             "minorgridcolor": "white",
             "startlinecolor": "#2a3f5f"
            },
            "baxis": {
             "endlinecolor": "#2a3f5f",
             "gridcolor": "white",
             "linecolor": "white",
             "minorgridcolor": "white",
             "startlinecolor": "#2a3f5f"
            },
            "type": "carpet"
           }
          ],
          "choropleth": [
           {
            "colorbar": {
             "outlinewidth": 0,
             "ticks": ""
            },
            "type": "choropleth"
           }
          ],
          "contour": [
           {
            "colorbar": {
             "outlinewidth": 0,
             "ticks": ""
            },
            "colorscale": [
             [
              0,
              "#0d0887"
             ],
             [
              0.1111111111111111,
              "#46039f"
             ],
             [
              0.2222222222222222,
              "#7201a8"
             ],
             [
              0.3333333333333333,
              "#9c179e"
             ],
             [
              0.4444444444444444,
              "#bd3786"
             ],
             [
              0.5555555555555556,
              "#d8576b"
             ],
             [
              0.6666666666666666,
              "#ed7953"
             ],
             [
              0.7777777777777778,
              "#fb9f3a"
             ],
             [
              0.8888888888888888,
              "#fdca26"
             ],
             [
              1,
              "#f0f921"
             ]
            ],
            "type": "contour"
           }
          ],
          "contourcarpet": [
           {
            "colorbar": {
             "outlinewidth": 0,
             "ticks": ""
            },
            "type": "contourcarpet"
           }
          ],
          "heatmap": [
           {
            "colorbar": {
             "outlinewidth": 0,
             "ticks": ""
            },
            "colorscale": [
             [
              0,
              "#0d0887"
             ],
             [
              0.1111111111111111,
              "#46039f"
             ],
             [
              0.2222222222222222,
              "#7201a8"
             ],
             [
              0.3333333333333333,
              "#9c179e"
             ],
             [
              0.4444444444444444,
              "#bd3786"
             ],
             [
              0.5555555555555556,
              "#d8576b"
             ],
             [
              0.6666666666666666,
              "#ed7953"
             ],
             [
              0.7777777777777778,
              "#fb9f3a"
             ],
             [
              0.8888888888888888,
              "#fdca26"
             ],
             [
              1,
              "#f0f921"
             ]
            ],
            "type": "heatmap"
           }
          ],
          "heatmapgl": [
           {
            "colorbar": {
             "outlinewidth": 0,
             "ticks": ""
            },
            "colorscale": [
             [
              0,
              "#0d0887"
             ],
             [
              0.1111111111111111,
              "#46039f"
             ],
             [
              0.2222222222222222,
              "#7201a8"
             ],
             [
              0.3333333333333333,
              "#9c179e"
             ],
             [
              0.4444444444444444,
              "#bd3786"
             ],
             [
              0.5555555555555556,
              "#d8576b"
             ],
             [
              0.6666666666666666,
              "#ed7953"
             ],
             [
              0.7777777777777778,
              "#fb9f3a"
             ],
             [
              0.8888888888888888,
              "#fdca26"
             ],
             [
              1,
              "#f0f921"
             ]
            ],
            "type": "heatmapgl"
           }
          ],
          "histogram": [
           {
            "marker": {
             "pattern": {
              "fillmode": "overlay",
              "size": 10,
              "solidity": 0.2
             }
            },
            "type": "histogram"
           }
          ],
          "histogram2d": [
           {
            "colorbar": {
             "outlinewidth": 0,
             "ticks": ""
            },
            "colorscale": [
             [
              0,
              "#0d0887"
             ],
             [
              0.1111111111111111,
              "#46039f"
             ],
             [
              0.2222222222222222,
              "#7201a8"
             ],
             [
              0.3333333333333333,
              "#9c179e"
             ],
             [
              0.4444444444444444,
              "#bd3786"
             ],
             [
              0.5555555555555556,
              "#d8576b"
             ],
             [
              0.6666666666666666,
              "#ed7953"
             ],
             [
              0.7777777777777778,
              "#fb9f3a"
             ],
             [
              0.8888888888888888,
              "#fdca26"
             ],
             [
              1,
              "#f0f921"
             ]
            ],
            "type": "histogram2d"
           }
          ],
          "histogram2dcontour": [
           {
            "colorbar": {
             "outlinewidth": 0,
             "ticks": ""
            },
            "colorscale": [
             [
              0,
              "#0d0887"
             ],
             [
              0.1111111111111111,
              "#46039f"
             ],
             [
              0.2222222222222222,
              "#7201a8"
             ],
             [
              0.3333333333333333,
              "#9c179e"
             ],
             [
              0.4444444444444444,
              "#bd3786"
             ],
             [
              0.5555555555555556,
              "#d8576b"
             ],
             [
              0.6666666666666666,
              "#ed7953"
             ],
             [
              0.7777777777777778,
              "#fb9f3a"
             ],
             [
              0.8888888888888888,
              "#fdca26"
             ],
             [
              1,
              "#f0f921"
             ]
            ],
            "type": "histogram2dcontour"
           }
          ],
          "mesh3d": [
           {
            "colorbar": {
             "outlinewidth": 0,
             "ticks": ""
            },
            "type": "mesh3d"
           }
          ],
          "parcoords": [
           {
            "line": {
             "colorbar": {
              "outlinewidth": 0,
              "ticks": ""
             }
            },
            "type": "parcoords"
           }
          ],
          "pie": [
           {
            "automargin": true,
            "type": "pie"
           }
          ],
          "scatter": [
           {
            "marker": {
             "colorbar": {
              "outlinewidth": 0,
              "ticks": ""
             }
            },
            "type": "scatter"
           }
          ],
          "scatter3d": [
           {
            "line": {
             "colorbar": {
              "outlinewidth": 0,
              "ticks": ""
             }
            },
            "marker": {
             "colorbar": {
              "outlinewidth": 0,
              "ticks": ""
             }
            },
            "type": "scatter3d"
           }
          ],
          "scattercarpet": [
           {
            "marker": {
             "colorbar": {
              "outlinewidth": 0,
              "ticks": ""
             }
            },
            "type": "scattercarpet"
           }
          ],
          "scattergeo": [
           {
            "marker": {
             "colorbar": {
              "outlinewidth": 0,
              "ticks": ""
             }
            },
            "type": "scattergeo"
           }
          ],
          "scattergl": [
           {
            "marker": {
             "colorbar": {
              "outlinewidth": 0,
              "ticks": ""
             }
            },
            "type": "scattergl"
           }
          ],
          "scattermapbox": [
           {
            "marker": {
             "colorbar": {
              "outlinewidth": 0,
              "ticks": ""
             }
            },
            "type": "scattermapbox"
           }
          ],
          "scatterpolar": [
           {
            "marker": {
             "colorbar": {
              "outlinewidth": 0,
              "ticks": ""
             }
            },
            "type": "scatterpolar"
           }
          ],
          "scatterpolargl": [
           {
            "marker": {
             "colorbar": {
              "outlinewidth": 0,
              "ticks": ""
             }
            },
            "type": "scatterpolargl"
           }
          ],
          "scatterternary": [
           {
            "marker": {
             "colorbar": {
              "outlinewidth": 0,
              "ticks": ""
             }
            },
            "type": "scatterternary"
           }
          ],
          "surface": [
           {
            "colorbar": {
             "outlinewidth": 0,
             "ticks": ""
            },
            "colorscale": [
             [
              0,
              "#0d0887"
             ],
             [
              0.1111111111111111,
              "#46039f"
             ],
             [
              0.2222222222222222,
              "#7201a8"
             ],
             [
              0.3333333333333333,
              "#9c179e"
             ],
             [
              0.4444444444444444,
              "#bd3786"
             ],
             [
              0.5555555555555556,
              "#d8576b"
             ],
             [
              0.6666666666666666,
              "#ed7953"
             ],
             [
              0.7777777777777778,
              "#fb9f3a"
             ],
             [
              0.8888888888888888,
              "#fdca26"
             ],
             [
              1,
              "#f0f921"
             ]
            ],
            "type": "surface"
           }
          ],
          "table": [
           {
            "cells": {
             "fill": {
              "color": "#EBF0F8"
             },
             "line": {
              "color": "white"
             }
            },
            "header": {
             "fill": {
              "color": "#C8D4E3"
             },
             "line": {
              "color": "white"
             }
            },
            "type": "table"
           }
          ]
         },
         "layout": {
          "annotationdefaults": {
           "arrowcolor": "#2a3f5f",
           "arrowhead": 0,
           "arrowwidth": 1
          },
          "autotypenumbers": "strict",
          "coloraxis": {
           "colorbar": {
            "outlinewidth": 0,
            "ticks": ""
           }
          },
          "colorscale": {
           "diverging": [
            [
             0,
             "#8e0152"
            ],
            [
             0.1,
             "#c51b7d"
            ],
            [
             0.2,
             "#de77ae"
            ],
            [
             0.3,
             "#f1b6da"
            ],
            [
             0.4,
             "#fde0ef"
            ],
            [
             0.5,
             "#f7f7f7"
            ],
            [
             0.6,
             "#e6f5d0"
            ],
            [
             0.7,
             "#b8e186"
            ],
            [
             0.8,
             "#7fbc41"
            ],
            [
             0.9,
             "#4d9221"
            ],
            [
             1,
             "#276419"
            ]
           ],
           "sequential": [
            [
             0,
             "#0d0887"
            ],
            [
             0.1111111111111111,
             "#46039f"
            ],
            [
             0.2222222222222222,
             "#7201a8"
            ],
            [
             0.3333333333333333,
             "#9c179e"
            ],
            [
             0.4444444444444444,
             "#bd3786"
            ],
            [
             0.5555555555555556,
             "#d8576b"
            ],
            [
             0.6666666666666666,
             "#ed7953"
            ],
            [
             0.7777777777777778,
             "#fb9f3a"
            ],
            [
             0.8888888888888888,
             "#fdca26"
            ],
            [
             1,
             "#f0f921"
            ]
           ],
           "sequentialminus": [
            [
             0,
             "#0d0887"
            ],
            [
             0.1111111111111111,
             "#46039f"
            ],
            [
             0.2222222222222222,
             "#7201a8"
            ],
            [
             0.3333333333333333,
             "#9c179e"
            ],
            [
             0.4444444444444444,
             "#bd3786"
            ],
            [
             0.5555555555555556,
             "#d8576b"
            ],
            [
             0.6666666666666666,
             "#ed7953"
            ],
            [
             0.7777777777777778,
             "#fb9f3a"
            ],
            [
             0.8888888888888888,
             "#fdca26"
            ],
            [
             1,
             "#f0f921"
            ]
           ]
          },
          "colorway": [
           "#636efa",
           "#EF553B",
           "#00cc96",
           "#ab63fa",
           "#FFA15A",
           "#19d3f3",
           "#FF6692",
           "#B6E880",
           "#FF97FF",
           "#FECB52"
          ],
          "font": {
           "color": "#2a3f5f"
          },
          "geo": {
           "bgcolor": "white",
           "lakecolor": "white",
           "landcolor": "#E5ECF6",
           "showlakes": true,
           "showland": true,
           "subunitcolor": "white"
          },
          "hoverlabel": {
           "align": "left"
          },
          "hovermode": "closest",
          "mapbox": {
           "style": "light"
          },
          "paper_bgcolor": "white",
          "plot_bgcolor": "#E5ECF6",
          "polar": {
           "angularaxis": {
            "gridcolor": "white",
            "linecolor": "white",
            "ticks": ""
           },
           "bgcolor": "#E5ECF6",
           "radialaxis": {
            "gridcolor": "white",
            "linecolor": "white",
            "ticks": ""
           }
          },
          "scene": {
           "xaxis": {
            "backgroundcolor": "#E5ECF6",
            "gridcolor": "white",
            "gridwidth": 2,
            "linecolor": "white",
            "showbackground": true,
            "ticks": "",
            "zerolinecolor": "white"
           },
           "yaxis": {
            "backgroundcolor": "#E5ECF6",
            "gridcolor": "white",
            "gridwidth": 2,
            "linecolor": "white",
            "showbackground": true,
            "ticks": "",
            "zerolinecolor": "white"
           },
           "zaxis": {
            "backgroundcolor": "#E5ECF6",
            "gridcolor": "white",
            "gridwidth": 2,
            "linecolor": "white",
            "showbackground": true,
            "ticks": "",
            "zerolinecolor": "white"
           }
          },
          "shapedefaults": {
           "line": {
            "color": "#2a3f5f"
           }
          },
          "ternary": {
           "aaxis": {
            "gridcolor": "white",
            "linecolor": "white",
            "ticks": ""
           },
           "baxis": {
            "gridcolor": "white",
            "linecolor": "white",
            "ticks": ""
           },
           "bgcolor": "#E5ECF6",
           "caxis": {
            "gridcolor": "white",
            "linecolor": "white",
            "ticks": ""
           }
          },
          "title": {
           "x": 0.05
          },
          "xaxis": {
           "automargin": true,
           "gridcolor": "white",
           "linecolor": "white",
           "ticks": "",
           "title": {
            "standoff": 15
           },
           "zerolinecolor": "white",
           "zerolinewidth": 2
          },
          "yaxis": {
           "automargin": true,
           "gridcolor": "white",
           "linecolor": "white",
           "ticks": "",
           "title": {
            "standoff": 15
           },
           "zerolinecolor": "white",
           "zerolinewidth": 2
          }
         }
        },
        "title": {
         "text": "Воронка событий"
        }
       }
      },
      "text/html": [
       "<div>                            <div id=\"69691adb-964b-4376-85e4-cda358ad00c6\" class=\"plotly-graph-div\" style=\"height:525px; width:100%;\"></div>            <script type=\"text/javascript\">                require([\"plotly\"], function(Plotly) {                    window.PLOTLYENV=window.PLOTLYENV || {};                                    if (document.getElementById(\"69691adb-964b-4376-85e4-cda358ad00c6\")) {                    Plotly.newPlot(                        \"69691adb-964b-4376-85e4-cda358ad00c6\",                        [{\"textinfo\":\"value+percent previous+percent initial\",\"x\":[7419,4593,3734,3539],\"y\":[\"MainScreenAppear\",\"OffersScreenAppear\",\"CartScreenAppear\",\"PaymentScreenSuccessful\"],\"type\":\"funnel\"}],                        {\"template\":{\"data\":{\"bar\":[{\"error_x\":{\"color\":\"#2a3f5f\"},\"error_y\":{\"color\":\"#2a3f5f\"},\"marker\":{\"line\":{\"color\":\"#E5ECF6\",\"width\":0.5},\"pattern\":{\"fillmode\":\"overlay\",\"size\":10,\"solidity\":0.2}},\"type\":\"bar\"}],\"barpolar\":[{\"marker\":{\"line\":{\"color\":\"#E5ECF6\",\"width\":0.5},\"pattern\":{\"fillmode\":\"overlay\",\"size\":10,\"solidity\":0.2}},\"type\":\"barpolar\"}],\"carpet\":[{\"aaxis\":{\"endlinecolor\":\"#2a3f5f\",\"gridcolor\":\"white\",\"linecolor\":\"white\",\"minorgridcolor\":\"white\",\"startlinecolor\":\"#2a3f5f\"},\"baxis\":{\"endlinecolor\":\"#2a3f5f\",\"gridcolor\":\"white\",\"linecolor\":\"white\",\"minorgridcolor\":\"white\",\"startlinecolor\":\"#2a3f5f\"},\"type\":\"carpet\"}],\"choropleth\":[{\"colorbar\":{\"outlinewidth\":0,\"ticks\":\"\"},\"type\":\"choropleth\"}],\"contour\":[{\"colorbar\":{\"outlinewidth\":0,\"ticks\":\"\"},\"colorscale\":[[0.0,\"#0d0887\"],[0.1111111111111111,\"#46039f\"],[0.2222222222222222,\"#7201a8\"],[0.3333333333333333,\"#9c179e\"],[0.4444444444444444,\"#bd3786\"],[0.5555555555555556,\"#d8576b\"],[0.6666666666666666,\"#ed7953\"],[0.7777777777777778,\"#fb9f3a\"],[0.8888888888888888,\"#fdca26\"],[1.0,\"#f0f921\"]],\"type\":\"contour\"}],\"contourcarpet\":[{\"colorbar\":{\"outlinewidth\":0,\"ticks\":\"\"},\"type\":\"contourcarpet\"}],\"heatmap\":[{\"colorbar\":{\"outlinewidth\":0,\"ticks\":\"\"},\"colorscale\":[[0.0,\"#0d0887\"],[0.1111111111111111,\"#46039f\"],[0.2222222222222222,\"#7201a8\"],[0.3333333333333333,\"#9c179e\"],[0.4444444444444444,\"#bd3786\"],[0.5555555555555556,\"#d8576b\"],[0.6666666666666666,\"#ed7953\"],[0.7777777777777778,\"#fb9f3a\"],[0.8888888888888888,\"#fdca26\"],[1.0,\"#f0f921\"]],\"type\":\"heatmap\"}],\"heatmapgl\":[{\"colorbar\":{\"outlinewidth\":0,\"ticks\":\"\"},\"colorscale\":[[0.0,\"#0d0887\"],[0.1111111111111111,\"#46039f\"],[0.2222222222222222,\"#7201a8\"],[0.3333333333333333,\"#9c179e\"],[0.4444444444444444,\"#bd3786\"],[0.5555555555555556,\"#d8576b\"],[0.6666666666666666,\"#ed7953\"],[0.7777777777777778,\"#fb9f3a\"],[0.8888888888888888,\"#fdca26\"],[1.0,\"#f0f921\"]],\"type\":\"heatmapgl\"}],\"histogram\":[{\"marker\":{\"pattern\":{\"fillmode\":\"overlay\",\"size\":10,\"solidity\":0.2}},\"type\":\"histogram\"}],\"histogram2d\":[{\"colorbar\":{\"outlinewidth\":0,\"ticks\":\"\"},\"colorscale\":[[0.0,\"#0d0887\"],[0.1111111111111111,\"#46039f\"],[0.2222222222222222,\"#7201a8\"],[0.3333333333333333,\"#9c179e\"],[0.4444444444444444,\"#bd3786\"],[0.5555555555555556,\"#d8576b\"],[0.6666666666666666,\"#ed7953\"],[0.7777777777777778,\"#fb9f3a\"],[0.8888888888888888,\"#fdca26\"],[1.0,\"#f0f921\"]],\"type\":\"histogram2d\"}],\"histogram2dcontour\":[{\"colorbar\":{\"outlinewidth\":0,\"ticks\":\"\"},\"colorscale\":[[0.0,\"#0d0887\"],[0.1111111111111111,\"#46039f\"],[0.2222222222222222,\"#7201a8\"],[0.3333333333333333,\"#9c179e\"],[0.4444444444444444,\"#bd3786\"],[0.5555555555555556,\"#d8576b\"],[0.6666666666666666,\"#ed7953\"],[0.7777777777777778,\"#fb9f3a\"],[0.8888888888888888,\"#fdca26\"],[1.0,\"#f0f921\"]],\"type\":\"histogram2dcontour\"}],\"mesh3d\":[{\"colorbar\":{\"outlinewidth\":0,\"ticks\":\"\"},\"type\":\"mesh3d\"}],\"parcoords\":[{\"line\":{\"colorbar\":{\"outlinewidth\":0,\"ticks\":\"\"}},\"type\":\"parcoords\"}],\"pie\":[{\"automargin\":true,\"type\":\"pie\"}],\"scatter\":[{\"marker\":{\"colorbar\":{\"outlinewidth\":0,\"ticks\":\"\"}},\"type\":\"scatter\"}],\"scatter3d\":[{\"line\":{\"colorbar\":{\"outlinewidth\":0,\"ticks\":\"\"}},\"marker\":{\"colorbar\":{\"outlinewidth\":0,\"ticks\":\"\"}},\"type\":\"scatter3d\"}],\"scattercarpet\":[{\"marker\":{\"colorbar\":{\"outlinewidth\":0,\"ticks\":\"\"}},\"type\":\"scattercarpet\"}],\"scattergeo\":[{\"marker\":{\"colorbar\":{\"outlinewidth\":0,\"ticks\":\"\"}},\"type\":\"scattergeo\"}],\"scattergl\":[{\"marker\":{\"colorbar\":{\"outlinewidth\":0,\"ticks\":\"\"}},\"type\":\"scattergl\"}],\"scattermapbox\":[{\"marker\":{\"colorbar\":{\"outlinewidth\":0,\"ticks\":\"\"}},\"type\":\"scattermapbox\"}],\"scatterpolar\":[{\"marker\":{\"colorbar\":{\"outlinewidth\":0,\"ticks\":\"\"}},\"type\":\"scatterpolar\"}],\"scatterpolargl\":[{\"marker\":{\"colorbar\":{\"outlinewidth\":0,\"ticks\":\"\"}},\"type\":\"scatterpolargl\"}],\"scatterternary\":[{\"marker\":{\"colorbar\":{\"outlinewidth\":0,\"ticks\":\"\"}},\"type\":\"scatterternary\"}],\"surface\":[{\"colorbar\":{\"outlinewidth\":0,\"ticks\":\"\"},\"colorscale\":[[0.0,\"#0d0887\"],[0.1111111111111111,\"#46039f\"],[0.2222222222222222,\"#7201a8\"],[0.3333333333333333,\"#9c179e\"],[0.4444444444444444,\"#bd3786\"],[0.5555555555555556,\"#d8576b\"],[0.6666666666666666,\"#ed7953\"],[0.7777777777777778,\"#fb9f3a\"],[0.8888888888888888,\"#fdca26\"],[1.0,\"#f0f921\"]],\"type\":\"surface\"}],\"table\":[{\"cells\":{\"fill\":{\"color\":\"#EBF0F8\"},\"line\":{\"color\":\"white\"}},\"header\":{\"fill\":{\"color\":\"#C8D4E3\"},\"line\":{\"color\":\"white\"}},\"type\":\"table\"}]},\"layout\":{\"annotationdefaults\":{\"arrowcolor\":\"#2a3f5f\",\"arrowhead\":0,\"arrowwidth\":1},\"autotypenumbers\":\"strict\",\"coloraxis\":{\"colorbar\":{\"outlinewidth\":0,\"ticks\":\"\"}},\"colorscale\":{\"diverging\":[[0,\"#8e0152\"],[0.1,\"#c51b7d\"],[0.2,\"#de77ae\"],[0.3,\"#f1b6da\"],[0.4,\"#fde0ef\"],[0.5,\"#f7f7f7\"],[0.6,\"#e6f5d0\"],[0.7,\"#b8e186\"],[0.8,\"#7fbc41\"],[0.9,\"#4d9221\"],[1,\"#276419\"]],\"sequential\":[[0.0,\"#0d0887\"],[0.1111111111111111,\"#46039f\"],[0.2222222222222222,\"#7201a8\"],[0.3333333333333333,\"#9c179e\"],[0.4444444444444444,\"#bd3786\"],[0.5555555555555556,\"#d8576b\"],[0.6666666666666666,\"#ed7953\"],[0.7777777777777778,\"#fb9f3a\"],[0.8888888888888888,\"#fdca26\"],[1.0,\"#f0f921\"]],\"sequentialminus\":[[0.0,\"#0d0887\"],[0.1111111111111111,\"#46039f\"],[0.2222222222222222,\"#7201a8\"],[0.3333333333333333,\"#9c179e\"],[0.4444444444444444,\"#bd3786\"],[0.5555555555555556,\"#d8576b\"],[0.6666666666666666,\"#ed7953\"],[0.7777777777777778,\"#fb9f3a\"],[0.8888888888888888,\"#fdca26\"],[1.0,\"#f0f921\"]]},\"colorway\":[\"#636efa\",\"#EF553B\",\"#00cc96\",\"#ab63fa\",\"#FFA15A\",\"#19d3f3\",\"#FF6692\",\"#B6E880\",\"#FF97FF\",\"#FECB52\"],\"font\":{\"color\":\"#2a3f5f\"},\"geo\":{\"bgcolor\":\"white\",\"lakecolor\":\"white\",\"landcolor\":\"#E5ECF6\",\"showlakes\":true,\"showland\":true,\"subunitcolor\":\"white\"},\"hoverlabel\":{\"align\":\"left\"},\"hovermode\":\"closest\",\"mapbox\":{\"style\":\"light\"},\"paper_bgcolor\":\"white\",\"plot_bgcolor\":\"#E5ECF6\",\"polar\":{\"angularaxis\":{\"gridcolor\":\"white\",\"linecolor\":\"white\",\"ticks\":\"\"},\"bgcolor\":\"#E5ECF6\",\"radialaxis\":{\"gridcolor\":\"white\",\"linecolor\":\"white\",\"ticks\":\"\"}},\"scene\":{\"xaxis\":{\"backgroundcolor\":\"#E5ECF6\",\"gridcolor\":\"white\",\"gridwidth\":2,\"linecolor\":\"white\",\"showbackground\":true,\"ticks\":\"\",\"zerolinecolor\":\"white\"},\"yaxis\":{\"backgroundcolor\":\"#E5ECF6\",\"gridcolor\":\"white\",\"gridwidth\":2,\"linecolor\":\"white\",\"showbackground\":true,\"ticks\":\"\",\"zerolinecolor\":\"white\"},\"zaxis\":{\"backgroundcolor\":\"#E5ECF6\",\"gridcolor\":\"white\",\"gridwidth\":2,\"linecolor\":\"white\",\"showbackground\":true,\"ticks\":\"\",\"zerolinecolor\":\"white\"}},\"shapedefaults\":{\"line\":{\"color\":\"#2a3f5f\"}},\"ternary\":{\"aaxis\":{\"gridcolor\":\"white\",\"linecolor\":\"white\",\"ticks\":\"\"},\"baxis\":{\"gridcolor\":\"white\",\"linecolor\":\"white\",\"ticks\":\"\"},\"bgcolor\":\"#E5ECF6\",\"caxis\":{\"gridcolor\":\"white\",\"linecolor\":\"white\",\"ticks\":\"\"}},\"title\":{\"x\":0.05},\"xaxis\":{\"automargin\":true,\"gridcolor\":\"white\",\"linecolor\":\"white\",\"ticks\":\"\",\"title\":{\"standoff\":15},\"zerolinecolor\":\"white\",\"zerolinewidth\":2},\"yaxis\":{\"automargin\":true,\"gridcolor\":\"white\",\"linecolor\":\"white\",\"ticks\":\"\",\"title\":{\"standoff\":15},\"zerolinecolor\":\"white\",\"zerolinewidth\":2}}},\"title\":{\"text\":\"\\u0412\\u043e\\u0440\\u043e\\u043d\\u043a\\u0430 \\u0441\\u043e\\u0431\\u044b\\u0442\\u0438\\u0439\"}},                        {\"responsive\": true}                    ).then(function(){\n",
       "                            \n",
       "var gd = document.getElementById('69691adb-964b-4376-85e4-cda358ad00c6');\n",
       "var x = new MutationObserver(function (mutations, observer) {{\n",
       "        var display = window.getComputedStyle(gd).display;\n",
       "        if (!display || display === 'none') {{\n",
       "            console.log([gd, 'removed!']);\n",
       "            Plotly.purge(gd);\n",
       "            observer.disconnect();\n",
       "        }}\n",
       "}});\n",
       "\n",
       "// Listen for the removal of the full notebook cells\n",
       "var notebookContainer = gd.closest('#notebook-container');\n",
       "if (notebookContainer) {{\n",
       "    x.observe(notebookContainer, {childList: true});\n",
       "}}\n",
       "\n",
       "// Listen for the clearing of the current output cell\n",
       "var outputEl = gd.closest('.output');\n",
       "if (outputEl) {{\n",
       "    x.observe(outputEl, {childList: true});\n",
       "}}\n",
       "\n",
       "                        })                };                });            </script>        </div>"
      ]
     },
     "metadata": {},
     "output_type": "display_data"
    }
   ],
   "source": [
    "fig = go.Figure(go.Funnel(\n",
    "    y = sales_funnel['event_name'],\n",
    "    x = sales_funnel['count_users'],\n",
    "    textinfo = \"value+percent previous+percent initial\")\n",
    "               )\n",
    "fig.update_layout(title=\"Воронка событий\")\n",
    "fig.show()"
   ]
  },
  {
   "cell_type": "code",
   "execution_count": 14,
   "metadata": {},
   "outputs": [
    {
     "name": "stderr",
     "output_type": "stream",
     "text": [
      "/tmp/ipykernel_48/1336379176.py:2: SettingWithCopyWarning:\n",
      "\n",
      "\n",
      "A value is trying to be set on a copy of a slice from a DataFrame.\n",
      "Try using .loc[row_indexer,col_indexer] = value instead\n",
      "\n",
      "See the caveats in the documentation: https://pandas.pydata.org/pandas-docs/stable/user_guide/indexing.html#returning-a-view-versus-a-copy\n",
      "\n",
      "/tmp/ipykernel_48/1336379176.py:4: SettingWithCopyWarning:\n",
      "\n",
      "\n",
      "A value is trying to be set on a copy of a slice from a DataFrame.\n",
      "Try using .loc[row_indexer,col_indexer] = value instead\n",
      "\n",
      "See the caveats in the documentation: https://pandas.pydata.org/pandas-docs/stable/user_guide/indexing.html#returning-a-view-versus-a-copy\n",
      "\n"
     ]
    },
    {
     "data": {
      "text/html": [
       "<div>\n",
       "<style scoped>\n",
       "    .dataframe tbody tr th:only-of-type {\n",
       "        vertical-align: middle;\n",
       "    }\n",
       "\n",
       "    .dataframe tbody tr th {\n",
       "        vertical-align: top;\n",
       "    }\n",
       "\n",
       "    .dataframe thead th {\n",
       "        text-align: right;\n",
       "    }\n",
       "</style>\n",
       "<table border=\"1\" class=\"dataframe\">\n",
       "  <thead>\n",
       "    <tr style=\"text-align: right;\">\n",
       "      <th></th>\n",
       "      <th>event_name</th>\n",
       "      <th>count_users</th>\n",
       "      <th>share_users</th>\n",
       "      <th>previous_share</th>\n",
       "      <th>initial_share</th>\n",
       "    </tr>\n",
       "  </thead>\n",
       "  <tbody>\n",
       "    <tr>\n",
       "      <th>1</th>\n",
       "      <td>MainScreenAppear</td>\n",
       "      <td>7419</td>\n",
       "      <td>0.98</td>\n",
       "      <td>1.00</td>\n",
       "      <td>1.00</td>\n",
       "    </tr>\n",
       "    <tr>\n",
       "      <th>2</th>\n",
       "      <td>OffersScreenAppear</td>\n",
       "      <td>4593</td>\n",
       "      <td>0.61</td>\n",
       "      <td>0.62</td>\n",
       "      <td>0.62</td>\n",
       "    </tr>\n",
       "    <tr>\n",
       "      <th>0</th>\n",
       "      <td>CartScreenAppear</td>\n",
       "      <td>3734</td>\n",
       "      <td>0.50</td>\n",
       "      <td>0.81</td>\n",
       "      <td>0.50</td>\n",
       "    </tr>\n",
       "    <tr>\n",
       "      <th>3</th>\n",
       "      <td>PaymentScreenSuccessful</td>\n",
       "      <td>3539</td>\n",
       "      <td>0.47</td>\n",
       "      <td>0.95</td>\n",
       "      <td>0.48</td>\n",
       "    </tr>\n",
       "  </tbody>\n",
       "</table>\n",
       "</div>"
      ],
      "text/plain": [
       "                event_name  count_users  share_users  previous_share  \\\n",
       "1         MainScreenAppear         7419         0.98            1.00   \n",
       "2       OffersScreenAppear         4593         0.61            0.62   \n",
       "0         CartScreenAppear         3734         0.50            0.81   \n",
       "3  PaymentScreenSuccessful         3539         0.47            0.95   \n",
       "\n",
       "   initial_share  \n",
       "1           1.00  \n",
       "2           0.62  \n",
       "0           0.50  \n",
       "3           0.48  "
      ]
     },
     "metadata": {},
     "output_type": "display_data"
    }
   ],
   "source": [
    "# создание столбца с долями пользователей от предыдущего события\n",
    "sales_funnel['previous_share'] = round(sales_funnel['count_users']/sales_funnel['count_users'].shift(1, fill_value=7429),2)\n",
    "# создание столбца с долями пользователей от первого события\n",
    "sales_funnel['initial_share'] = round(sales_funnel['count_users']/sales_funnel['count_users'][1],2)\n",
    "display(sales_funnel)\n"
   ]
  },
  {
   "cell_type": "markdown",
   "metadata": {},
   "source": [
    "Как видно из графика воронки лишь большая часть пользователей «отваливается» на втором шаге OffersScreenAppear(Выход на страницу предложений) а именно 2826 пользователей или 38% от шага 1, доля пользователей доходящие от шага 1 до последнего шага оплаты состовляет 48%, в конверсия в целом очень хорошая"
   ]
  },
  {
   "cell_type": "markdown",
   "metadata": {},
   "source": [
    "## Изучение результатов эксперимента"
   ]
  },
  {
   "cell_type": "markdown",
   "metadata": {},
   "source": [
    "### Количество пользователей в группах"
   ]
  },
  {
   "cell_type": "code",
   "execution_count": 15,
   "metadata": {},
   "outputs": [
    {
     "data": {
      "text/html": [
       "<div>\n",
       "<style scoped>\n",
       "    .dataframe tbody tr th:only-of-type {\n",
       "        vertical-align: middle;\n",
       "    }\n",
       "\n",
       "    .dataframe tbody tr th {\n",
       "        vertical-align: top;\n",
       "    }\n",
       "\n",
       "    .dataframe thead th {\n",
       "        text-align: right;\n",
       "    }\n",
       "</style>\n",
       "<table border=\"1\" class=\"dataframe\">\n",
       "  <thead>\n",
       "    <tr style=\"text-align: right;\">\n",
       "      <th></th>\n",
       "      <th>exp_id</th>\n",
       "      <th>count_users</th>\n",
       "    </tr>\n",
       "  </thead>\n",
       "  <tbody>\n",
       "    <tr>\n",
       "      <th>0</th>\n",
       "      <td>246</td>\n",
       "      <td>2483</td>\n",
       "    </tr>\n",
       "    <tr>\n",
       "      <th>1</th>\n",
       "      <td>247</td>\n",
       "      <td>2512</td>\n",
       "    </tr>\n",
       "    <tr>\n",
       "      <th>2</th>\n",
       "      <td>248</td>\n",
       "      <td>2535</td>\n",
       "    </tr>\n",
       "    <tr>\n",
       "      <th>3</th>\n",
       "      <td>246_247</td>\n",
       "      <td>4995</td>\n",
       "    </tr>\n",
       "  </tbody>\n",
       "</table>\n",
       "</div>"
      ],
      "text/plain": [
       "    exp_id  count_users\n",
       "0      246         2483\n",
       "1      247         2512\n",
       "2      248         2535\n",
       "3  246_247         4995"
      ]
     },
     "metadata": {},
     "output_type": "display_data"
    }
   ],
   "source": [
    "# Подсчёт в группах количества пользователей\n",
    "count_exp_user = (data.query('event_name != \"Tutorial\"')\n",
    "                      .groupby('exp_id',as_index=False)['user_id']\n",
    "                      .nunique()\n",
    "                      .rename(columns = {'user_id':'count_users'})\n",
    "                 )\n",
    "# Добавление сумму 246 и 247 груп\n",
    "count_exp_user.loc[len(count_exp_user.index)] = ['246_247', count_exp_user['count_users'][0] + count_exp_user['count_users'][1]]\n",
    "display(count_exp_user)"
   ]
  },
  {
   "cell_type": "markdown",
   "metadata": {},
   "source": [
    "Группы приблизительно равны по численности"
   ]
  },
  {
   "cell_type": "markdown",
   "metadata": {},
   "source": [
    "### Проверка на разницу статистических критериев между выборками 246 и 247(Проверка АА-теста)"
   ]
  },
  {
   "cell_type": "code",
   "execution_count": 16,
   "metadata": {},
   "outputs": [
    {
     "name": "stdout",
     "output_type": "stream",
     "text": [
      "                event_name   246   247   248  246_247\n",
      "0         MainScreenAppear  2450  2476  2493     4926\n",
      "1       OffersScreenAppear  1542  1520  1531     3062\n",
      "2         CartScreenAppear  1266  1238  1230     2504\n",
      "3  PaymentScreenSuccessful  1200  1158  1181     2358\n"
     ]
    }
   ],
   "source": [
    "# Подсчёт количества пользователей группы 246\n",
    "user_246 = (data.query('exp_id == 246 & event_name != \"Tutorial\"')\n",
    "                   .groupby('event_name', as_index=False)\n",
    "                   .agg({'user_id':'nunique'})\n",
    "                   .sort_values(by='user_id',ascending=False)\n",
    "                   .rename(columns = {'user_id':'246'})\n",
    "              )\n",
    "# Подсчёт количества пользователей группы 247\n",
    "user_247 = (data.query('exp_id == 247 & event_name != \"Tutorial\"')\n",
    "                   .groupby('event_name', as_index=False)\n",
    "                   .agg({'user_id':'nunique'})\n",
    "                   .sort_values(by='user_id',ascending=False)\n",
    "                   .rename(columns = {'user_id':'247'})\n",
    "              )\n",
    "# Подсчёт количества пользователей группы 248\n",
    "user_248 = (data.query('exp_id == 248 & event_name != \"Tutorial\"')\n",
    "                   .groupby('event_name', as_index=False)\n",
    "                   .agg({'user_id':'nunique'})\n",
    "                   .sort_values(by='user_id',ascending=False)\n",
    "                   .rename(columns = {'user_id':'248'})\n",
    "              )\n",
    "users_events_per_group = user_246.merge(user_247, on='event_name').merge(user_248, on='event_name')\n",
    "users_events_per_group['246_247'] = users_events_per_group['246'] + users_events_per_group['247']\n",
    "\n",
    "print(users_events_per_group)"
   ]
  },
  {
   "cell_type": "markdown",
   "metadata": {},
   "source": [
    "Самое популярное событие MainScreenAppear(Выход на главный экран)"
   ]
  },
  {
   "cell_type": "code",
   "execution_count": 17,
   "metadata": {},
   "outputs": [
    {
     "name": "stdout",
     "output_type": "stream",
     "text": [
      "Событие MainScreenAppear в группе 246 выполнило  98.67% пользователей\n",
      "Событие MainScreenAppear в группе 247 выполнило  98.57% пользователей\n",
      "Событие MainScreenAppear в группе 248 выполнило  98.34% пользователей\n"
     ]
    }
   ],
   "source": [
    "# расчёт долей выполнивших самое популярное событие в группах\n",
    "print('''Событие MainScreenAppear в группе 246 выполнило ''', '{:.2%}'.format(users_events_per_group['246'][0]/count_exp_user['count_users'][0]), 'пользователей')\n",
    "print('''Событие MainScreenAppear в группе 247 выполнило ''', '{:.2%}'.format(users_events_per_group['247'][0]/count_exp_user['count_users'][1]), 'пользователей')\n",
    "print('''Событие MainScreenAppear в группе 248 выполнило ''', '{:.2%}'.format(users_events_per_group['248'][0]/count_exp_user['count_users'][2]), 'пользователей')"
   ]
  },
  {
   "cell_type": "markdown",
   "metadata": {},
   "source": [
    "###### Гипотезы для z-теста проверки АА-групп\n",
    "- Нулевая гипотеза - между долями в выборке 246 и 247 нет разницы\n",
    "- Альтернативная гипотеза - Доли в выборках 246 и 247 одинаковые, между ними нет статистически  разницы"
   ]
  },
  {
   "cell_type": "code",
   "execution_count": 18,
   "metadata": {},
   "outputs": [
    {
     "name": "stdout",
     "output_type": "stream",
     "text": [
      "Проверка 1 события\n",
      "p-значение:  0.7526703436483038\n",
      "Не получилось отвергнуть нулевую гипотезу, нет оснований считать доли разными\n",
      "Проверка 2 события\n",
      "p-значение:  0.24786096925282264\n",
      "Не получилось отвергнуть нулевую гипотезу, нет оснований считать доли разными\n",
      "Проверка 3 события\n",
      "p-значение:  0.22867643757335676\n",
      "Не получилось отвергнуть нулевую гипотезу, нет оснований считать доли разными\n",
      "Проверка 4 события\n",
      "p-значение:  0.11446627829276612\n",
      "Не получилось отвергнуть нулевую гипотезу, нет оснований считать доли разными\n"
     ]
    }
   ],
   "source": [
    "# функция для расчёта z-теста на равенство долей\n",
    "def check_hypothesis(successes1, successes2, trials1, trials2, alpha=0.0032):\n",
    "    p1 = successes1/trials1\n",
    "    p2 = successes2/trials2\n",
    "    p_combined = (successes1 + successes2) / (trials1 + trials2)\n",
    "    difference = p1 - p2\n",
    "    \n",
    "    z_value = difference / math.sqrt(p_combined * (1 - p_combined) * (1/trials1 + 1/trials2))\n",
    "\n",
    "    distr = stats.norm(0, 1) \n",
    "\n",
    "    p_value = (1 - distr.cdf(abs(z_value))) * 2\n",
    "\n",
    "    print('p-значение: ', p_value)\n",
    "\n",
    "    if (p_value < alpha):\n",
    "        print(\"Отвергаем нулевую гипотезу: между долями есть значимая разница\")\n",
    "    else:\n",
    "        print(\"Не получилось отвергнуть нулевую гипотезу, нет оснований считать доли разными\")\n",
    "\n",
    "# цикл для расчёта равенства долей для 246 и 247 группы       \n",
    "for event in users_events_per_group.index:\n",
    "    print('Проверка', event + 1, 'события')\n",
    "    check_hypothesis(users_events_per_group.loc[event, '246'],\n",
    "    users_events_per_group.loc[event, '247'],\n",
    "    count_exp_user.loc[0, 'count_users'],\n",
    "    count_exp_user.loc[1, 'count_users'])"
   ]
  },
  {
   "cell_type": "markdown",
   "metadata": {},
   "source": [
    "При сравнении долей пользователей АА-групп отличий обнаружено небыло, АА-тест коректен. "
   ]
  },
  {
   "cell_type": "markdown",
   "metadata": {},
   "source": [
    "### Проверка на разницу статистических критериев между выборками 246/247 и соместной и 248(АВ-тест)"
   ]
  },
  {
   "cell_type": "markdown",
   "metadata": {},
   "source": [
    "###### Гипотезы для z-теста проверки АB-групп\n",
    "- Нулевая гипотеза - между долями в выборке c неизменными шрифтами(246,247 и контрольной(246+247))  и группы с измененным шрифтом (248) нет разницы.\n",
    "- Альтернативная гипотеза - доли в выборках  c c неизменными шрифтами(246,247 и контрольной(246+247))  и группы с измененным шрифтом (248) одинаковые, между ними нет статистически значимой разницы"
   ]
  },
  {
   "cell_type": "code",
   "execution_count": 19,
   "metadata": {},
   "outputs": [
    {
     "name": "stdout",
     "output_type": "stream",
     "text": [
      "Проверка 1 события\n",
      "p-значение:  0.3387114076159288\n",
      "Не получилось отвергнуть нулевую гипотезу, нет оснований считать доли разными\n",
      "Проверка 2 события\n",
      "p-значение:  0.21442476639710506\n",
      "Не получилось отвергнуть нулевую гипотезу, нет оснований считать доли разными\n",
      "Проверка 3 события\n",
      "p-значение:  0.08067367598823139\n",
      "Не получилось отвергнуть нулевую гипотезу, нет оснований считать доли разными\n",
      "Проверка 4 события\n",
      "p-значение:  0.21693033984516674\n",
      "Не получилось отвергнуть нулевую гипотезу, нет оснований считать доли разными\n"
     ]
    }
   ],
   "source": [
    "# цикл для расчёта равенства долей для 246 и 248 группы       \n",
    "for event in users_events_per_group.index:\n",
    "    print('Проверка',event + 1, 'события')\n",
    "    check_hypothesis(users_events_per_group.loc[event, '246'],\n",
    "    users_events_per_group.loc[event, '248'],\n",
    "    count_exp_user.loc[0, 'count_users'],\n",
    "    count_exp_user.loc[2, 'count_users'])"
   ]
  },
  {
   "cell_type": "code",
   "execution_count": 20,
   "metadata": {},
   "outputs": [
    {
     "name": "stdout",
     "output_type": "stream",
     "text": [
      "Проверка 1 события\n",
      "p-значение:  0.5194964354051703\n",
      "Не получилось отвергнуть нулевую гипотезу, нет оснований считать доли разными\n",
      "Проверка 2 события\n",
      "p-значение:  0.9333751305879443\n",
      "Не получилось отвергнуть нулевую гипотезу, нет оснований считать доли разными\n",
      "Проверка 3 события\n",
      "p-значение:  0.5878284605111943\n",
      "Не получилось отвергнуть нулевую гипотезу, нет оснований считать доли разными\n",
      "Проверка 4 события\n",
      "p-значение:  0.7275718682261119\n",
      "Не получилось отвергнуть нулевую гипотезу, нет оснований считать доли разными\n"
     ]
    }
   ],
   "source": [
    "# цикл для расчёта равенства долей для 247 и 248 группы       \n",
    "for event in users_events_per_group.index:\n",
    "    print('Проверка', event + 1, 'события')\n",
    "    check_hypothesis(users_events_per_group.loc[event, '247'],\n",
    "    users_events_per_group.loc[event, '248'],\n",
    "    count_exp_user.loc[1, 'count_users'],\n",
    "    count_exp_user.loc[2, 'count_users'])"
   ]
  },
  {
   "cell_type": "code",
   "execution_count": 21,
   "metadata": {},
   "outputs": [
    {
     "name": "stdout",
     "output_type": "stream",
     "text": [
      "Проверка 1 события\n",
      "p-значение:  0.3486684291093256\n",
      "Не получилось отвергнуть нулевую гипотезу, нет оснований считать доли разными\n",
      "Проверка 2 события\n",
      "p-значение:  0.44582745409482394\n",
      "Не получилось отвергнуть нулевую гипотезу, нет оснований считать доли разными\n",
      "Проверка 3 события\n",
      "p-значение:  0.18683558686831558\n",
      "Не получилось отвергнуть нулевую гипотезу, нет оснований считать доли разными\n",
      "Проверка 4 события\n",
      "p-значение:  0.6107918742187335\n",
      "Не получилось отвергнуть нулевую гипотезу, нет оснований считать доли разными\n"
     ]
    }
   ],
   "source": [
    "# цикл для расчёта равенства долей для контрольной группы(246+247) и 248 группы       \n",
    "for event in users_events_per_group.index:\n",
    "    print('Проверка', event + 1, 'события')\n",
    "    check_hypothesis(users_events_per_group.loc[event, '246_247'],\n",
    "    users_events_per_group.loc[event, '248'],\n",
    "    count_exp_user.loc[3, 'count_users'],\n",
    "    count_exp_user.loc[2, 'count_users'])"
   ]
  },
  {
   "cell_type": "markdown",
   "metadata": {},
   "source": [
    "в 12 проверок из 12 нулевая гипотеза подтвердилось можно с увереннностью сделать вывод что изменение шрифтом никак не влияют на общую конверсию"
   ]
  },
  {
   "cell_type": "markdown",
   "metadata": {},
   "source": [
    "###  Подсчёт количество проверок статистических гипотез, Обоснование уровня значимости и сравнение с уровнем в 0.1\n"
   ]
  },
  {
   "cell_type": "markdown",
   "metadata": {},
   "source": [
    "Всего было 16 проверок гипотез о равенстве долей, уровень значимости был выбран в alpha = 0.01 "
   ]
  },
  {
   "cell_type": "code",
   "execution_count": 22,
   "metadata": {},
   "outputs": [
    {
     "name": "stdout",
     "output_type": "stream",
     "text": [
      "Проверка 1 события\n",
      "p-значение:  0.7526703436483038\n",
      "Не получилось отвергнуть нулевую гипотезу, нет оснований считать доли разными\n",
      "Проверка 2 события\n",
      "p-значение:  0.24786096925282264\n",
      "Не получилось отвергнуть нулевую гипотезу, нет оснований считать доли разными\n",
      "Проверка 3 события\n",
      "p-значение:  0.22867643757335676\n",
      "Не получилось отвергнуть нулевую гипотезу, нет оснований считать доли разными\n",
      "Проверка 4 события\n",
      "p-значение:  0.11446627829276612\n",
      "Не получилось отвергнуть нулевую гипотезу, нет оснований считать доли разными\n"
     ]
    }
   ],
   "source": [
    "# цикл для расчёта равенства долей для 246 и 247 группы с alpha=0.1      \n",
    "for event in users_events_per_group.index:\n",
    "    print('Проверка', event + 1, 'события')\n",
    "    check_hypothesis(users_events_per_group.loc[event, '246'],\n",
    "    users_events_per_group.loc[event, '247'],\n",
    "    count_exp_user.loc[0, 'count_users'],\n",
    "    count_exp_user.loc[1, 'count_users'], alpha=0.1)"
   ]
  },
  {
   "cell_type": "markdown",
   "metadata": {},
   "source": [
    "Как видно по результатам проверки АА-групп доли в событии номер 2 не сходятся, множется количество ошибок первого рода при таком высоком пороге alpha"
   ]
  },
  {
   "cell_type": "code",
   "execution_count": 23,
   "metadata": {},
   "outputs": [
    {
     "name": "stdout",
     "output_type": "stream",
     "text": [
      "Проверка 1 события\n",
      "p-значение:  0.3387114076159288\n",
      "Не получилось отвергнуть нулевую гипотезу, нет оснований считать доли разными\n",
      "Проверка 2 события\n",
      "p-значение:  0.21442476639710506\n",
      "Не получилось отвергнуть нулевую гипотезу, нет оснований считать доли разными\n",
      "Проверка 3 события\n",
      "p-значение:  0.08067367598823139\n",
      "Отвергаем нулевую гипотезу: между долями есть значимая разница\n",
      "Проверка 4 события\n",
      "p-значение:  0.21693033984516674\n",
      "Не получилось отвергнуть нулевую гипотезу, нет оснований считать доли разными\n",
      "Проверка 1 события\n",
      "p-значение:  0.5194964354051703\n",
      "Не получилось отвергнуть нулевую гипотезу, нет оснований считать доли разными\n",
      "Проверка 2 события\n",
      "p-значение:  0.9333751305879443\n",
      "Не получилось отвергнуть нулевую гипотезу, нет оснований считать доли разными\n",
      "Проверка 3 события\n",
      "p-значение:  0.5878284605111943\n",
      "Не получилось отвергнуть нулевую гипотезу, нет оснований считать доли разными\n",
      "Проверка 4 события\n",
      "p-значение:  0.7275718682261119\n",
      "Не получилось отвергнуть нулевую гипотезу, нет оснований считать доли разными\n",
      "Проверка 1 события\n",
      "p-значение:  0.3486684291093256\n",
      "Не получилось отвергнуть нулевую гипотезу, нет оснований считать доли разными\n",
      "Проверка 2 события\n",
      "p-значение:  0.44582745409482394\n",
      "Не получилось отвергнуть нулевую гипотезу, нет оснований считать доли разными\n",
      "Проверка 3 события\n",
      "p-значение:  0.18683558686831558\n",
      "Не получилось отвергнуть нулевую гипотезу, нет оснований считать доли разными\n",
      "Проверка 4 события\n",
      "p-значение:  0.6107918742187335\n",
      "Не получилось отвергнуть нулевую гипотезу, нет оснований считать доли разными\n"
     ]
    }
   ],
   "source": [
    "# цикл для расчёта равенства долей для 246 и 248 группы с alpha=0.1      \n",
    "for event in users_events_per_group.index:\n",
    "    print('Проверка', event + 1, 'события')\n",
    "    check_hypothesis(users_events_per_group.loc[event, '246'],\n",
    "    users_events_per_group.loc[event, '248'],\n",
    "    count_exp_user.loc[0, 'count_users'],\n",
    "    count_exp_user.loc[2, 'count_users'], alpha=0.1) \n",
    " # цикл для расчёта равенства долей для 247 и 248 группы с alpha=0.1      \n",
    "for event in users_events_per_group.index:\n",
    "    print('Проверка', event + 1, 'события')\n",
    "    check_hypothesis(users_events_per_group.loc[event, '247'],\n",
    "    users_events_per_group.loc[event, '248'],\n",
    "    count_exp_user.loc[1, 'count_users'],\n",
    "    count_exp_user.loc[2, 'count_users'], alpha=0.1)\n",
    "# цикл для расчёта равенства долей для контрольной группы(246+247) и 248 группы       \n",
    "for event in users_events_per_group.index:\n",
    "    print('Проверка', event + 1, 'события')\n",
    "    check_hypothesis(users_events_per_group.loc[event, '246_247'],\n",
    "    users_events_per_group.loc[event, '248'],\n",
    "    count_exp_user.loc[3, 'count_users'],\n",
    "    count_exp_user.loc[2, 'count_users'], alpha=0.1)    "
   ]
  },
  {
   "cell_type": "markdown",
   "metadata": {},
   "source": [
    "между 246 и 248 в 2 событиях есть отличия при этом между 247 и 248, и объединённой группой и 248 такого нет, так как при увеличении порога множатся ошибки первого рода. соответсвенно для их минимизации при груповом сравнении  был выбран порог в 0.0032 согласно формуле Шидака."
   ]
  },
  {
   "cell_type": "markdown",
   "metadata": {},
   "source": [
    "## Общий вывод"
   ]
  },
  {
   "cell_type": "markdown",
   "metadata": {},
   "source": [
    " Данные которыми мы располагали во время ислледования включали 243713 событий и 7551 уникальных пользователей, в среднем  на пользователя приходилось 32 события с максимальной с 25 июля по 7 августа. 98,84% данных событий приходятся на август и лишь 1.16%(2826) событий на июль 19.22% (1451) пользователей выполнили события в июле, события относительно основных данных вместе с августом  немного, при этом только 17 пользователей совершивших события только в июле, их было решено удалить, так как по сути мы располагаем данными с 1 августа 2019г. \n",
    "- Выход на главный экран выполнило 7419 пользователя это самое популярное событие  по очередности это ***1 событие***\n",
    "- Выход на страницу предложений выполнило 4606 пользователей это  по очередности ***2 событие***\n",
    "- Выход на страницу «корзины» выполнило 3742 пользователей это по очередности  ***3 событие***\n",
    "- Выход на страницу подтверждающую успешную оплату выполнило 3542 пользователей это по очередности  ***4 событие***\n",
    "- Страницу просмотра руководства пользования сайтом выполнило 845 пользователей они к воронке продаж не относятся и посредовательность ***не может быть определена и её необходимо исключить***, можно только предположить что вероятно данное событие чащё происходило впервую очередь\n",
    "Большая часть пользователей «отваливается» на втором шаге OffersScreenAppear(Выход на страницу предложений) а именно 2823 пользователей или 38% от шага 1, доля пользователей доходящие от шага 1 до последнего шага оплаты состовляет 48%, в конверсия в целом очень хорошая.\n",
    "При установки порогового значения alpha 0.0032 был выбран метод Шидака для снижения вероятности ошибки первого рода\n",
    "При делении на группы пользователей разбили на приблизительно равные части по 2483, 2512 и  2535 пользователей, При сравнении долей пользователей АА-групп отличий обнаружено небыло, АА-тест коректен. В 12 проверок из 12 нулевая гипотеза подтвердилось можно с увереннностью сделать вывод что изменение шрифтом никак не влияют на общую конверсию.В  12 проверок из 12 нулевая гипотеза подтвердилось можно с увереннностью сделать вывод что изменение шрифтом никак не влияют на общую конверсию. Поскольку тест множественный  . Касательно рекомендации бизнесу в целом изменение шрифта не как не повлияла на общую конверсию как в положительную так и в отрицательную сторону, рекомендую дизайнерам сосредоточится на других элементах"
   ]
  }
 ],
 "metadata": {
  "ExecuteTimeLog": [
   {
    "duration": 53,
    "start_time": "2022-12-13T14:02:42.324Z"
   },
   {
    "duration": 414,
    "start_time": "2022-12-13T14:02:47.476Z"
   },
   {
    "duration": 943,
    "start_time": "2022-12-13T14:02:48.355Z"
   },
   {
    "duration": 97,
    "start_time": "2022-12-13T14:04:17.426Z"
   },
   {
    "duration": 147,
    "start_time": "2022-12-13T14:04:22.203Z"
   },
   {
    "duration": 158,
    "start_time": "2022-12-13T14:09:16.454Z"
   },
   {
    "duration": 176,
    "start_time": "2022-12-13T14:11:11.910Z"
   },
   {
    "duration": 176,
    "start_time": "2022-12-13T14:11:22.536Z"
   },
   {
    "duration": 168,
    "start_time": "2022-12-13T14:11:36.264Z"
   },
   {
    "duration": 158,
    "start_time": "2022-12-13T14:11:45.824Z"
   },
   {
    "duration": 152,
    "start_time": "2022-12-13T14:11:53.209Z"
   },
   {
    "duration": 3,
    "start_time": "2022-12-13T14:48:54.054Z"
   },
   {
    "duration": 5,
    "start_time": "2022-12-13T14:49:09.530Z"
   },
   {
    "duration": 234,
    "start_time": "2022-12-13T14:50:14.132Z"
   },
   {
    "duration": 32,
    "start_time": "2022-12-13T14:55:20.111Z"
   },
   {
    "duration": 10,
    "start_time": "2022-12-13T14:55:45.250Z"
   },
   {
    "duration": 118,
    "start_time": "2022-12-13T14:56:12.130Z"
   },
   {
    "duration": 120,
    "start_time": "2022-12-13T14:57:34.198Z"
   },
   {
    "duration": 114,
    "start_time": "2022-12-13T14:57:51.150Z"
   },
   {
    "duration": 1213,
    "start_time": "2022-12-13T15:03:05.525Z"
   },
   {
    "duration": 215,
    "start_time": "2022-12-13T15:03:14.693Z"
   },
   {
    "duration": 96,
    "start_time": "2022-12-13T15:03:19.413Z"
   },
   {
    "duration": 107,
    "start_time": "2022-12-13T15:03:25.639Z"
   },
   {
    "duration": 118,
    "start_time": "2022-12-13T15:06:47.977Z"
   },
   {
    "duration": 117,
    "start_time": "2022-12-13T15:07:36.865Z"
   },
   {
    "duration": 111,
    "start_time": "2022-12-13T15:11:26.744Z"
   },
   {
    "duration": 138,
    "start_time": "2022-12-13T15:11:36.614Z"
   },
   {
    "duration": 136,
    "start_time": "2022-12-13T15:11:55.432Z"
   },
   {
    "duration": 140,
    "start_time": "2022-12-13T15:12:13.566Z"
   },
   {
    "duration": 135,
    "start_time": "2022-12-13T15:13:02.893Z"
   },
   {
    "duration": 175,
    "start_time": "2022-12-13T15:15:33.265Z"
   },
   {
    "duration": 131,
    "start_time": "2022-12-13T15:15:55.921Z"
   },
   {
    "duration": 138,
    "start_time": "2022-12-13T15:16:06.723Z"
   },
   {
    "duration": 141,
    "start_time": "2022-12-13T15:16:15.141Z"
   },
   {
    "duration": 196,
    "start_time": "2022-12-13T15:17:01.650Z"
   },
   {
    "duration": 7,
    "start_time": "2022-12-13T15:19:00.701Z"
   },
   {
    "duration": 5,
    "start_time": "2022-12-13T15:19:42.840Z"
   },
   {
    "duration": 2233,
    "start_time": "2022-12-13T15:20:01.466Z"
   },
   {
    "duration": 5,
    "start_time": "2022-12-13T15:22:16.370Z"
   },
   {
    "duration": 5,
    "start_time": "2022-12-13T15:22:48.140Z"
   },
   {
    "duration": 5,
    "start_time": "2022-12-13T15:22:58.560Z"
   },
   {
    "duration": 8,
    "start_time": "2022-12-13T15:23:08.840Z"
   },
   {
    "duration": 28,
    "start_time": "2022-12-13T15:25:18.450Z"
   },
   {
    "duration": 14,
    "start_time": "2022-12-13T15:25:30.705Z"
   },
   {
    "duration": 53,
    "start_time": "2022-12-13T15:25:51.841Z"
   },
   {
    "duration": 13,
    "start_time": "2022-12-13T15:26:23.100Z"
   },
   {
    "duration": 13,
    "start_time": "2022-12-13T15:35:37.420Z"
   },
   {
    "duration": 28,
    "start_time": "2022-12-13T15:39:03.001Z"
   },
   {
    "duration": 26,
    "start_time": "2022-12-13T15:39:25.736Z"
   },
   {
    "duration": 27,
    "start_time": "2022-12-13T15:39:37.892Z"
   },
   {
    "duration": 31,
    "start_time": "2022-12-13T15:40:20.505Z"
   },
   {
    "duration": 26,
    "start_time": "2022-12-13T15:40:45.902Z"
   },
   {
    "duration": 29,
    "start_time": "2022-12-13T15:40:55.413Z"
   },
   {
    "duration": 43,
    "start_time": "2022-12-13T15:43:14.561Z"
   },
   {
    "duration": 43,
    "start_time": "2022-12-13T15:43:25.789Z"
   },
   {
    "duration": 2,
    "start_time": "2022-12-13T15:49:42.441Z"
   },
   {
    "duration": 2,
    "start_time": "2022-12-13T15:51:03.938Z"
   },
   {
    "duration": 9,
    "start_time": "2022-12-13T15:52:59.646Z"
   },
   {
    "duration": 71,
    "start_time": "2022-12-13T15:54:14.104Z"
   },
   {
    "duration": 7,
    "start_time": "2022-12-13T15:54:19.666Z"
   },
   {
    "duration": 16,
    "start_time": "2022-12-13T15:57:57.226Z"
   },
   {
    "duration": 19,
    "start_time": "2022-12-13T15:58:52.446Z"
   },
   {
    "duration": 22,
    "start_time": "2022-12-13T15:58:57.326Z"
   },
   {
    "duration": 18,
    "start_time": "2022-12-13T15:59:13.226Z"
   },
   {
    "duration": 18,
    "start_time": "2022-12-13T16:00:25.231Z"
   },
   {
    "duration": 15,
    "start_time": "2022-12-13T16:01:45.551Z"
   },
   {
    "duration": 20,
    "start_time": "2022-12-13T16:02:30.826Z"
   },
   {
    "duration": 15,
    "start_time": "2022-12-13T16:02:40.041Z"
   },
   {
    "duration": 16,
    "start_time": "2022-12-13T16:02:52.206Z"
   },
   {
    "duration": 13,
    "start_time": "2022-12-13T16:02:56.781Z"
   },
   {
    "duration": 14,
    "start_time": "2022-12-13T16:03:05.721Z"
   },
   {
    "duration": 15,
    "start_time": "2022-12-13T16:03:48.921Z"
   },
   {
    "duration": 14,
    "start_time": "2022-12-13T16:05:30.887Z"
   },
   {
    "duration": 16,
    "start_time": "2022-12-13T16:05:54.322Z"
   },
   {
    "duration": 96,
    "start_time": "2022-12-13T16:13:19.693Z"
   },
   {
    "duration": 27,
    "start_time": "2022-12-13T16:13:32.756Z"
   },
   {
    "duration": 28,
    "start_time": "2022-12-13T16:14:21.942Z"
   },
   {
    "duration": 41,
    "start_time": "2022-12-13T16:15:02.377Z"
   },
   {
    "duration": 852,
    "start_time": "2022-12-13T16:17:35.441Z"
   },
   {
    "duration": 3,
    "start_time": "2022-12-13T16:21:50.521Z"
   },
   {
    "duration": 71,
    "start_time": "2022-12-13T16:22:41.766Z"
   },
   {
    "duration": 413,
    "start_time": "2022-12-13T16:22:46.976Z"
   },
   {
    "duration": 394,
    "start_time": "2022-12-13T16:24:38.686Z"
   },
   {
    "duration": 395,
    "start_time": "2022-12-13T16:26:06.286Z"
   },
   {
    "duration": 181,
    "start_time": "2022-12-13T16:29:28.712Z"
   },
   {
    "duration": 272,
    "start_time": "2022-12-13T16:29:46.076Z"
   },
   {
    "duration": 267,
    "start_time": "2022-12-13T16:34:34.576Z"
   },
   {
    "duration": 271,
    "start_time": "2022-12-13T16:34:46.349Z"
   },
   {
    "duration": 359,
    "start_time": "2022-12-13T16:35:00.976Z"
   },
   {
    "duration": 310,
    "start_time": "2022-12-13T16:35:10.895Z"
   },
   {
    "duration": 311,
    "start_time": "2022-12-13T16:35:48.235Z"
   },
   {
    "duration": 40,
    "start_time": "2022-12-13T16:35:53.975Z"
   },
   {
    "duration": 75,
    "start_time": "2022-12-13T16:38:25.512Z"
   },
   {
    "duration": 16,
    "start_time": "2022-12-13T16:38:36.485Z"
   },
   {
    "duration": 314,
    "start_time": "2022-12-13T16:38:45.695Z"
   },
   {
    "duration": 59,
    "start_time": "2022-12-13T16:49:05.295Z"
   },
   {
    "duration": 8,
    "start_time": "2022-12-13T16:59:19.813Z"
   },
   {
    "duration": 1033,
    "start_time": "2022-12-13T16:59:38.206Z"
   },
   {
    "duration": 981,
    "start_time": "2022-12-13T17:01:00.934Z"
   },
   {
    "duration": 985,
    "start_time": "2022-12-13T17:01:31.284Z"
   },
   {
    "duration": 1051,
    "start_time": "2022-12-13T17:01:48.174Z"
   },
   {
    "duration": 948,
    "start_time": "2022-12-13T17:02:01.092Z"
   },
   {
    "duration": 3,
    "start_time": "2022-12-13T17:03:43.091Z"
   },
   {
    "duration": 217,
    "start_time": "2022-12-13T17:03:43.554Z"
   },
   {
    "duration": 184,
    "start_time": "2022-12-13T17:03:44.154Z"
   },
   {
    "duration": 40,
    "start_time": "2022-12-13T17:03:44.884Z"
   },
   {
    "duration": 286,
    "start_time": "2022-12-13T17:03:45.285Z"
   },
   {
    "duration": 966,
    "start_time": "2022-12-13T17:03:46.303Z"
   },
   {
    "duration": 967,
    "start_time": "2022-12-13T17:09:51.488Z"
   },
   {
    "duration": 962,
    "start_time": "2022-12-13T17:10:23.125Z"
   },
   {
    "duration": 76,
    "start_time": "2022-12-13T17:13:24.314Z"
   },
   {
    "duration": 77,
    "start_time": "2022-12-13T17:13:36.561Z"
   },
   {
    "duration": 77,
    "start_time": "2022-12-13T17:14:11.561Z"
   },
   {
    "duration": 979,
    "start_time": "2022-12-13T17:14:15.565Z"
   },
   {
    "duration": 995,
    "start_time": "2022-12-13T17:17:54.911Z"
   },
   {
    "duration": 984,
    "start_time": "2022-12-13T17:18:03.104Z"
   },
   {
    "duration": 977,
    "start_time": "2022-12-13T17:23:24.742Z"
   },
   {
    "duration": 70,
    "start_time": "2022-12-13T17:24:07.651Z"
   },
   {
    "duration": 991,
    "start_time": "2022-12-13T17:24:12.062Z"
   },
   {
    "duration": 1022,
    "start_time": "2022-12-13T17:25:42.449Z"
   },
   {
    "duration": 74,
    "start_time": "2022-12-14T16:32:03.370Z"
   },
   {
    "duration": 45,
    "start_time": "2022-12-14T16:39:07.090Z"
   },
   {
    "duration": 798,
    "start_time": "2022-12-14T16:39:14.329Z"
   },
   {
    "duration": 976,
    "start_time": "2022-12-14T16:39:15.129Z"
   },
   {
    "duration": 220,
    "start_time": "2022-12-14T16:39:16.107Z"
   },
   {
    "duration": 40,
    "start_time": "2022-12-14T16:39:16.329Z"
   },
   {
    "duration": 383,
    "start_time": "2022-12-14T16:39:16.371Z"
   },
   {
    "duration": 979,
    "start_time": "2022-12-14T16:39:16.756Z"
   },
   {
    "duration": 996,
    "start_time": "2022-12-14T16:39:17.736Z"
   },
   {
    "duration": 36,
    "start_time": "2022-12-14T16:39:18.734Z"
   },
   {
    "duration": 17,
    "start_time": "2022-12-14T16:39:32.089Z"
   },
   {
    "duration": 22,
    "start_time": "2022-12-14T16:39:40.550Z"
   },
   {
    "duration": 25,
    "start_time": "2022-12-14T16:40:10.641Z"
   },
   {
    "duration": 97,
    "start_time": "2022-12-14T16:41:09.130Z"
   },
   {
    "duration": 25,
    "start_time": "2022-12-14T16:41:18.664Z"
   },
   {
    "duration": 31,
    "start_time": "2022-12-14T16:54:28.912Z"
   },
   {
    "duration": 11,
    "start_time": "2022-12-14T16:57:18.358Z"
   },
   {
    "duration": 10,
    "start_time": "2022-12-14T16:57:33.105Z"
   },
   {
    "duration": 72,
    "start_time": "2022-12-14T17:01:31.667Z"
   },
   {
    "duration": 25,
    "start_time": "2022-12-14T17:01:39.537Z"
   },
   {
    "duration": 1138,
    "start_time": "2022-12-14T17:02:36.417Z"
   },
   {
    "duration": 20,
    "start_time": "2022-12-14T17:03:05.388Z"
   },
   {
    "duration": 11,
    "start_time": "2022-12-14T17:03:15.107Z"
   },
   {
    "duration": 10,
    "start_time": "2022-12-14T17:03:54.897Z"
   },
   {
    "duration": 11,
    "start_time": "2022-12-14T17:04:15.068Z"
   },
   {
    "duration": 10,
    "start_time": "2022-12-14T17:04:50.858Z"
   },
   {
    "duration": 11,
    "start_time": "2022-12-14T17:04:57.445Z"
   },
   {
    "duration": 11,
    "start_time": "2022-12-14T17:05:16.257Z"
   },
   {
    "duration": 72,
    "start_time": "2022-12-14T17:05:47.797Z"
   },
   {
    "duration": 11,
    "start_time": "2022-12-14T17:05:53.136Z"
   },
   {
    "duration": 12,
    "start_time": "2022-12-14T17:06:51.097Z"
   },
   {
    "duration": 11,
    "start_time": "2022-12-14T17:07:01.129Z"
   },
   {
    "duration": 69,
    "start_time": "2022-12-14T17:10:55.325Z"
   },
   {
    "duration": 75,
    "start_time": "2022-12-14T17:11:01.967Z"
   },
   {
    "duration": 91,
    "start_time": "2022-12-14T17:11:39.177Z"
   },
   {
    "duration": 63,
    "start_time": "2022-12-14T17:12:02.628Z"
   },
   {
    "duration": 19,
    "start_time": "2022-12-14T17:12:17.138Z"
   },
   {
    "duration": 36,
    "start_time": "2022-12-14T17:15:13.028Z"
   },
   {
    "duration": 34,
    "start_time": "2022-12-14T17:16:57.088Z"
   },
   {
    "duration": 32,
    "start_time": "2022-12-14T17:17:59.536Z"
   },
   {
    "duration": 33,
    "start_time": "2022-12-14T17:19:40.401Z"
   },
   {
    "duration": 93,
    "start_time": "2022-12-14T17:20:23.428Z"
   },
   {
    "duration": 39,
    "start_time": "2022-12-14T17:20:35.598Z"
   },
   {
    "duration": 44,
    "start_time": "2022-12-14T17:21:46.496Z"
   },
   {
    "duration": 70,
    "start_time": "2022-12-14T17:23:31.370Z"
   },
   {
    "duration": 71,
    "start_time": "2022-12-17T11:37:06.444Z"
   },
   {
    "duration": 69,
    "start_time": "2022-12-17T11:41:44.713Z"
   },
   {
    "duration": 781,
    "start_time": "2022-12-19T17:07:23.559Z"
   },
   {
    "duration": 595,
    "start_time": "2022-12-19T17:07:24.342Z"
   },
   {
    "duration": 211,
    "start_time": "2022-12-19T17:07:24.939Z"
   },
   {
    "duration": 40,
    "start_time": "2022-12-19T17:07:26.194Z"
   },
   {
    "duration": 346,
    "start_time": "2022-12-19T17:07:26.636Z"
   },
   {
    "duration": 1020,
    "start_time": "2022-12-19T17:07:27.087Z"
   },
   {
    "duration": 1001,
    "start_time": "2022-12-19T17:07:29.592Z"
   },
   {
    "duration": 19,
    "start_time": "2022-12-19T17:09:48.468Z"
   },
   {
    "duration": 94,
    "start_time": "2022-12-19T17:10:25.484Z"
   },
   {
    "duration": 19,
    "start_time": "2022-12-19T17:10:39.151Z"
   },
   {
    "duration": 21,
    "start_time": "2022-12-19T17:11:18.235Z"
   },
   {
    "duration": 26,
    "start_time": "2022-12-19T17:11:25.958Z"
   },
   {
    "duration": 21,
    "start_time": "2022-12-19T17:12:11.479Z"
   },
   {
    "duration": 21,
    "start_time": "2022-12-19T17:27:27.129Z"
   },
   {
    "duration": 3,
    "start_time": "2022-12-19T17:28:43.968Z"
   },
   {
    "duration": 247,
    "start_time": "2022-12-19T17:28:44.217Z"
   },
   {
    "duration": 191,
    "start_time": "2022-12-19T17:28:44.856Z"
   },
   {
    "duration": 64,
    "start_time": "2022-12-19T17:28:45.426Z"
   },
   {
    "duration": 308,
    "start_time": "2022-12-19T17:28:45.753Z"
   },
   {
    "duration": 1066,
    "start_time": "2022-12-19T17:28:46.139Z"
   },
   {
    "duration": 1009,
    "start_time": "2022-12-19T17:28:48.054Z"
   },
   {
    "duration": 21,
    "start_time": "2022-12-19T17:28:49.635Z"
   },
   {
    "duration": 21,
    "start_time": "2022-12-19T17:28:52.987Z"
   },
   {
    "duration": 45,
    "start_time": "2022-12-19T17:32:02.747Z"
   },
   {
    "duration": 82,
    "start_time": "2022-12-19T17:42:06.776Z"
   },
   {
    "duration": 48,
    "start_time": "2022-12-19T17:45:43.714Z"
   },
   {
    "duration": 43,
    "start_time": "2022-12-19T17:45:57.052Z"
   },
   {
    "duration": 47,
    "start_time": "2022-12-19T17:46:08.867Z"
   },
   {
    "duration": 25,
    "start_time": "2022-12-19T17:47:43.180Z"
   },
   {
    "duration": 25,
    "start_time": "2022-12-19T18:06:13.158Z"
   },
   {
    "duration": 29,
    "start_time": "2022-12-19T18:08:35.508Z"
   },
   {
    "duration": 25,
    "start_time": "2022-12-19T18:15:22.000Z"
   },
   {
    "duration": 50,
    "start_time": "2022-12-19T18:15:47.508Z"
   },
   {
    "duration": 234,
    "start_time": "2022-12-19T19:49:27.127Z"
   },
   {
    "duration": 228,
    "start_time": "2022-12-19T19:52:29.726Z"
   },
   {
    "duration": 341,
    "start_time": "2022-12-19T19:56:18.913Z"
   },
   {
    "duration": 400,
    "start_time": "2022-12-19T19:56:32.548Z"
   },
   {
    "duration": 71,
    "start_time": "2022-12-19T20:06:17.529Z"
   },
   {
    "duration": 48,
    "start_time": "2022-12-19T20:06:31.732Z"
   },
   {
    "duration": 57,
    "start_time": "2022-12-19T20:06:45.614Z"
   },
   {
    "duration": 13,
    "start_time": "2022-12-19T20:06:57.093Z"
   },
   {
    "duration": 10,
    "start_time": "2022-12-19T20:07:13.641Z"
   },
   {
    "duration": 60,
    "start_time": "2022-12-19T20:07:27.963Z"
   },
   {
    "duration": 11,
    "start_time": "2022-12-19T20:07:37.763Z"
   },
   {
    "duration": 18,
    "start_time": "2022-12-19T20:08:22.173Z"
   },
   {
    "duration": 3,
    "start_time": "2022-12-19T20:08:29.251Z"
   },
   {
    "duration": 243,
    "start_time": "2022-12-19T20:08:29.990Z"
   },
   {
    "duration": 186,
    "start_time": "2022-12-19T20:08:31.703Z"
   },
   {
    "duration": 41,
    "start_time": "2022-12-19T20:08:33.390Z"
   },
   {
    "duration": 331,
    "start_time": "2022-12-19T20:08:33.793Z"
   },
   {
    "duration": 1435,
    "start_time": "2022-12-19T20:08:34.161Z"
   },
   {
    "duration": 1268,
    "start_time": "2022-12-19T20:08:35.599Z"
   },
   {
    "duration": 46,
    "start_time": "2022-12-19T20:08:36.868Z"
   },
   {
    "duration": 71,
    "start_time": "2022-12-19T20:08:41.274Z"
   },
   {
    "duration": 33,
    "start_time": "2022-12-19T20:08:45.073Z"
   },
   {
    "duration": 55,
    "start_time": "2022-12-19T20:09:17.253Z"
   },
   {
    "duration": 50,
    "start_time": "2022-12-19T20:10:38.233Z"
   },
   {
    "duration": 9,
    "start_time": "2022-12-19T20:20:36.653Z"
   },
   {
    "duration": 54,
    "start_time": "2022-12-19T20:23:06.766Z"
   },
   {
    "duration": 86,
    "start_time": "2022-12-19T20:26:18.668Z"
   },
   {
    "duration": 363,
    "start_time": "2022-12-19T20:27:48.708Z"
   },
   {
    "duration": 151,
    "start_time": "2022-12-19T20:28:59.655Z"
   },
   {
    "duration": 62,
    "start_time": "2022-12-19T20:29:33.408Z"
   },
   {
    "duration": 49,
    "start_time": "2022-12-19T20:29:37.275Z"
   },
   {
    "duration": 48,
    "start_time": "2022-12-19T20:29:49.575Z"
   },
   {
    "duration": 47,
    "start_time": "2022-12-19T20:31:32.047Z"
   },
   {
    "duration": 61,
    "start_time": "2022-12-19T20:34:22.463Z"
   },
   {
    "duration": 57,
    "start_time": "2022-12-19T20:34:41.109Z"
   },
   {
    "duration": 62,
    "start_time": "2022-12-19T20:35:06.386Z"
   },
   {
    "duration": 3,
    "start_time": "2022-12-19T20:35:39.994Z"
   },
   {
    "duration": 13,
    "start_time": "2022-12-19T20:35:45.730Z"
   },
   {
    "duration": 8,
    "start_time": "2022-12-19T20:35:51.107Z"
   },
   {
    "duration": 9,
    "start_time": "2022-12-19T20:35:58.318Z"
   },
   {
    "duration": 10,
    "start_time": "2022-12-19T20:36:04.151Z"
   },
   {
    "duration": 7,
    "start_time": "2022-12-19T20:36:06.137Z"
   },
   {
    "duration": 3,
    "start_time": "2022-12-19T20:36:12.191Z"
   },
   {
    "duration": 13,
    "start_time": "2022-12-19T20:36:18.076Z"
   },
   {
    "duration": 5,
    "start_time": "2022-12-19T20:36:42.135Z"
   },
   {
    "duration": 5,
    "start_time": "2022-12-19T20:36:44.415Z"
   },
   {
    "duration": 7,
    "start_time": "2022-12-19T20:41:54.743Z"
   },
   {
    "duration": 5,
    "start_time": "2022-12-19T20:42:12.454Z"
   },
   {
    "duration": 13,
    "start_time": "2022-12-19T20:42:27.558Z"
   },
   {
    "duration": 5,
    "start_time": "2022-12-19T20:42:33.897Z"
   },
   {
    "duration": 12,
    "start_time": "2022-12-19T20:42:44.798Z"
   },
   {
    "duration": 9,
    "start_time": "2022-12-19T20:44:07.247Z"
   },
   {
    "duration": 18,
    "start_time": "2022-12-19T21:22:44.968Z"
   },
   {
    "duration": 11,
    "start_time": "2022-12-19T21:23:38.051Z"
   },
   {
    "duration": 30,
    "start_time": "2022-12-19T21:26:47.173Z"
   },
   {
    "duration": 15,
    "start_time": "2022-12-19T21:27:55.376Z"
   },
   {
    "duration": 15,
    "start_time": "2022-12-19T21:28:06.628Z"
   },
   {
    "duration": 20,
    "start_time": "2022-12-19T21:32:17.175Z"
   },
   {
    "duration": 17,
    "start_time": "2022-12-19T21:33:03.237Z"
   },
   {
    "duration": 14,
    "start_time": "2022-12-19T21:34:02.642Z"
   },
   {
    "duration": 16,
    "start_time": "2022-12-19T21:34:51.986Z"
   },
   {
    "duration": 10,
    "start_time": "2022-12-19T21:35:10.186Z"
   },
   {
    "duration": 22,
    "start_time": "2022-12-19T21:36:53.269Z"
   },
   {
    "duration": 8,
    "start_time": "2022-12-19T21:40:27.052Z"
   },
   {
    "duration": 10,
    "start_time": "2022-12-19T21:46:39.563Z"
   },
   {
    "duration": 9,
    "start_time": "2022-12-19T21:53:47.736Z"
   },
   {
    "duration": 77,
    "start_time": "2022-12-19T21:55:55.940Z"
   },
   {
    "duration": 56,
    "start_time": "2022-12-19T21:56:55.742Z"
   },
   {
    "duration": 54,
    "start_time": "2022-12-19T21:57:14.290Z"
   },
   {
    "duration": 77,
    "start_time": "2022-12-19T21:57:32.445Z"
   },
   {
    "duration": 50,
    "start_time": "2022-12-19T21:58:05.804Z"
   },
   {
    "duration": 20,
    "start_time": "2022-12-19T21:58:35.172Z"
   },
   {
    "duration": 42,
    "start_time": "2022-12-19T21:58:55.299Z"
   },
   {
    "duration": 54,
    "start_time": "2022-12-19T21:59:16.210Z"
   },
   {
    "duration": 54,
    "start_time": "2022-12-19T21:59:21.822Z"
   },
   {
    "duration": 57,
    "start_time": "2022-12-19T21:59:29.795Z"
   },
   {
    "duration": 55,
    "start_time": "2022-12-19T21:59:37.334Z"
   },
   {
    "duration": 45,
    "start_time": "2022-12-19T21:59:52.418Z"
   },
   {
    "duration": 67,
    "start_time": "2022-12-19T22:01:41.014Z"
   },
   {
    "duration": 77,
    "start_time": "2022-12-19T22:03:31.058Z"
   },
   {
    "duration": 15,
    "start_time": "2022-12-19T22:04:08.512Z"
   },
   {
    "duration": 19,
    "start_time": "2022-12-19T22:06:27.074Z"
   },
   {
    "duration": 62,
    "start_time": "2022-12-19T22:06:39.753Z"
   },
   {
    "duration": 54,
    "start_time": "2022-12-19T22:06:49.663Z"
   },
   {
    "duration": 9,
    "start_time": "2022-12-19T22:06:55.924Z"
   },
   {
    "duration": 29,
    "start_time": "2022-12-19T22:15:28.593Z"
   },
   {
    "duration": 63,
    "start_time": "2022-12-19T22:15:43.649Z"
   },
   {
    "duration": 41,
    "start_time": "2022-12-19T22:18:58.055Z"
   },
   {
    "duration": 53,
    "start_time": "2022-12-19T22:19:13.530Z"
   },
   {
    "duration": 58,
    "start_time": "2022-12-19T22:19:44.551Z"
   },
   {
    "duration": 39,
    "start_time": "2022-12-19T22:21:00.835Z"
   },
   {
    "duration": 44,
    "start_time": "2022-12-19T22:21:56.490Z"
   },
   {
    "duration": 25,
    "start_time": "2022-12-19T22:22:07.634Z"
   },
   {
    "duration": 45,
    "start_time": "2022-12-19T22:22:40.591Z"
   },
   {
    "duration": 33,
    "start_time": "2022-12-19T22:22:46.174Z"
   },
   {
    "duration": 37,
    "start_time": "2022-12-19T22:23:26.215Z"
   },
   {
    "duration": 42,
    "start_time": "2022-12-19T22:23:37.868Z"
   },
   {
    "duration": 78,
    "start_time": "2022-12-20T11:46:07.890Z"
   },
   {
    "duration": 10,
    "start_time": "2022-12-20T11:46:15.829Z"
   },
   {
    "duration": 876,
    "start_time": "2022-12-20T11:46:18.521Z"
   },
   {
    "duration": 638,
    "start_time": "2022-12-20T11:46:19.399Z"
   },
   {
    "duration": 200,
    "start_time": "2022-12-20T11:46:20.480Z"
   },
   {
    "duration": 44,
    "start_time": "2022-12-20T11:46:21.397Z"
   },
   {
    "duration": 385,
    "start_time": "2022-12-20T11:46:21.711Z"
   },
   {
    "duration": 1030,
    "start_time": "2022-12-20T11:46:22.191Z"
   },
   {
    "duration": 1056,
    "start_time": "2022-12-20T11:46:23.224Z"
   },
   {
    "duration": 56,
    "start_time": "2022-12-20T11:46:24.282Z"
   },
   {
    "duration": 0,
    "start_time": "2022-12-20T11:46:24.339Z"
   },
   {
    "duration": 7,
    "start_time": "2022-12-20T11:46:24.489Z"
   },
   {
    "duration": 13,
    "start_time": "2022-12-20T11:46:25.077Z"
   },
   {
    "duration": 53,
    "start_time": "2022-12-20T11:46:31.900Z"
   },
   {
    "duration": 12,
    "start_time": "2022-12-20T11:46:35.021Z"
   },
   {
    "duration": 140,
    "start_time": "2022-12-20T11:46:37.148Z"
   },
   {
    "duration": 31,
    "start_time": "2022-12-20T11:46:44.481Z"
   },
   {
    "duration": 30,
    "start_time": "2022-12-20T11:46:46.677Z"
   },
   {
    "duration": 43,
    "start_time": "2022-12-20T11:47:59.477Z"
   },
   {
    "duration": 33,
    "start_time": "2022-12-20T11:48:09.417Z"
   },
   {
    "duration": 42,
    "start_time": "2022-12-20T11:48:16.730Z"
   },
   {
    "duration": 31,
    "start_time": "2022-12-20T11:48:33.780Z"
   },
   {
    "duration": 57,
    "start_time": "2022-12-20T11:49:03.007Z"
   },
   {
    "duration": 104,
    "start_time": "2022-12-20T11:57:52.748Z"
   },
   {
    "duration": 59,
    "start_time": "2022-12-20T11:58:09.215Z"
   },
   {
    "duration": 182,
    "start_time": "2022-12-20T11:58:38.897Z"
   },
   {
    "duration": 56,
    "start_time": "2022-12-20T12:00:29.790Z"
   },
   {
    "duration": 23,
    "start_time": "2022-12-20T12:00:58.361Z"
   },
   {
    "duration": 65,
    "start_time": "2022-12-20T12:05:41.541Z"
   },
   {
    "duration": 38,
    "start_time": "2022-12-20T12:05:56.487Z"
   },
   {
    "duration": 70,
    "start_time": "2022-12-20T12:07:03.590Z"
   },
   {
    "duration": 440,
    "start_time": "2022-12-20T12:41:14.005Z"
   },
   {
    "duration": 63,
    "start_time": "2022-12-20T12:44:25.637Z"
   },
   {
    "duration": 117,
    "start_time": "2022-12-20T12:44:33.532Z"
   },
   {
    "duration": 53,
    "start_time": "2022-12-20T13:10:05.792Z"
   },
   {
    "duration": 106,
    "start_time": "2022-12-20T13:10:11.325Z"
   },
   {
    "duration": 79,
    "start_time": "2022-12-20T13:12:16.344Z"
   },
   {
    "duration": 91,
    "start_time": "2022-12-20T14:03:43.646Z"
   },
   {
    "duration": 5,
    "start_time": "2022-12-20T14:28:49.096Z"
   },
   {
    "duration": 91,
    "start_time": "2022-12-20T14:53:07.875Z"
   },
   {
    "duration": 123,
    "start_time": "2022-12-20T14:53:27.966Z"
   },
   {
    "duration": 92,
    "start_time": "2022-12-20T14:55:56.371Z"
   },
   {
    "duration": 93,
    "start_time": "2022-12-20T14:56:49.111Z"
   },
   {
    "duration": 72,
    "start_time": "2022-12-20T14:57:00.200Z"
   },
   {
    "duration": 80,
    "start_time": "2022-12-20T14:57:58.188Z"
   },
   {
    "duration": 79,
    "start_time": "2022-12-20T14:58:03.894Z"
   },
   {
    "duration": 7,
    "start_time": "2022-12-20T14:59:37.265Z"
   },
   {
    "duration": 80,
    "start_time": "2022-12-20T14:59:43.717Z"
   },
   {
    "duration": 81,
    "start_time": "2022-12-20T15:00:44.061Z"
   },
   {
    "duration": 61,
    "start_time": "2022-12-20T15:24:02.008Z"
   },
   {
    "duration": 96,
    "start_time": "2022-12-20T15:24:04.971Z"
   },
   {
    "duration": 9,
    "start_time": "2022-12-20T15:24:06.802Z"
   },
   {
    "duration": 1330,
    "start_time": "2022-12-20T15:24:11.907Z"
   },
   {
    "duration": 620,
    "start_time": "2022-12-20T15:24:13.239Z"
   },
   {
    "duration": 222,
    "start_time": "2022-12-20T15:24:13.861Z"
   },
   {
    "duration": 250,
    "start_time": "2022-12-20T15:24:20.590Z"
   },
   {
    "duration": 193,
    "start_time": "2022-12-20T15:24:21.788Z"
   },
   {
    "duration": 54,
    "start_time": "2022-12-20T15:24:23.010Z"
   },
   {
    "duration": 442,
    "start_time": "2022-12-20T15:24:23.434Z"
   },
   {
    "duration": 1192,
    "start_time": "2022-12-20T15:24:23.878Z"
   },
   {
    "duration": 1054,
    "start_time": "2022-12-20T15:24:25.072Z"
   },
   {
    "duration": 89,
    "start_time": "2022-12-20T15:24:26.129Z"
   },
   {
    "duration": 0,
    "start_time": "2022-12-20T15:24:26.220Z"
   },
   {
    "duration": 0,
    "start_time": "2022-12-20T15:24:26.221Z"
   },
   {
    "duration": 19,
    "start_time": "2022-12-20T15:24:26.329Z"
   },
   {
    "duration": 59,
    "start_time": "2022-12-20T15:24:27.989Z"
   },
   {
    "duration": 98,
    "start_time": "2022-12-20T15:24:28.600Z"
   },
   {
    "duration": 41,
    "start_time": "2022-12-20T15:24:29.869Z"
   },
   {
    "duration": 90,
    "start_time": "2022-12-20T15:24:38.623Z"
   },
   {
    "duration": 98,
    "start_time": "2022-12-20T15:29:45.479Z"
   },
   {
    "duration": 41,
    "start_time": "2022-12-20T15:29:56.498Z"
   },
   {
    "duration": 96,
    "start_time": "2022-12-20T15:30:04.859Z"
   },
   {
    "duration": 99,
    "start_time": "2022-12-20T15:30:20.105Z"
   },
   {
    "duration": 108,
    "start_time": "2022-12-20T15:40:30.706Z"
   },
   {
    "duration": 89,
    "start_time": "2022-12-20T15:41:44.239Z"
   },
   {
    "duration": 1260,
    "start_time": "2022-12-23T11:39:33.991Z"
   },
   {
    "duration": 1034,
    "start_time": "2022-12-23T11:39:35.254Z"
   },
   {
    "duration": 196,
    "start_time": "2022-12-23T11:39:36.290Z"
   },
   {
    "duration": 60,
    "start_time": "2022-12-23T11:39:36.488Z"
   },
   {
    "duration": 346,
    "start_time": "2022-12-23T11:39:37.051Z"
   },
   {
    "duration": 999,
    "start_time": "2022-12-23T11:39:37.399Z"
   },
   {
    "duration": 1045,
    "start_time": "2022-12-23T11:39:38.400Z"
   },
   {
    "duration": 100,
    "start_time": "2022-12-23T11:39:39.550Z"
   },
   {
    "duration": 45,
    "start_time": "2022-12-23T11:39:41.274Z"
   },
   {
    "duration": 10,
    "start_time": "2022-12-23T11:39:42.467Z"
   },
   {
    "duration": 8,
    "start_time": "2022-12-23T11:39:53.110Z"
   },
   {
    "duration": 104,
    "start_time": "2022-12-23T11:39:53.120Z"
   },
   {
    "duration": 0,
    "start_time": "2022-12-23T11:39:53.226Z"
   },
   {
    "duration": 74,
    "start_time": "2022-12-23T11:39:54.132Z"
   },
   {
    "duration": 71,
    "start_time": "2022-12-23T11:39:57.004Z"
   },
   {
    "duration": 76,
    "start_time": "2022-12-23T11:40:03.386Z"
   },
   {
    "duration": 74,
    "start_time": "2022-12-23T11:40:43.321Z"
   },
   {
    "duration": 1203,
    "start_time": "2022-12-23T11:41:31.672Z"
   },
   {
    "duration": 323,
    "start_time": "2022-12-23T11:41:55.469Z"
   },
   {
    "duration": 286,
    "start_time": "2022-12-23T11:45:54.712Z"
   },
   {
    "duration": 95,
    "start_time": "2022-12-23T13:26:59.227Z"
   },
   {
    "duration": 4,
    "start_time": "2022-12-23T13:29:59.584Z"
   },
   {
    "duration": 234,
    "start_time": "2022-12-23T13:30:00.273Z"
   },
   {
    "duration": 175,
    "start_time": "2022-12-23T13:30:01.233Z"
   },
   {
    "duration": 59,
    "start_time": "2022-12-23T13:30:02.303Z"
   },
   {
    "duration": 306,
    "start_time": "2022-12-23T13:30:02.538Z"
   },
   {
    "duration": 1114,
    "start_time": "2022-12-23T13:30:03.053Z"
   },
   {
    "duration": 1134,
    "start_time": "2022-12-23T13:30:04.169Z"
   },
   {
    "duration": 29,
    "start_time": "2022-12-23T13:30:05.603Z"
   },
   {
    "duration": 65,
    "start_time": "2022-12-23T13:30:09.270Z"
   },
   {
    "duration": 9,
    "start_time": "2022-12-23T13:30:10.181Z"
   },
   {
    "duration": 9,
    "start_time": "2022-12-23T13:30:11.343Z"
   },
   {
    "duration": 104,
    "start_time": "2022-12-23T13:30:14.671Z"
   },
   {
    "duration": 48,
    "start_time": "2022-12-23T13:30:28.262Z"
   },
   {
    "duration": 87,
    "start_time": "2022-12-23T13:30:30.741Z"
   },
   {
    "duration": 81,
    "start_time": "2022-12-23T13:30:31.912Z"
   },
   {
    "duration": 83,
    "start_time": "2022-12-23T13:31:09.172Z"
   },
   {
    "duration": 358,
    "start_time": "2022-12-23T13:31:20.777Z"
   },
   {
    "duration": 970,
    "start_time": "2022-12-23T13:31:42.669Z"
   },
   {
    "duration": 1226,
    "start_time": "2022-12-23T13:31:52.949Z"
   },
   {
    "duration": 1368,
    "start_time": "2022-12-23T13:35:58.258Z"
   },
   {
    "duration": 1638,
    "start_time": "2022-12-23T13:35:59.929Z"
   },
   {
    "duration": 43,
    "start_time": "2022-12-23T13:36:12.495Z"
   },
   {
    "duration": 1229,
    "start_time": "2022-12-23T13:37:35.567Z"
   },
   {
    "duration": 44,
    "start_time": "2022-12-23T13:37:41.689Z"
   },
   {
    "duration": 46,
    "start_time": "2022-12-23T13:40:00.083Z"
   },
   {
    "duration": 64,
    "start_time": "2022-12-23T13:40:10.878Z"
   },
   {
    "duration": 71,
    "start_time": "2022-12-23T13:41:16.324Z"
   },
   {
    "duration": 46,
    "start_time": "2022-12-23T13:41:25.694Z"
   },
   {
    "duration": 113,
    "start_time": "2022-12-23T13:42:28.229Z"
   },
   {
    "duration": 49,
    "start_time": "2022-12-23T13:42:45.774Z"
   },
   {
    "duration": 54,
    "start_time": "2022-12-23T13:43:05.342Z"
   },
   {
    "duration": 86,
    "start_time": "2022-12-23T13:43:50.961Z"
   },
   {
    "duration": 100,
    "start_time": "2022-12-23T13:44:11.891Z"
   },
   {
    "duration": 69,
    "start_time": "2022-12-23T13:44:25.133Z"
   },
   {
    "duration": 54,
    "start_time": "2022-12-23T13:44:33.352Z"
   },
   {
    "duration": 45,
    "start_time": "2022-12-23T13:44:56.092Z"
   },
   {
    "duration": 54,
    "start_time": "2022-12-23T13:45:22.661Z"
   },
   {
    "duration": 49,
    "start_time": "2022-12-23T13:46:43.288Z"
   },
   {
    "duration": 79,
    "start_time": "2022-12-23T13:47:59.758Z"
   },
   {
    "duration": 51,
    "start_time": "2022-12-23T13:48:12.173Z"
   },
   {
    "duration": 51,
    "start_time": "2022-12-23T13:49:36.210Z"
   },
   {
    "duration": 115,
    "start_time": "2022-12-23T13:49:39.349Z"
   },
   {
    "duration": 4,
    "start_time": "2022-12-23T14:11:27.254Z"
   },
   {
    "duration": 81,
    "start_time": "2022-12-23T14:13:04.464Z"
   },
   {
    "duration": 21,
    "start_time": "2022-12-23T14:13:41.498Z"
   },
   {
    "duration": 4,
    "start_time": "2022-12-23T14:14:28.869Z"
   },
   {
    "duration": 13,
    "start_time": "2022-12-23T14:14:38.752Z"
   },
   {
    "duration": 16,
    "start_time": "2022-12-23T14:14:44.811Z"
   },
   {
    "duration": 3,
    "start_time": "2022-12-23T14:15:02.840Z"
   },
   {
    "duration": 7,
    "start_time": "2022-12-23T14:15:15.068Z"
   },
   {
    "duration": 56,
    "start_time": "2022-12-23T14:23:52.098Z"
   },
   {
    "duration": 1440,
    "start_time": "2022-12-23T14:23:59.507Z"
   },
   {
    "duration": 1321,
    "start_time": "2022-12-23T14:24:11.652Z"
   },
   {
    "duration": 43,
    "start_time": "2022-12-23T14:24:23.634Z"
   },
   {
    "duration": 1304,
    "start_time": "2022-12-23T14:27:41.850Z"
   },
   {
    "duration": 22,
    "start_time": "2022-12-23T14:28:33.812Z"
   },
   {
    "duration": 11,
    "start_time": "2022-12-23T14:30:53.837Z"
   },
   {
    "duration": 12,
    "start_time": "2022-12-23T14:31:37.454Z"
   },
   {
    "duration": 13,
    "start_time": "2022-12-23T14:32:00.197Z"
   },
   {
    "duration": 57,
    "start_time": "2022-12-23T14:36:01.379Z"
   },
   {
    "duration": 93,
    "start_time": "2022-12-23T14:36:04.835Z"
   },
   {
    "duration": 15,
    "start_time": "2022-12-23T14:40:27.238Z"
   },
   {
    "duration": 11,
    "start_time": "2022-12-23T14:40:36.737Z"
   },
   {
    "duration": 9,
    "start_time": "2022-12-23T14:50:34.000Z"
   },
   {
    "duration": 11,
    "start_time": "2022-12-23T15:01:19.257Z"
   },
   {
    "duration": 10,
    "start_time": "2022-12-23T15:02:58.876Z"
   },
   {
    "duration": 9,
    "start_time": "2022-12-23T15:03:54.346Z"
   },
   {
    "duration": 17,
    "start_time": "2022-12-23T15:04:20.403Z"
   },
   {
    "duration": 11,
    "start_time": "2022-12-23T15:05:20.362Z"
   },
   {
    "duration": 9,
    "start_time": "2022-12-23T15:06:08.138Z"
   },
   {
    "duration": 10,
    "start_time": "2022-12-23T15:06:18.067Z"
   },
   {
    "duration": 9,
    "start_time": "2022-12-23T15:06:25.337Z"
   },
   {
    "duration": 10,
    "start_time": "2022-12-23T15:06:32.472Z"
   },
   {
    "duration": 10,
    "start_time": "2022-12-23T15:06:52.277Z"
   },
   {
    "duration": 31,
    "start_time": "2022-12-23T15:11:27.685Z"
   },
   {
    "duration": 19,
    "start_time": "2022-12-23T15:11:27.717Z"
   },
   {
    "duration": 16,
    "start_time": "2022-12-23T15:13:16.433Z"
   },
   {
    "duration": 15,
    "start_time": "2022-12-23T15:13:32.305Z"
   },
   {
    "duration": 10,
    "start_time": "2022-12-23T15:13:59.925Z"
   },
   {
    "duration": 12,
    "start_time": "2022-12-23T15:14:06.495Z"
   },
   {
    "duration": 9,
    "start_time": "2022-12-23T15:14:09.725Z"
   },
   {
    "duration": 29,
    "start_time": "2022-12-23T15:15:48.561Z"
   },
   {
    "duration": 23,
    "start_time": "2022-12-23T15:15:59.066Z"
   },
   {
    "duration": 62,
    "start_time": "2022-12-23T15:16:00.510Z"
   },
   {
    "duration": 8,
    "start_time": "2022-12-23T15:16:01.735Z"
   },
   {
    "duration": 9,
    "start_time": "2022-12-23T15:16:02.965Z"
   },
   {
    "duration": 11,
    "start_time": "2022-12-23T15:16:30.533Z"
   },
   {
    "duration": 43,
    "start_time": "2022-12-23T15:16:35.206Z"
   },
   {
    "duration": 9,
    "start_time": "2022-12-23T15:16:39.424Z"
   },
   {
    "duration": 9,
    "start_time": "2022-12-23T15:17:47.844Z"
   },
   {
    "duration": 16,
    "start_time": "2022-12-23T15:21:07.626Z"
   },
   {
    "duration": 78,
    "start_time": "2022-12-23T15:38:08.235Z"
   },
   {
    "duration": 12,
    "start_time": "2022-12-23T15:43:30.422Z"
   },
   {
    "duration": 10,
    "start_time": "2022-12-23T15:44:06.841Z"
   },
   {
    "duration": 3,
    "start_time": "2022-12-23T17:09:53.554Z"
   },
   {
    "duration": 201,
    "start_time": "2022-12-23T17:09:54.271Z"
   },
   {
    "duration": 158,
    "start_time": "2022-12-23T17:09:55.143Z"
   },
   {
    "duration": 37,
    "start_time": "2022-12-23T17:09:55.745Z"
   },
   {
    "duration": 273,
    "start_time": "2022-12-23T17:09:55.973Z"
   },
   {
    "duration": 1038,
    "start_time": "2022-12-23T17:09:56.248Z"
   },
   {
    "duration": 1037,
    "start_time": "2022-12-23T17:09:57.288Z"
   },
   {
    "duration": 24,
    "start_time": "2022-12-23T17:09:58.326Z"
   },
   {
    "duration": 45,
    "start_time": "2022-12-23T17:09:58.774Z"
   },
   {
    "duration": 10,
    "start_time": "2022-12-23T17:09:59.910Z"
   },
   {
    "duration": 8,
    "start_time": "2022-12-23T17:10:01.242Z"
   },
   {
    "duration": 8,
    "start_time": "2022-12-23T17:10:05.896Z"
   },
   {
    "duration": 8,
    "start_time": "2022-12-23T17:10:16.241Z"
   },
   {
    "duration": 9,
    "start_time": "2022-12-23T17:10:21.238Z"
   },
   {
    "duration": 304,
    "start_time": "2022-12-23T17:10:51.000Z"
   },
   {
    "duration": 843,
    "start_time": "2022-12-23T17:10:51.731Z"
   },
   {
    "duration": 835,
    "start_time": "2022-12-23T17:10:52.841Z"
   },
   {
    "duration": 25,
    "start_time": "2022-12-23T17:10:54.190Z"
   },
   {
    "duration": 45,
    "start_time": "2022-12-23T17:10:55.111Z"
   },
   {
    "duration": 10,
    "start_time": "2022-12-23T17:10:56.002Z"
   },
   {
    "duration": 8,
    "start_time": "2022-12-23T17:10:57.071Z"
   },
   {
    "duration": 17,
    "start_time": "2022-12-23T17:11:35.217Z"
   },
   {
    "duration": 9,
    "start_time": "2022-12-23T17:11:46.313Z"
   },
   {
    "duration": 11,
    "start_time": "2022-12-23T17:14:17.963Z"
   },
   {
    "duration": 9,
    "start_time": "2022-12-23T17:14:20.723Z"
   },
   {
    "duration": 9,
    "start_time": "2022-12-23T17:14:22.431Z"
   },
   {
    "duration": 10,
    "start_time": "2022-12-23T17:14:22.717Z"
   },
   {
    "duration": 89,
    "start_time": "2022-12-23T17:15:20.441Z"
   },
   {
    "duration": 11,
    "start_time": "2022-12-23T17:18:26.932Z"
   },
   {
    "duration": 11,
    "start_time": "2022-12-23T17:18:37.818Z"
   },
   {
    "duration": 12,
    "start_time": "2022-12-23T17:19:17.751Z"
   },
   {
    "duration": 9,
    "start_time": "2022-12-23T17:19:33.530Z"
   },
   {
    "duration": 9,
    "start_time": "2022-12-23T17:19:35.217Z"
   },
   {
    "duration": 10,
    "start_time": "2022-12-23T17:19:36.159Z"
   },
   {
    "duration": 10,
    "start_time": "2022-12-23T17:21:39.150Z"
   },
   {
    "duration": 10,
    "start_time": "2022-12-23T17:27:59.844Z"
   },
   {
    "duration": 20,
    "start_time": "2022-12-23T17:30:16.031Z"
   },
   {
    "duration": 13,
    "start_time": "2022-12-23T17:30:49.121Z"
   },
   {
    "duration": 19,
    "start_time": "2022-12-23T17:47:05.410Z"
   },
   {
    "duration": 68,
    "start_time": "2022-12-23T17:49:31.807Z"
   },
   {
    "duration": 3,
    "start_time": "2022-12-23T17:49:40.202Z"
   },
   {
    "duration": 3,
    "start_time": "2022-12-23T17:49:56.059Z"
   },
   {
    "duration": 9,
    "start_time": "2022-12-23T18:00:18.750Z"
   },
   {
    "duration": 12,
    "start_time": "2022-12-23T18:00:46.958Z"
   },
   {
    "duration": 15,
    "start_time": "2022-12-23T18:02:35.312Z"
   },
   {
    "duration": 14,
    "start_time": "2022-12-23T18:03:24.891Z"
   },
   {
    "duration": 26,
    "start_time": "2022-12-23T18:19:44.713Z"
   },
   {
    "duration": 9,
    "start_time": "2022-12-23T18:20:48.379Z"
   },
   {
    "duration": 24,
    "start_time": "2022-12-23T18:21:52.318Z"
   },
   {
    "duration": 32,
    "start_time": "2022-12-23T18:23:17.723Z"
   },
   {
    "duration": 8,
    "start_time": "2022-12-23T18:41:07.426Z"
   },
   {
    "duration": 8,
    "start_time": "2022-12-23T18:41:13.780Z"
   },
   {
    "duration": 12,
    "start_time": "2022-12-23T18:41:20.369Z"
   },
   {
    "duration": 10,
    "start_time": "2022-12-23T18:41:32.070Z"
   },
   {
    "duration": 74,
    "start_time": "2022-12-23T18:42:18.516Z"
   },
   {
    "duration": 8,
    "start_time": "2022-12-23T18:42:26.150Z"
   },
   {
    "duration": 29,
    "start_time": "2022-12-23T18:42:28.382Z"
   },
   {
    "duration": 9,
    "start_time": "2022-12-23T18:42:31.641Z"
   },
   {
    "duration": 9,
    "start_time": "2022-12-23T18:42:53.978Z"
   },
   {
    "duration": 9,
    "start_time": "2022-12-23T18:42:57.070Z"
   },
   {
    "duration": 9,
    "start_time": "2022-12-23T18:43:00.779Z"
   },
   {
    "duration": 74,
    "start_time": "2022-12-23T19:03:11.908Z"
   },
   {
    "duration": 78,
    "start_time": "2022-12-23T19:03:38.563Z"
   },
   {
    "duration": 3,
    "start_time": "2022-12-23T19:05:27.659Z"
   },
   {
    "duration": 3,
    "start_time": "2022-12-23T19:06:02.812Z"
   },
   {
    "duration": 4,
    "start_time": "2022-12-23T19:06:09.770Z"
   },
   {
    "duration": 4,
    "start_time": "2022-12-23T19:06:14.404Z"
   },
   {
    "duration": 3,
    "start_time": "2022-12-23T19:06:31.052Z"
   },
   {
    "duration": 3,
    "start_time": "2022-12-23T19:12:31.921Z"
   },
   {
    "duration": 3,
    "start_time": "2022-12-23T19:12:41.239Z"
   },
   {
    "duration": 68,
    "start_time": "2022-12-23T19:14:13.561Z"
   },
   {
    "duration": 66,
    "start_time": "2022-12-23T19:14:46.610Z"
   },
   {
    "duration": 80,
    "start_time": "2022-12-23T19:14:50.612Z"
   },
   {
    "duration": 72,
    "start_time": "2022-12-23T19:15:08.029Z"
   },
   {
    "duration": 83,
    "start_time": "2022-12-23T19:15:38.531Z"
   },
   {
    "duration": 87,
    "start_time": "2022-12-23T19:15:48.014Z"
   },
   {
    "duration": 72,
    "start_time": "2022-12-23T19:16:05.141Z"
   },
   {
    "duration": 68,
    "start_time": "2022-12-23T19:16:33.338Z"
   },
   {
    "duration": 4,
    "start_time": "2022-12-23T19:17:02.209Z"
   },
   {
    "duration": 3,
    "start_time": "2022-12-23T19:17:11.350Z"
   },
   {
    "duration": 4,
    "start_time": "2022-12-23T19:18:16.404Z"
   },
   {
    "duration": 5,
    "start_time": "2022-12-23T19:19:28.722Z"
   },
   {
    "duration": 4,
    "start_time": "2022-12-23T19:19:41.763Z"
   },
   {
    "duration": 7,
    "start_time": "2022-12-23T19:21:40.300Z"
   },
   {
    "duration": 8,
    "start_time": "2022-12-23T19:40:47.615Z"
   },
   {
    "duration": 11,
    "start_time": "2022-12-23T19:40:54.714Z"
   },
   {
    "duration": 9,
    "start_time": "2022-12-23T19:40:58.511Z"
   },
   {
    "duration": 9,
    "start_time": "2022-12-23T19:41:04.967Z"
   },
   {
    "duration": 24,
    "start_time": "2022-12-23T19:45:45.445Z"
   },
   {
    "duration": 13,
    "start_time": "2022-12-23T19:46:15.864Z"
   },
   {
    "duration": 31,
    "start_time": "2022-12-23T19:46:57.775Z"
   },
   {
    "duration": 31,
    "start_time": "2022-12-23T19:47:07.160Z"
   },
   {
    "duration": 92,
    "start_time": "2022-12-23T19:48:02.038Z"
   },
   {
    "duration": 18,
    "start_time": "2022-12-23T19:48:09.462Z"
   },
   {
    "duration": 18,
    "start_time": "2022-12-23T19:48:43.946Z"
   },
   {
    "duration": 30,
    "start_time": "2022-12-23T19:49:29.142Z"
   },
   {
    "duration": 29,
    "start_time": "2022-12-23T19:49:32.242Z"
   },
   {
    "duration": 29,
    "start_time": "2022-12-23T19:50:45.246Z"
   },
   {
    "duration": 34,
    "start_time": "2022-12-23T19:52:40.784Z"
   },
   {
    "duration": 33,
    "start_time": "2022-12-23T19:53:03.751Z"
   },
   {
    "duration": 35,
    "start_time": "2022-12-23T19:53:18.817Z"
   },
   {
    "duration": 38,
    "start_time": "2022-12-23T19:55:08.548Z"
   },
   {
    "duration": 36,
    "start_time": "2022-12-23T19:56:16.440Z"
   },
   {
    "duration": 34,
    "start_time": "2022-12-23T19:56:43.238Z"
   },
   {
    "duration": 32,
    "start_time": "2022-12-23T19:59:21.777Z"
   },
   {
    "duration": 23,
    "start_time": "2022-12-23T19:59:39.265Z"
   },
   {
    "duration": 35,
    "start_time": "2022-12-23T19:59:44.145Z"
   },
   {
    "duration": 31,
    "start_time": "2022-12-23T20:11:27.562Z"
   },
   {
    "duration": 49,
    "start_time": "2022-12-23T20:11:48.759Z"
   },
   {
    "duration": 57,
    "start_time": "2022-12-23T20:12:10.255Z"
   },
   {
    "duration": 9,
    "start_time": "2022-12-23T21:28:58.563Z"
   },
   {
    "duration": 8,
    "start_time": "2022-12-23T21:29:04.789Z"
   },
   {
    "duration": 24,
    "start_time": "2022-12-23T22:21:08.394Z"
   },
   {
    "duration": 9,
    "start_time": "2022-12-23T22:24:52.864Z"
   },
   {
    "duration": 36,
    "start_time": "2022-12-23T22:25:03.533Z"
   },
   {
    "duration": 36,
    "start_time": "2022-12-23T22:25:36.082Z"
   },
   {
    "duration": 40,
    "start_time": "2022-12-23T22:26:03.776Z"
   },
   {
    "duration": 38,
    "start_time": "2022-12-23T22:26:16.539Z"
   },
   {
    "duration": 14,
    "start_time": "2022-12-23T22:26:31.158Z"
   },
   {
    "duration": 16,
    "start_time": "2022-12-23T22:26:46.558Z"
   },
   {
    "duration": 8,
    "start_time": "2022-12-23T22:27:05.376Z"
   },
   {
    "duration": 10,
    "start_time": "2022-12-23T22:27:25.358Z"
   },
   {
    "duration": 14,
    "start_time": "2022-12-23T22:28:06.442Z"
   },
   {
    "duration": 13,
    "start_time": "2022-12-23T22:30:27.879Z"
   },
   {
    "duration": 7,
    "start_time": "2022-12-23T22:35:31.146Z"
   },
   {
    "duration": 8,
    "start_time": "2022-12-23T22:35:33.138Z"
   },
   {
    "duration": 8,
    "start_time": "2022-12-23T22:35:47.874Z"
   },
   {
    "duration": 8,
    "start_time": "2022-12-23T22:35:52.783Z"
   },
   {
    "duration": 11,
    "start_time": "2022-12-23T22:36:00.392Z"
   },
   {
    "duration": 8,
    "start_time": "2022-12-23T22:36:04.270Z"
   },
   {
    "duration": 9,
    "start_time": "2022-12-23T22:36:15.253Z"
   },
   {
    "duration": 8,
    "start_time": "2022-12-23T22:36:43.751Z"
   },
   {
    "duration": 3,
    "start_time": "2022-12-23T22:37:00.178Z"
   },
   {
    "duration": 3,
    "start_time": "2022-12-23T22:37:13.677Z"
   },
   {
    "duration": 9,
    "start_time": "2022-12-23T22:37:22.382Z"
   },
   {
    "duration": 8,
    "start_time": "2022-12-23T22:37:24.418Z"
   },
   {
    "duration": 55,
    "start_time": "2022-12-23T22:40:30.302Z"
   },
   {
    "duration": 14,
    "start_time": "2022-12-23T22:40:40.902Z"
   },
   {
    "duration": 22,
    "start_time": "2022-12-23T22:40:56.358Z"
   },
   {
    "duration": 36,
    "start_time": "2022-12-23T22:41:11.895Z"
   },
   {
    "duration": 35,
    "start_time": "2022-12-23T22:41:53.216Z"
   },
   {
    "duration": 1286,
    "start_time": "2022-12-24T08:32:21.545Z"
   },
   {
    "duration": 719,
    "start_time": "2022-12-24T08:32:22.833Z"
   },
   {
    "duration": 195,
    "start_time": "2022-12-24T08:32:23.553Z"
   },
   {
    "duration": 42,
    "start_time": "2022-12-24T08:32:23.750Z"
   },
   {
    "duration": 382,
    "start_time": "2022-12-24T08:32:23.794Z"
   },
   {
    "duration": 1043,
    "start_time": "2022-12-24T08:32:24.178Z"
   },
   {
    "duration": 998,
    "start_time": "2022-12-24T08:32:25.223Z"
   },
   {
    "duration": 41,
    "start_time": "2022-12-24T08:32:26.223Z"
   },
   {
    "duration": 20,
    "start_time": "2022-12-24T08:32:26.266Z"
   },
   {
    "duration": 22,
    "start_time": "2022-12-24T08:32:26.288Z"
   },
   {
    "duration": 65,
    "start_time": "2022-12-24T08:32:26.312Z"
   },
   {
    "duration": 7,
    "start_time": "2022-12-24T08:32:26.379Z"
   },
   {
    "duration": 221,
    "start_time": "2022-12-24T08:32:26.388Z"
   },
   {
    "duration": 56,
    "start_time": "2022-12-24T08:32:26.610Z"
   },
   {
    "duration": 140,
    "start_time": "2022-12-24T08:32:26.668Z"
   },
   {
    "duration": 29,
    "start_time": "2022-12-24T08:32:26.810Z"
   },
   {
    "duration": 15,
    "start_time": "2022-12-24T08:32:26.841Z"
   },
   {
    "duration": 9,
    "start_time": "2022-12-24T08:32:26.858Z"
   },
   {
    "duration": 15,
    "start_time": "2022-12-24T08:32:26.868Z"
   },
   {
    "duration": 9,
    "start_time": "2022-12-24T08:32:26.884Z"
   },
   {
    "duration": 45,
    "start_time": "2022-12-24T08:32:26.895Z"
   },
   {
    "duration": 26,
    "start_time": "2022-12-24T08:32:26.941Z"
   },
   {
    "duration": 27,
    "start_time": "2022-12-24T08:41:22.753Z"
   },
   {
    "duration": 13,
    "start_time": "2022-12-24T08:47:24.261Z"
   },
   {
    "duration": 231,
    "start_time": "2022-12-24T08:47:51.297Z"
   },
   {
    "duration": 183,
    "start_time": "2022-12-24T08:47:54.940Z"
   },
   {
    "duration": 1122,
    "start_time": "2022-12-24T08:48:26.045Z"
   },
   {
    "duration": 15,
    "start_time": "2022-12-24T08:48:31.701Z"
   },
   {
    "duration": 1236,
    "start_time": "2022-12-24T08:49:02.174Z"
   },
   {
    "duration": 88,
    "start_time": "2022-12-24T08:49:24.919Z"
   },
   {
    "duration": 105,
    "start_time": "2022-12-24T08:49:31.208Z"
   },
   {
    "duration": 62,
    "start_time": "2022-12-24T08:49:49.067Z"
   },
   {
    "duration": 13,
    "start_time": "2022-12-24T08:49:54.248Z"
   },
   {
    "duration": 8,
    "start_time": "2022-12-24T21:14:39.723Z"
   },
   {
    "duration": 47,
    "start_time": "2022-12-24T21:15:12.835Z"
   },
   {
    "duration": 40,
    "start_time": "2022-12-24T21:15:19.705Z"
   },
   {
    "duration": 7,
    "start_time": "2022-12-24T21:15:26.898Z"
   },
   {
    "duration": 1284,
    "start_time": "2022-12-24T21:15:31.087Z"
   },
   {
    "duration": 536,
    "start_time": "2022-12-24T21:15:32.373Z"
   },
   {
    "duration": 182,
    "start_time": "2022-12-24T21:15:33.424Z"
   },
   {
    "duration": 36,
    "start_time": "2022-12-24T21:15:37.895Z"
   },
   {
    "duration": 340,
    "start_time": "2022-12-24T21:15:38.987Z"
   },
   {
    "duration": 235,
    "start_time": "2022-12-24T21:16:10.073Z"
   },
   {
    "duration": 215,
    "start_time": "2022-12-24T21:16:20.872Z"
   },
   {
    "duration": 258,
    "start_time": "2022-12-24T21:16:29.313Z"
   },
   {
    "duration": 233,
    "start_time": "2022-12-24T21:16:39.239Z"
   },
   {
    "duration": 233,
    "start_time": "2022-12-24T21:16:44.064Z"
   },
   {
    "duration": 1908,
    "start_time": "2022-12-24T21:16:59.154Z"
   },
   {
    "duration": 1936,
    "start_time": "2022-12-24T21:17:22.904Z"
   },
   {
    "duration": 2036,
    "start_time": "2022-12-24T21:17:58.197Z"
   },
   {
    "duration": 1817,
    "start_time": "2022-12-24T21:18:20.684Z"
   },
   {
    "duration": 69,
    "start_time": "2022-12-24T21:20:31.147Z"
   },
   {
    "duration": 1861,
    "start_time": "2022-12-24T21:20:49.507Z"
   },
   {
    "duration": 2806,
    "start_time": "2022-12-24T21:23:08.018Z"
   },
   {
    "duration": 3770,
    "start_time": "2022-12-24T21:24:15.714Z"
   },
   {
    "duration": 3668,
    "start_time": "2022-12-24T21:24:51.124Z"
   },
   {
    "duration": 3771,
    "start_time": "2022-12-24T21:28:01.146Z"
   },
   {
    "duration": 4241,
    "start_time": "2022-12-24T21:43:13.952Z"
   },
   {
    "duration": 4685,
    "start_time": "2022-12-24T21:49:16.665Z"
   },
   {
    "duration": 21,
    "start_time": "2022-12-24T21:49:40.984Z"
   },
   {
    "duration": 22,
    "start_time": "2022-12-24T21:49:46.624Z"
   },
   {
    "duration": 19,
    "start_time": "2022-12-24T21:50:09.653Z"
   },
   {
    "duration": 168,
    "start_time": "2022-12-24T22:04:49.895Z"
   },
   {
    "duration": 163,
    "start_time": "2022-12-24T22:04:54.036Z"
   },
   {
    "duration": 4,
    "start_time": "2022-12-24T22:05:00.266Z"
   },
   {
    "duration": 229,
    "start_time": "2022-12-24T22:05:00.716Z"
   },
   {
    "duration": 174,
    "start_time": "2022-12-24T22:05:02.256Z"
   },
   {
    "duration": 38,
    "start_time": "2022-12-24T22:05:03.947Z"
   },
   {
    "duration": 287,
    "start_time": "2022-12-24T22:05:05.012Z"
   },
   {
    "duration": 5791,
    "start_time": "2022-12-24T22:05:51.865Z"
   },
   {
    "duration": 44,
    "start_time": "2022-12-24T22:10:51.294Z"
   },
   {
    "duration": 38,
    "start_time": "2022-12-24T22:11:00.298Z"
   },
   {
    "duration": 35,
    "start_time": "2022-12-24T22:11:44.718Z"
   },
   {
    "duration": 39,
    "start_time": "2022-12-24T22:11:54.193Z"
   },
   {
    "duration": 37,
    "start_time": "2022-12-24T22:12:10.463Z"
   },
   {
    "duration": 46,
    "start_time": "2022-12-24T22:16:08.238Z"
   },
   {
    "duration": 35,
    "start_time": "2022-12-24T22:22:49.229Z"
   },
   {
    "duration": 92,
    "start_time": "2022-12-24T22:23:46.567Z"
   },
   {
    "duration": 41,
    "start_time": "2022-12-24T22:24:28.770Z"
   },
   {
    "duration": 38,
    "start_time": "2022-12-24T22:24:40.313Z"
   },
   {
    "duration": 41,
    "start_time": "2022-12-24T22:26:55.187Z"
   },
   {
    "duration": 37,
    "start_time": "2022-12-24T22:27:35.530Z"
   },
   {
    "duration": 42,
    "start_time": "2022-12-24T22:28:23.726Z"
   },
   {
    "duration": 43,
    "start_time": "2022-12-24T22:29:42.839Z"
   },
   {
    "duration": 45,
    "start_time": "2022-12-24T22:30:11.700Z"
   },
   {
    "duration": 40,
    "start_time": "2022-12-24T22:31:27.889Z"
   },
   {
    "duration": 51,
    "start_time": "2022-12-24T22:31:31.670Z"
   },
   {
    "duration": 48,
    "start_time": "2022-12-24T22:31:48.330Z"
   },
   {
    "duration": 45,
    "start_time": "2022-12-24T22:32:09.810Z"
   },
   {
    "duration": 48,
    "start_time": "2022-12-24T22:32:52.870Z"
   },
   {
    "duration": 47,
    "start_time": "2022-12-24T22:33:14.929Z"
   },
   {
    "duration": 42,
    "start_time": "2022-12-24T22:33:46.262Z"
   },
   {
    "duration": 40,
    "start_time": "2022-12-24T22:34:07.869Z"
   },
   {
    "duration": 46,
    "start_time": "2022-12-24T22:35:33.907Z"
   },
   {
    "duration": 49,
    "start_time": "2022-12-24T22:35:44.571Z"
   },
   {
    "duration": 47,
    "start_time": "2022-12-24T22:35:58.900Z"
   },
   {
    "duration": 8,
    "start_time": "2022-12-24T22:40:34.340Z"
   },
   {
    "duration": 31,
    "start_time": "2022-12-24T22:40:40.890Z"
   },
   {
    "duration": 42,
    "start_time": "2022-12-24T22:40:43.420Z"
   },
   {
    "duration": 8,
    "start_time": "2022-12-24T22:40:48.440Z"
   },
   {
    "duration": 58,
    "start_time": "2022-12-24T22:40:51.310Z"
   },
   {
    "duration": 9,
    "start_time": "2022-12-24T22:40:53.570Z"
   },
   {
    "duration": 45,
    "start_time": "2022-12-24T22:40:57.650Z"
   },
   {
    "duration": 158,
    "start_time": "2022-12-24T22:41:02.541Z"
   },
   {
    "duration": 8,
    "start_time": "2022-12-24T22:41:05.779Z"
   },
   {
    "duration": 8,
    "start_time": "2022-12-24T22:53:07.901Z"
   },
   {
    "duration": 6,
    "start_time": "2022-12-24T22:53:17.229Z"
   },
   {
    "duration": 4,
    "start_time": "2022-12-24T22:54:26.919Z"
   },
   {
    "duration": 21,
    "start_time": "2022-12-24T22:54:32.711Z"
   },
   {
    "duration": 5,
    "start_time": "2022-12-24T22:54:44.725Z"
   },
   {
    "duration": 5,
    "start_time": "2022-12-24T22:55:14.161Z"
   },
   {
    "duration": 6,
    "start_time": "2022-12-24T22:55:23.519Z"
   },
   {
    "duration": 10,
    "start_time": "2022-12-24T22:55:56.669Z"
   },
   {
    "duration": 5,
    "start_time": "2022-12-24T22:56:28.841Z"
   },
   {
    "duration": 43,
    "start_time": "2022-12-24T22:58:37.489Z"
   },
   {
    "duration": 9,
    "start_time": "2022-12-24T22:58:57.979Z"
   },
   {
    "duration": 842,
    "start_time": "2022-12-24T22:59:08.551Z"
   },
   {
    "duration": 770,
    "start_time": "2022-12-24T23:07:21.363Z"
   },
   {
    "duration": 740,
    "start_time": "2022-12-24T23:07:32.383Z"
   },
   {
    "duration": 5,
    "start_time": "2022-12-24T23:09:47.541Z"
   },
   {
    "duration": 6,
    "start_time": "2022-12-24T23:10:08.952Z"
   },
   {
    "duration": 6,
    "start_time": "2022-12-24T23:10:13.263Z"
   },
   {
    "duration": 7,
    "start_time": "2022-12-24T23:15:42.753Z"
   },
   {
    "duration": 5,
    "start_time": "2022-12-24T23:15:51.313Z"
   },
   {
    "duration": 6,
    "start_time": "2022-12-24T23:18:54.835Z"
   },
   {
    "duration": 6,
    "start_time": "2022-12-24T23:19:54.123Z"
   },
   {
    "duration": 7,
    "start_time": "2022-12-24T23:20:09.043Z"
   },
   {
    "duration": 7,
    "start_time": "2022-12-24T23:20:31.555Z"
   },
   {
    "duration": 6,
    "start_time": "2022-12-24T23:21:06.955Z"
   },
   {
    "duration": 6,
    "start_time": "2022-12-24T23:21:14.656Z"
   },
   {
    "duration": 7,
    "start_time": "2022-12-24T23:21:36.195Z"
   },
   {
    "duration": 8,
    "start_time": "2022-12-24T23:23:09.501Z"
   },
   {
    "duration": 757,
    "start_time": "2022-12-24T23:28:32.187Z"
   },
   {
    "duration": 8,
    "start_time": "2022-12-24T23:28:50.554Z"
   },
   {
    "duration": 8,
    "start_time": "2022-12-24T23:29:48.043Z"
   },
   {
    "duration": 12,
    "start_time": "2022-12-24T23:30:15.567Z"
   },
   {
    "duration": 11,
    "start_time": "2022-12-24T23:30:20.709Z"
   },
   {
    "duration": 8,
    "start_time": "2022-12-24T23:30:54.964Z"
   },
   {
    "duration": 3,
    "start_time": "2022-12-24T23:32:04.563Z"
   },
   {
    "duration": 234,
    "start_time": "2022-12-24T23:32:04.884Z"
   },
   {
    "duration": 181,
    "start_time": "2022-12-24T23:32:05.814Z"
   },
   {
    "duration": 51,
    "start_time": "2022-12-24T23:32:06.987Z"
   },
   {
    "duration": 213,
    "start_time": "2022-12-24T23:32:07.291Z"
   },
   {
    "duration": 46,
    "start_time": "2022-12-24T23:32:08.487Z"
   },
   {
    "duration": 40,
    "start_time": "2022-12-24T23:32:15.683Z"
   },
   {
    "duration": 26,
    "start_time": "2022-12-24T23:32:17.194Z"
   },
   {
    "duration": 70,
    "start_time": "2022-12-24T23:32:17.715Z"
   },
   {
    "duration": 9,
    "start_time": "2022-12-24T23:32:18.241Z"
   },
   {
    "duration": 45,
    "start_time": "2022-12-24T23:32:19.389Z"
   },
   {
    "duration": 9,
    "start_time": "2022-12-24T23:32:21.702Z"
   },
   {
    "duration": 12,
    "start_time": "2022-12-24T23:32:24.236Z"
   },
   {
    "duration": 12,
    "start_time": "2022-12-24T23:32:30.541Z"
   },
   {
    "duration": 8,
    "start_time": "2022-12-24T23:34:46.814Z"
   },
   {
    "duration": 8,
    "start_time": "2022-12-24T23:36:29.563Z"
   },
   {
    "duration": 12,
    "start_time": "2022-12-24T23:37:46.879Z"
   },
   {
    "duration": 13,
    "start_time": "2022-12-24T23:37:54.234Z"
   },
   {
    "duration": 10,
    "start_time": "2022-12-24T23:38:00.371Z"
   },
   {
    "duration": 9,
    "start_time": "2022-12-24T23:38:18.603Z"
   },
   {
    "duration": 11,
    "start_time": "2022-12-24T23:38:47.244Z"
   },
   {
    "duration": 7,
    "start_time": "2022-12-24T23:38:55.308Z"
   },
   {
    "duration": 8,
    "start_time": "2022-12-24T23:39:04.779Z"
   },
   {
    "duration": 11,
    "start_time": "2022-12-24T23:39:16.603Z"
   },
   {
    "duration": 8,
    "start_time": "2022-12-24T23:39:23.627Z"
   },
   {
    "duration": 9,
    "start_time": "2022-12-24T23:39:29.424Z"
   },
   {
    "duration": 10,
    "start_time": "2022-12-24T23:40:27.375Z"
   },
   {
    "duration": 10,
    "start_time": "2022-12-24T23:40:43.564Z"
   },
   {
    "duration": 10,
    "start_time": "2022-12-24T23:40:49.903Z"
   },
   {
    "duration": 8,
    "start_time": "2022-12-24T23:41:03.454Z"
   },
   {
    "duration": 10,
    "start_time": "2022-12-24T23:41:37.823Z"
   },
   {
    "duration": 45,
    "start_time": "2022-12-24T23:42:14.373Z"
   },
   {
    "duration": 11,
    "start_time": "2022-12-24T23:42:36.306Z"
   },
   {
    "duration": 8,
    "start_time": "2022-12-24T23:45:09.013Z"
   },
   {
    "duration": 10,
    "start_time": "2022-12-24T23:45:14.200Z"
   },
   {
    "duration": 9,
    "start_time": "2022-12-24T23:45:18.604Z"
   },
   {
    "duration": 12,
    "start_time": "2022-12-24T23:45:37.636Z"
   },
   {
    "duration": 11,
    "start_time": "2022-12-24T23:46:02.796Z"
   },
   {
    "duration": 11,
    "start_time": "2022-12-24T23:46:09.207Z"
   },
   {
    "duration": 12,
    "start_time": "2022-12-24T23:47:38.864Z"
   },
   {
    "duration": 15,
    "start_time": "2022-12-24T23:51:13.294Z"
   },
   {
    "duration": 19,
    "start_time": "2022-12-24T23:51:22.204Z"
   },
   {
    "duration": 16,
    "start_time": "2022-12-24T23:51:48.915Z"
   },
   {
    "duration": 17,
    "start_time": "2022-12-24T23:51:57.684Z"
   },
   {
    "duration": 8,
    "start_time": "2022-12-24T23:52:12.927Z"
   },
   {
    "duration": 18,
    "start_time": "2022-12-24T23:52:35.664Z"
   },
   {
    "duration": 24,
    "start_time": "2022-12-24T23:53:06.837Z"
   },
   {
    "duration": 9,
    "start_time": "2022-12-24T23:54:39.926Z"
   },
   {
    "duration": 8,
    "start_time": "2022-12-24T23:54:43.597Z"
   },
   {
    "duration": 13,
    "start_time": "2022-12-24T23:54:56.145Z"
   },
   {
    "duration": 12,
    "start_time": "2022-12-24T23:57:54.735Z"
   },
   {
    "duration": 11,
    "start_time": "2022-12-24T23:58:45.405Z"
   },
   {
    "duration": 3,
    "start_time": "2022-12-24T23:59:35.347Z"
   },
   {
    "duration": 221,
    "start_time": "2022-12-24T23:59:35.914Z"
   },
   {
    "duration": 175,
    "start_time": "2022-12-24T23:59:37.655Z"
   },
   {
    "duration": 65,
    "start_time": "2022-12-24T23:59:39.475Z"
   },
   {
    "duration": 210,
    "start_time": "2022-12-24T23:59:40.157Z"
   },
   {
    "duration": 45,
    "start_time": "2022-12-24T23:59:41.597Z"
   },
   {
    "duration": 3,
    "start_time": "2022-12-24T23:59:53.225Z"
   },
   {
    "duration": 214,
    "start_time": "2022-12-24T23:59:53.635Z"
   },
   {
    "duration": 185,
    "start_time": "2022-12-24T23:59:55.204Z"
   },
   {
    "duration": 39,
    "start_time": "2022-12-24T23:59:57.894Z"
   },
   {
    "duration": 238,
    "start_time": "2022-12-24T23:59:58.727Z"
   },
   {
    "duration": 44,
    "start_time": "2022-12-25T00:00:00.991Z"
   },
   {
    "duration": 4796,
    "start_time": "2022-12-25T00:00:45.575Z"
   },
   {
    "duration": 41,
    "start_time": "2022-12-25T00:00:59.376Z"
   },
   {
    "duration": 28,
    "start_time": "2022-12-25T00:01:03.625Z"
   },
   {
    "duration": 56,
    "start_time": "2022-12-25T00:01:06.854Z"
   },
   {
    "duration": 8,
    "start_time": "2022-12-25T00:01:08.397Z"
   },
   {
    "duration": 9,
    "start_time": "2022-12-25T00:01:24.966Z"
   },
   {
    "duration": 50,
    "start_time": "2022-12-25T00:01:26.695Z"
   },
   {
    "duration": 10,
    "start_time": "2022-12-25T00:01:28.824Z"
   },
   {
    "duration": 10,
    "start_time": "2022-12-25T00:01:55.915Z"
   },
   {
    "duration": 53,
    "start_time": "2022-12-25T00:02:56.300Z"
   },
   {
    "duration": 53,
    "start_time": "2022-12-25T00:22:06.039Z"
   },
   {
    "duration": 10,
    "start_time": "2022-12-25T00:23:38.937Z"
   },
   {
    "duration": 8,
    "start_time": "2022-12-25T00:24:50.228Z"
   },
   {
    "duration": 55,
    "start_time": "2022-12-25T01:07:44.121Z"
   },
   {
    "duration": 60,
    "start_time": "2022-12-25T09:39:13.422Z"
   },
   {
    "duration": 1037,
    "start_time": "2022-12-25T09:39:19.142Z"
   },
   {
    "duration": 251,
    "start_time": "2022-12-25T09:39:20.181Z"
   },
   {
    "duration": 219,
    "start_time": "2022-12-25T09:39:20.434Z"
   },
   {
    "duration": 44,
    "start_time": "2022-12-25T09:39:20.655Z"
   },
   {
    "duration": 310,
    "start_time": "2022-12-25T09:39:20.700Z"
   },
   {
    "duration": 4845,
    "start_time": "2022-12-25T09:39:21.012Z"
   },
   {
    "duration": 29,
    "start_time": "2022-12-25T09:39:25.859Z"
   },
   {
    "duration": 51,
    "start_time": "2022-12-25T09:39:25.889Z"
   },
   {
    "duration": 26,
    "start_time": "2022-12-25T09:39:25.942Z"
   },
   {
    "duration": 71,
    "start_time": "2022-12-25T09:39:25.970Z"
   },
   {
    "duration": 8,
    "start_time": "2022-12-25T09:39:26.042Z"
   },
   {
    "duration": 47,
    "start_time": "2022-12-25T09:39:26.052Z"
   },
   {
    "duration": 207,
    "start_time": "2022-12-25T09:39:26.101Z"
   },
   {
    "duration": 13,
    "start_time": "2022-12-25T09:39:26.309Z"
   },
   {
    "duration": 125,
    "start_time": "2022-12-25T09:39:26.324Z"
   },
   {
    "duration": 117,
    "start_time": "2022-12-25T09:39:26.451Z"
   },
   {
    "duration": 8,
    "start_time": "2022-12-25T09:39:26.570Z"
   },
   {
    "duration": 31,
    "start_time": "2022-12-25T09:39:26.580Z"
   },
   {
    "duration": 20,
    "start_time": "2022-12-25T09:39:26.614Z"
   },
   {
    "duration": 37,
    "start_time": "2022-12-25T09:39:26.636Z"
   },
   {
    "duration": 44,
    "start_time": "2022-12-25T09:39:26.675Z"
   },
   {
    "duration": 19,
    "start_time": "2022-12-25T09:39:26.721Z"
   },
   {
    "duration": 25,
    "start_time": "2022-12-25T09:39:26.742Z"
   },
   {
    "duration": 56,
    "start_time": "2022-12-26T12:43:49.066Z"
   },
   {
    "duration": 10,
    "start_time": "2022-12-26T12:44:00.894Z"
   },
   {
    "duration": 1422,
    "start_time": "2022-12-26T12:44:08.175Z"
   },
   {
    "duration": 808,
    "start_time": "2022-12-26T12:44:09.598Z"
   },
   {
    "duration": 226,
    "start_time": "2022-12-26T12:44:10.408Z"
   },
   {
    "duration": 46,
    "start_time": "2022-12-26T12:44:16.042Z"
   },
   {
    "duration": 299,
    "start_time": "2022-12-26T12:44:16.548Z"
   },
   {
    "duration": 5323,
    "start_time": "2022-12-26T12:44:18.094Z"
   },
   {
    "duration": 4937,
    "start_time": "2022-12-26T12:45:57.400Z"
   },
   {
    "duration": 3,
    "start_time": "2022-12-26T12:46:03.097Z"
   },
   {
    "duration": 288,
    "start_time": "2022-12-26T12:46:03.841Z"
   },
   {
    "duration": 182,
    "start_time": "2022-12-26T12:46:06.177Z"
   },
   {
    "duration": 41,
    "start_time": "2022-12-26T12:46:08.552Z"
   },
   {
    "duration": 220,
    "start_time": "2022-12-26T12:46:11.254Z"
   },
   {
    "duration": 0,
    "start_time": "2022-12-26T12:46:18.247Z"
   },
   {
    "duration": 5025,
    "start_time": "2022-12-26T12:46:29.850Z"
   },
   {
    "duration": 77,
    "start_time": "2022-12-26T12:47:32.930Z"
   },
   {
    "duration": 5,
    "start_time": "2022-12-26T12:47:46.179Z"
   },
   {
    "duration": 919,
    "start_time": "2022-12-26T12:47:57.880Z"
   },
   {
    "duration": 19,
    "start_time": "2022-12-26T12:49:38.794Z"
   },
   {
    "duration": 18,
    "start_time": "2022-12-26T12:49:57.194Z"
   },
   {
    "duration": 1960,
    "start_time": "2022-12-26T12:50:23.550Z"
   },
   {
    "duration": 893,
    "start_time": "2022-12-26T12:50:49.449Z"
   },
   {
    "duration": 852,
    "start_time": "2022-12-26T12:51:04.272Z"
   },
   {
    "duration": 836,
    "start_time": "2022-12-26T12:51:35.574Z"
   },
   {
    "duration": 851,
    "start_time": "2022-12-26T12:51:45.472Z"
   },
   {
    "duration": 4,
    "start_time": "2022-12-26T12:51:55.441Z"
   },
   {
    "duration": 274,
    "start_time": "2022-12-26T12:51:56.053Z"
   },
   {
    "duration": 176,
    "start_time": "2022-12-26T12:51:57.474Z"
   },
   {
    "duration": 39,
    "start_time": "2022-12-26T12:51:59.285Z"
   },
   {
    "duration": 221,
    "start_time": "2022-12-26T12:51:59.968Z"
   },
   {
    "duration": 4009,
    "start_time": "2022-12-26T12:52:02.165Z"
   },
   {
    "duration": 1042,
    "start_time": "2022-12-26T12:52:06.176Z"
   },
   {
    "duration": 1142,
    "start_time": "2022-12-26T12:52:17.182Z"
   },
   {
    "duration": 4196,
    "start_time": "2022-12-26T12:52:24.366Z"
   },
   {
    "duration": 1046,
    "start_time": "2022-12-26T12:52:49.961Z"
   },
   {
    "duration": 4117,
    "start_time": "2022-12-26T12:53:32.149Z"
   },
   {
    "duration": 4266,
    "start_time": "2022-12-26T12:54:07.805Z"
   },
   {
    "duration": 4278,
    "start_time": "2022-12-26T12:55:34.653Z"
   },
   {
    "duration": 1076,
    "start_time": "2022-12-26T12:55:44.286Z"
   },
   {
    "duration": 1223,
    "start_time": "2022-12-26T14:05:26.433Z"
   },
   {
    "duration": 704,
    "start_time": "2022-12-26T14:05:27.658Z"
   },
   {
    "duration": 213,
    "start_time": "2022-12-26T14:05:28.364Z"
   },
   {
    "duration": 42,
    "start_time": "2022-12-26T14:05:30.482Z"
   },
   {
    "duration": 304,
    "start_time": "2022-12-26T14:05:31.597Z"
   },
   {
    "duration": 4344,
    "start_time": "2022-12-26T14:05:33.045Z"
   },
   {
    "duration": 1024,
    "start_time": "2022-12-26T14:05:37.391Z"
   },
   {
    "duration": 4266,
    "start_time": "2022-12-26T14:06:45.707Z"
   },
   {
    "duration": 1069,
    "start_time": "2022-12-26T14:06:54.773Z"
   },
   {
    "duration": 70,
    "start_time": "2022-12-26T14:12:41.425Z"
   },
   {
    "duration": 63,
    "start_time": "2022-12-26T14:13:04.705Z"
   },
   {
    "duration": 76,
    "start_time": "2022-12-26T14:13:49.913Z"
   },
   {
    "duration": 5,
    "start_time": "2022-12-26T14:15:41.160Z"
   },
   {
    "duration": 234,
    "start_time": "2022-12-26T14:15:42.162Z"
   },
   {
    "duration": 185,
    "start_time": "2022-12-26T14:15:44.386Z"
   },
   {
    "duration": 38,
    "start_time": "2022-12-26T14:15:49.513Z"
   },
   {
    "duration": 226,
    "start_time": "2022-12-26T14:15:51.353Z"
   },
   {
    "duration": 4224,
    "start_time": "2022-12-26T14:15:55.645Z"
   },
   {
    "duration": 3,
    "start_time": "2022-12-26T14:19:46.521Z"
   },
   {
    "duration": 229,
    "start_time": "2022-12-26T14:19:47.046Z"
   },
   {
    "duration": 187,
    "start_time": "2022-12-26T14:19:49.121Z"
   },
   {
    "duration": 40,
    "start_time": "2022-12-26T14:19:51.302Z"
   },
   {
    "duration": 229,
    "start_time": "2022-12-26T14:19:52.118Z"
   },
   {
    "duration": 4255,
    "start_time": "2022-12-26T14:19:54.050Z"
   },
   {
    "duration": 6,
    "start_time": "2022-12-26T14:19:58.306Z"
   },
   {
    "duration": 1098,
    "start_time": "2022-12-26T14:21:14.190Z"
   },
   {
    "duration": 241,
    "start_time": "2022-12-26T14:22:37.810Z"
   },
   {
    "duration": 3,
    "start_time": "2022-12-26T14:23:17.751Z"
   },
   {
    "duration": 126,
    "start_time": "2022-12-26T14:24:06.639Z"
   },
   {
    "duration": 233,
    "start_time": "2022-12-26T14:24:33.731Z"
   },
   {
    "duration": 10,
    "start_time": "2022-12-26T14:26:45.841Z"
   },
   {
    "duration": 3,
    "start_time": "2022-12-26T14:27:00.031Z"
   },
   {
    "duration": 44,
    "start_time": "2022-12-26T14:27:41.181Z"
   },
   {
    "duration": 205,
    "start_time": "2022-12-26T14:27:51.920Z"
   },
   {
    "duration": 266,
    "start_time": "2022-12-26T14:28:47.371Z"
   },
   {
    "duration": 240,
    "start_time": "2022-12-26T14:29:58.807Z"
   },
   {
    "duration": 246,
    "start_time": "2022-12-26T14:30:26.728Z"
   },
   {
    "duration": 44,
    "start_time": "2022-12-26T14:32:42.479Z"
   },
   {
    "duration": 238,
    "start_time": "2022-12-26T14:33:24.662Z"
   },
   {
    "duration": 22,
    "start_time": "2022-12-26T14:34:36.213Z"
   },
   {
    "duration": 244,
    "start_time": "2022-12-26T14:36:39.120Z"
   },
   {
    "duration": 148,
    "start_time": "2022-12-26T14:36:47.980Z"
   },
   {
    "duration": 209,
    "start_time": "2022-12-26T14:36:55.941Z"
   },
   {
    "duration": 24,
    "start_time": "2022-12-26T14:37:14.643Z"
   },
   {
    "duration": 17,
    "start_time": "2022-12-26T14:38:07.592Z"
   },
   {
    "duration": 17,
    "start_time": "2022-12-26T14:38:18.013Z"
   },
   {
    "duration": 1264,
    "start_time": "2022-12-26T19:14:38.088Z"
   },
   {
    "duration": 590,
    "start_time": "2022-12-26T19:14:39.467Z"
   },
   {
    "duration": 195,
    "start_time": "2022-12-26T19:14:44.321Z"
   },
   {
    "duration": 24,
    "start_time": "2022-12-26T19:14:50.798Z"
   },
   {
    "duration": 280,
    "start_time": "2022-12-26T19:14:51.797Z"
   },
   {
    "duration": 88,
    "start_time": "2022-12-26T19:16:48.730Z"
   },
   {
    "duration": 8,
    "start_time": "2022-12-26T19:16:54.497Z"
   },
   {
    "duration": 8,
    "start_time": "2022-12-26T19:17:08.531Z"
   },
   {
    "duration": 10,
    "start_time": "2022-12-26T19:17:42.634Z"
   },
   {
    "duration": 8,
    "start_time": "2022-12-26T19:17:48.257Z"
   },
   {
    "duration": 27,
    "start_time": "2022-12-26T19:19:03.138Z"
   },
   {
    "duration": 4,
    "start_time": "2022-12-26T19:19:13.647Z"
   },
   {
    "duration": 155,
    "start_time": "2022-12-26T19:22:18.371Z"
   },
   {
    "duration": 148,
    "start_time": "2022-12-26T19:25:39.686Z"
   },
   {
    "duration": 3,
    "start_time": "2022-12-26T19:26:38.423Z"
   },
   {
    "duration": 225,
    "start_time": "2022-12-26T19:26:39.803Z"
   },
   {
    "duration": 117,
    "start_time": "2022-12-26T19:26:41.951Z"
   },
   {
    "duration": 141,
    "start_time": "2022-12-26T19:36:58.317Z"
   },
   {
    "duration": 16,
    "start_time": "2022-12-26T19:37:30.797Z"
   },
   {
    "duration": 10,
    "start_time": "2022-12-26T19:37:41.172Z"
   },
   {
    "duration": 16,
    "start_time": "2022-12-26T19:38:26.974Z"
   },
   {
    "duration": 18,
    "start_time": "2022-12-26T19:38:47.091Z"
   },
   {
    "duration": 46,
    "start_time": "2022-12-26T19:39:42.321Z"
   },
   {
    "duration": 16,
    "start_time": "2022-12-26T19:40:13.735Z"
   },
   {
    "duration": 16,
    "start_time": "2022-12-26T19:40:41.693Z"
   },
   {
    "duration": 17,
    "start_time": "2022-12-26T19:41:03.779Z"
   },
   {
    "duration": 18,
    "start_time": "2022-12-26T19:41:21.662Z"
   },
   {
    "duration": 11,
    "start_time": "2022-12-26T19:42:16.209Z"
   },
   {
    "duration": 19,
    "start_time": "2022-12-26T19:42:34.924Z"
   },
   {
    "duration": 1403,
    "start_time": "2022-12-27T06:34:33.269Z"
   },
   {
    "duration": 662,
    "start_time": "2022-12-27T06:34:34.674Z"
   },
   {
    "duration": 185,
    "start_time": "2022-12-27T06:34:37.072Z"
   },
   {
    "duration": 39,
    "start_time": "2022-12-27T06:34:45.874Z"
   },
   {
    "duration": 319,
    "start_time": "2022-12-27T06:34:54.228Z"
   },
   {
    "duration": 20,
    "start_time": "2022-12-27T06:34:56.599Z"
   },
   {
    "duration": 4,
    "start_time": "2022-12-27T06:37:10.717Z"
   },
   {
    "duration": 138,
    "start_time": "2022-12-27T06:37:26.061Z"
   },
   {
    "duration": 49,
    "start_time": "2022-12-27T06:37:43.731Z"
   },
   {
    "duration": 46,
    "start_time": "2022-12-27T06:38:22.012Z"
   },
   {
    "duration": 26,
    "start_time": "2022-12-27T06:39:34.724Z"
   },
   {
    "duration": 25,
    "start_time": "2022-12-27T06:40:26.635Z"
   },
   {
    "duration": 37,
    "start_time": "2022-12-27T06:40:49.528Z"
   },
   {
    "duration": 70,
    "start_time": "2022-12-27T06:42:25.908Z"
   },
   {
    "duration": 20,
    "start_time": "2022-12-27T06:42:36.866Z"
   },
   {
    "duration": 38,
    "start_time": "2022-12-27T06:42:41.983Z"
   },
   {
    "duration": 41,
    "start_time": "2022-12-27T06:43:29.691Z"
   },
   {
    "duration": 55,
    "start_time": "2022-12-27T06:46:59.803Z"
   },
   {
    "duration": 38,
    "start_time": "2022-12-27T06:47:15.208Z"
   },
   {
    "duration": 39,
    "start_time": "2022-12-27T06:47:26.221Z"
   },
   {
    "duration": 65,
    "start_time": "2022-12-27T06:48:12.851Z"
   },
   {
    "duration": 22,
    "start_time": "2022-12-27T06:48:56.238Z"
   },
   {
    "duration": 44,
    "start_time": "2022-12-27T06:49:03.292Z"
   },
   {
    "duration": 19,
    "start_time": "2022-12-27T06:50:18.374Z"
   },
   {
    "duration": 16,
    "start_time": "2022-12-27T06:50:43.251Z"
   },
   {
    "duration": 4,
    "start_time": "2022-12-27T06:50:46.237Z"
   },
   {
    "duration": 3,
    "start_time": "2022-12-27T06:50:54.490Z"
   },
   {
    "duration": 6,
    "start_time": "2022-12-27T06:52:42.353Z"
   },
   {
    "duration": 42,
    "start_time": "2022-12-27T06:53:05.142Z"
   },
   {
    "duration": 23,
    "start_time": "2022-12-27T06:53:47.926Z"
   },
   {
    "duration": 30,
    "start_time": "2022-12-27T06:54:27.470Z"
   },
   {
    "duration": 4,
    "start_time": "2022-12-27T06:54:34.390Z"
   },
   {
    "duration": 255,
    "start_time": "2022-12-27T06:54:35.008Z"
   },
   {
    "duration": 161,
    "start_time": "2022-12-27T06:54:36.830Z"
   },
   {
    "duration": 24,
    "start_time": "2022-12-27T06:54:40.190Z"
   },
   {
    "duration": 263,
    "start_time": "2022-12-27T06:54:45.756Z"
   },
   {
    "duration": 22,
    "start_time": "2022-12-27T06:54:48.208Z"
   },
   {
    "duration": 3,
    "start_time": "2022-12-27T06:54:59.736Z"
   },
   {
    "duration": 24,
    "start_time": "2022-12-27T06:55:00.384Z"
   },
   {
    "duration": 27,
    "start_time": "2022-12-27T07:01:08.496Z"
   },
   {
    "duration": 39,
    "start_time": "2022-12-27T07:02:14.832Z"
   },
   {
    "duration": 26,
    "start_time": "2022-12-27T07:03:50.455Z"
   },
   {
    "duration": 22,
    "start_time": "2022-12-27T07:06:34.612Z"
   },
   {
    "duration": 25,
    "start_time": "2022-12-27T07:06:48.506Z"
   },
   {
    "duration": 32,
    "start_time": "2022-12-27T07:07:16.853Z"
   },
   {
    "duration": 88,
    "start_time": "2022-12-27T07:08:01.807Z"
   },
   {
    "duration": 58,
    "start_time": "2022-12-27T07:11:27.196Z"
   },
   {
    "duration": 23,
    "start_time": "2022-12-27T07:11:40.797Z"
   },
   {
    "duration": 24,
    "start_time": "2022-12-27T07:12:20.880Z"
   },
   {
    "duration": 29,
    "start_time": "2022-12-27T07:16:46.065Z"
   },
   {
    "duration": 32,
    "start_time": "2022-12-27T07:22:32.982Z"
   },
   {
    "duration": 54,
    "start_time": "2022-12-27T07:22:53.975Z"
   },
   {
    "duration": 35,
    "start_time": "2022-12-27T07:23:04.050Z"
   },
   {
    "duration": 4,
    "start_time": "2022-12-27T07:24:07.470Z"
   },
   {
    "duration": 237,
    "start_time": "2022-12-27T07:24:07.782Z"
   },
   {
    "duration": 157,
    "start_time": "2022-12-27T07:24:09.093Z"
   },
   {
    "duration": 28,
    "start_time": "2022-12-27T07:24:11.092Z"
   },
   {
    "duration": 257,
    "start_time": "2022-12-27T07:24:11.574Z"
   },
   {
    "duration": 19,
    "start_time": "2022-12-27T07:24:13.151Z"
   },
   {
    "duration": 27,
    "start_time": "2022-12-27T07:24:16.064Z"
   },
   {
    "duration": 83,
    "start_time": "2022-12-27T07:27:09.210Z"
   },
   {
    "duration": 11,
    "start_time": "2022-12-27T07:29:00.396Z"
   },
   {
    "duration": 14,
    "start_time": "2022-12-27T07:29:09.751Z"
   },
   {
    "duration": 20,
    "start_time": "2022-12-27T07:29:16.671Z"
   },
   {
    "duration": 70,
    "start_time": "2022-12-27T07:30:17.396Z"
   },
   {
    "duration": 13,
    "start_time": "2022-12-27T07:30:25.361Z"
   },
   {
    "duration": 12,
    "start_time": "2022-12-27T07:30:29.364Z"
   },
   {
    "duration": 64,
    "start_time": "2022-12-27T07:33:28.637Z"
   },
   {
    "duration": 97,
    "start_time": "2022-12-27T07:33:32.677Z"
   },
   {
    "duration": 7,
    "start_time": "2022-12-27T07:33:38.444Z"
   },
   {
    "duration": 14,
    "start_time": "2022-12-27T07:33:43.208Z"
   },
   {
    "duration": 13,
    "start_time": "2022-12-27T07:33:51.815Z"
   },
   {
    "duration": 17,
    "start_time": "2022-12-27T07:33:53.977Z"
   },
   {
    "duration": 11,
    "start_time": "2022-12-27T07:33:57.118Z"
   },
   {
    "duration": 11,
    "start_time": "2022-12-27T07:34:14.599Z"
   },
   {
    "duration": 35,
    "start_time": "2022-12-27T07:34:19.556Z"
   },
   {
    "duration": 1410,
    "start_time": "2023-03-17T17:54:31.665Z"
   },
   {
    "duration": 1418,
    "start_time": "2023-03-17T17:54:33.077Z"
   },
   {
    "duration": 195,
    "start_time": "2023-03-17T17:54:34.497Z"
   },
   {
    "duration": 27,
    "start_time": "2023-03-17T17:54:34.696Z"
   },
   {
    "duration": 771,
    "start_time": "2023-03-17T17:54:34.725Z"
   },
   {
    "duration": 24,
    "start_time": "2023-03-17T17:54:35.499Z"
   },
   {
    "duration": 87,
    "start_time": "2023-03-17T17:54:35.525Z"
   },
   {
    "duration": 6,
    "start_time": "2023-03-17T17:54:35.614Z"
   },
   {
    "duration": 116,
    "start_time": "2023-03-17T17:54:35.621Z"
   },
   {
    "duration": 36,
    "start_time": "2023-03-17T17:54:35.793Z"
   },
   {
    "duration": 179,
    "start_time": "2023-03-17T17:54:35.831Z"
   },
   {
    "duration": 12,
    "start_time": "2023-03-17T17:54:36.013Z"
   },
   {
    "duration": 368,
    "start_time": "2023-03-17T17:54:36.027Z"
   },
   {
    "duration": 17,
    "start_time": "2023-03-17T17:54:36.397Z"
   },
   {
    "duration": 184,
    "start_time": "2023-03-17T17:54:36.416Z"
   },
   {
    "duration": 223,
    "start_time": "2023-03-17T17:54:36.602Z"
   },
   {
    "duration": 5,
    "start_time": "2023-03-17T17:54:36.827Z"
   },
   {
    "duration": 65,
    "start_time": "2023-03-17T17:54:36.834Z"
   },
   {
    "duration": 15,
    "start_time": "2023-03-17T17:54:36.902Z"
   },
   {
    "duration": 12,
    "start_time": "2023-03-17T17:54:36.919Z"
   },
   {
    "duration": 72,
    "start_time": "2023-03-17T17:54:36.934Z"
   },
   {
    "duration": 15,
    "start_time": "2023-03-17T17:54:37.008Z"
   },
   {
    "duration": 84,
    "start_time": "2023-03-17T17:54:37.025Z"
   },
   {
    "duration": 51,
    "start_time": "2023-04-25T12:19:10.488Z"
   },
   {
    "duration": 1382,
    "start_time": "2023-04-25T12:19:13.042Z"
   },
   {
    "duration": 383,
    "start_time": "2023-04-25T12:19:14.426Z"
   },
   {
    "duration": 326,
    "start_time": "2023-04-25T12:19:37.838Z"
   },
   {
    "duration": 273,
    "start_time": "2023-04-25T12:19:45.806Z"
   },
   {
    "duration": 131,
    "start_time": "2023-04-25T12:19:53.264Z"
   },
   {
    "duration": 118,
    "start_time": "2023-04-25T12:21:15.579Z"
   },
   {
    "duration": 86,
    "start_time": "2023-04-25T12:21:24.973Z"
   },
   {
    "duration": 87,
    "start_time": "2023-04-25T12:22:01.404Z"
   },
   {
    "duration": 294,
    "start_time": "2023-04-25T12:22:33.940Z"
   },
   {
    "duration": 222,
    "start_time": "2023-04-25T12:23:43.847Z"
   },
   {
    "duration": 83,
    "start_time": "2023-04-25T12:23:59.612Z"
   },
   {
    "duration": 284,
    "start_time": "2023-04-25T12:24:07.092Z"
   },
   {
    "duration": 660,
    "start_time": "2023-04-25T12:24:28.786Z"
   },
   {
    "duration": 77,
    "start_time": "2023-04-25T12:24:38.499Z"
   },
   {
    "duration": 264,
    "start_time": "2023-04-25T12:25:21.677Z"
   },
   {
    "duration": 286,
    "start_time": "2023-04-25T12:25:37.255Z"
   },
   {
    "duration": 310,
    "start_time": "2023-04-25T12:26:16.371Z"
   },
   {
    "duration": 340,
    "start_time": "2023-04-25T12:26:26.878Z"
   },
   {
    "duration": 314,
    "start_time": "2023-04-25T12:27:10.277Z"
   },
   {
    "duration": 348,
    "start_time": "2023-04-25T12:27:18.979Z"
   },
   {
    "duration": 346,
    "start_time": "2023-04-25T12:27:33.071Z"
   },
   {
    "duration": 312,
    "start_time": "2023-04-25T12:27:56.234Z"
   },
   {
    "duration": 238,
    "start_time": "2023-04-25T12:29:09.587Z"
   },
   {
    "duration": 92,
    "start_time": "2023-04-25T12:29:36.024Z"
   },
   {
    "duration": 309,
    "start_time": "2023-04-25T12:29:42.612Z"
   },
   {
    "duration": 2587,
    "start_time": "2023-04-25T12:31:10.420Z"
   },
   {
    "duration": 5,
    "start_time": "2023-04-25T12:31:17.794Z"
   },
   {
    "duration": 355,
    "start_time": "2023-04-25T12:31:18.183Z"
   },
   {
    "duration": 227,
    "start_time": "2023-04-25T12:31:19.745Z"
   },
   {
    "duration": 21,
    "start_time": "2023-04-25T12:31:21.213Z"
   },
   {
    "duration": 367,
    "start_time": "2023-04-25T12:31:21.713Z"
   },
   {
    "duration": 22,
    "start_time": "2023-04-25T12:31:22.905Z"
   },
   {
    "duration": 26,
    "start_time": "2023-04-25T12:31:23.413Z"
   },
   {
    "duration": 5,
    "start_time": "2023-04-25T12:31:24.089Z"
   },
   {
    "duration": 47,
    "start_time": "2023-04-25T12:31:25.600Z"
   },
   {
    "duration": 29,
    "start_time": "2023-04-25T12:31:35.185Z"
   },
   {
    "duration": 77,
    "start_time": "2023-04-25T12:31:36.422Z"
   },
   {
    "duration": 10,
    "start_time": "2023-04-25T12:31:37.590Z"
   },
   {
    "duration": 240,
    "start_time": "2023-04-25T12:31:38.593Z"
   },
   {
    "duration": 11,
    "start_time": "2023-04-25T12:32:01.184Z"
   }
  ],
  "kernelspec": {
   "display_name": "Python 3 (ipykernel)",
   "language": "python",
   "name": "python3"
  },
  "language_info": {
   "codemirror_mode": {
    "name": "ipython",
    "version": 3
   },
   "file_extension": ".py",
   "mimetype": "text/x-python",
   "name": "python",
   "nbconvert_exporter": "python",
   "pygments_lexer": "ipython3",
   "version": "3.9.5"
  },
  "toc": {
   "base_numbering": 1,
   "nav_menu": {},
   "number_sections": true,
   "sideBar": true,
   "skip_h1_title": true,
   "title_cell": "Table of Contents",
   "title_sidebar": "Contents",
   "toc_cell": false,
   "toc_position": {
    "height": "calc(100% - 180px)",
    "left": "10px",
    "top": "150px",
    "width": "392.1px"
   },
   "toc_section_display": true,
   "toc_window_display": true
  }
 },
 "nbformat": 4,
 "nbformat_minor": 2
}
