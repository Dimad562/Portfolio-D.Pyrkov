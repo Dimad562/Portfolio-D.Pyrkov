{
 "cells": [
  {
   "cell_type": "markdown",
   "id": "1e1ddf7d",
   "metadata": {},
   "source": [
    "# Анализ базы данных для создания приложения для продажи книг"
   ]
  },
  {
   "cell_type": "markdown",
   "id": "1209e480",
   "metadata": {},
   "source": [
    "# Описание проекта"
   ]
  },
  {
   "cell_type": "markdown",
   "id": "7de2a330",
   "metadata": {},
   "source": [
    "Цель — проанализировать базу данных последством SQL-запросов.\n",
    "В ней — информация о книгах, издательствах, авторах, а также пользовательские обзоры книг. Эти данные помогут сформулировать ценностное предложение для нового продукта.\n",
    "Задачи:\n",
    "- ***1 задача:*** Подсчёт книг вышедших после 1 января 2000 года;\n",
    "- ***2 задача:*** Для каждой книги посчёт количество обзоров и среднюю оценку;\n",
    "- ***3 задача:*** Определить издательство, которое выпустило наибольшее число книг толще 50 страниц;\n",
    "- ***4 задача:*** Определить автора с самой высокой средней оценкой книг, учитывая только книги с 50 и более оценками;\n",
    "- ***5 задача:*** Посчёт среднего количество обзоров от пользователей, которые поставили больше 50 оценок."
   ]
  },
  {
   "cell_type": "markdown",
   "id": "f82aa13f",
   "metadata": {},
   "source": [
    "# Описание данных для проекта"
   ]
  },
  {
   "cell_type": "markdown",
   "id": "a721da63",
   "metadata": {},
   "source": [
    "**Таблица `books`**\n",
    "\n",
    "Содержит данные о книгах:\n",
    "\n",
    "- `book_id` — идентификатор книги;\n",
    "- `author_id` — идентификатор автора;\n",
    "- `title` — название книги;\n",
    "- `num_pages` — количество страниц;\n",
    "- `publication_date` — дата публикации книги;\n",
    "- `publisher_id` — идентификатор издателя.\n",
    "\n",
    "**Таблица `authors`**\n",
    "\n",
    "Содержит данные об авторах:\n",
    "\n",
    "- `author_id` — идентификатор автора;\n",
    "- `author` — имя автора.\n",
    "\n",
    "**Таблица `publishers`**\n",
    "\n",
    "Содержит данные об издательствах:\n",
    "\n",
    "- `publisher_id` — идентификатор издательства;\n",
    "- `publisher` — название издательства;\n",
    "\n",
    "**Таблица `ratings`**\n",
    "\n",
    "Содержит данные о пользовательских оценках книг:\n",
    "\n",
    "- `rating_id` — идентификатор оценки;\n",
    "- `book_id` — идентификатор книги;\n",
    "- `username` — имя пользователя, оставившего оценку;\n",
    "- `rating` — оценка книги.\n",
    "\n",
    "**Таблица `reviews`**\n",
    "\n",
    "Содержит данные о пользовательских обзорах на книги:\n",
    "\n",
    "- `review_id` — идентификатор обзора;\n",
    "- `book_id` — идентификатор книги;\n",
    "- `username` — имя пользователя, написавшего обзор;\n",
    "- `text` — текст обзора."
   ]
  },
  {
   "cell_type": "markdown",
   "id": "89b6cd42",
   "metadata": {},
   "source": []
  },
  {
   "cell_type": "markdown",
   "id": "5554a4cc",
   "metadata": {},
   "source": [
    "## Импорт библиотек, установка подключения к базе данных"
   ]
  },
  {
   "cell_type": "code",
   "execution_count": 2,
   "id": "95c059f8",
   "metadata": {},
   "outputs": [],
   "source": [
    "# импортируем библиотеки\n",
    "import pandas as pd\n",
    "from sqlalchemy import create_engine"
   ]
  },
  {
   "cell_type": "code",
   "execution_count": 3,
   "id": "b3b6471e",
   "metadata": {},
   "outputs": [],
   "source": [
    "# устанавливаем параметры\n",
    "db_config = {'user': 'praktikum_student', # имя пользователя\n",
    "'pwd': 'Sdf4$2;d-d30pp', # пароль\n",
    "'host': 'rc1b-wcoijxj3yxfsf3fs.mdb.yandexcloud.net',\n",
    "'port': 6432, # порт подключения\n",
    "'db': 'data-analyst-final-project-db'} # название базы данных\n",
    "connection_string = 'postgresql://{}:{}@{}:{}/{}'.format(db_config['user'],\n",
    " db_config['pwd'],\n",
    " db_config['host'],\n",
    " db_config['port'],\n",
    " db_config['db'])\n",
    "# сохраняем коннектор\n",
    "engine = create_engine(connection_string, connect_args={'sslmode':'require'}) "
   ]
  },
  {
   "cell_type": "markdown",
   "id": "cf1a1e75",
   "metadata": {},
   "source": [
    "## Вывод первых строк"
   ]
  },
  {
   "cell_type": "code",
   "execution_count": 4,
   "id": "163f3a6d",
   "metadata": {},
   "outputs": [
    {
     "data": {
      "text/html": [
       "<div>\n",
       "<style scoped>\n",
       "    .dataframe tbody tr th:only-of-type {\n",
       "        vertical-align: middle;\n",
       "    }\n",
       "\n",
       "    .dataframe tbody tr th {\n",
       "        vertical-align: top;\n",
       "    }\n",
       "\n",
       "    .dataframe thead th {\n",
       "        text-align: right;\n",
       "    }\n",
       "</style>\n",
       "<table border=\"1\" class=\"dataframe\">\n",
       "  <thead>\n",
       "    <tr style=\"text-align: right;\">\n",
       "      <th></th>\n",
       "      <th>book_id</th>\n",
       "      <th>author_id</th>\n",
       "      <th>title</th>\n",
       "      <th>num_pages</th>\n",
       "      <th>publication_date</th>\n",
       "      <th>publisher_id</th>\n",
       "    </tr>\n",
       "  </thead>\n",
       "  <tbody>\n",
       "    <tr>\n",
       "      <th>0</th>\n",
       "      <td>1</td>\n",
       "      <td>546</td>\n",
       "      <td>'Salem's Lot</td>\n",
       "      <td>594</td>\n",
       "      <td>2005-11-01</td>\n",
       "      <td>93</td>\n",
       "    </tr>\n",
       "    <tr>\n",
       "      <th>1</th>\n",
       "      <td>2</td>\n",
       "      <td>465</td>\n",
       "      <td>1 000 Places to See Before You Die</td>\n",
       "      <td>992</td>\n",
       "      <td>2003-05-22</td>\n",
       "      <td>336</td>\n",
       "    </tr>\n",
       "    <tr>\n",
       "      <th>2</th>\n",
       "      <td>3</td>\n",
       "      <td>407</td>\n",
       "      <td>13 Little Blue Envelopes (Little Blue Envelope...</td>\n",
       "      <td>322</td>\n",
       "      <td>2010-12-21</td>\n",
       "      <td>135</td>\n",
       "    </tr>\n",
       "    <tr>\n",
       "      <th>3</th>\n",
       "      <td>4</td>\n",
       "      <td>82</td>\n",
       "      <td>1491: New Revelations of the Americas Before C...</td>\n",
       "      <td>541</td>\n",
       "      <td>2006-10-10</td>\n",
       "      <td>309</td>\n",
       "    </tr>\n",
       "    <tr>\n",
       "      <th>4</th>\n",
       "      <td>5</td>\n",
       "      <td>125</td>\n",
       "      <td>1776</td>\n",
       "      <td>386</td>\n",
       "      <td>2006-07-04</td>\n",
       "      <td>268</td>\n",
       "    </tr>\n",
       "  </tbody>\n",
       "</table>\n",
       "</div>"
      ],
      "text/plain": [
       "   book_id  author_id                                              title  \\\n",
       "0        1        546                                       'Salem's Lot   \n",
       "1        2        465                 1 000 Places to See Before You Die   \n",
       "2        3        407  13 Little Blue Envelopes (Little Blue Envelope...   \n",
       "3        4         82  1491: New Revelations of the Americas Before C...   \n",
       "4        5        125                                               1776   \n",
       "\n",
       "   num_pages publication_date  publisher_id  \n",
       "0        594       2005-11-01            93  \n",
       "1        992       2003-05-22           336  \n",
       "2        322       2010-12-21           135  \n",
       "3        541       2006-10-10           309  \n",
       "4        386       2006-07-04           268  "
      ]
     },
     "execution_count": 4,
     "metadata": {},
     "output_type": "execute_result"
    }
   ],
   "source": [
    "query = '''SELECT *\n",
    "           FROM books\n",
    "           LIMIT 5;'''\n",
    "pd.io.sql.read_sql(query, con = engine)"
   ]
  },
  {
   "cell_type": "code",
   "execution_count": 5,
   "id": "0bff605d",
   "metadata": {},
   "outputs": [
    {
     "data": {
      "text/html": [
       "<div>\n",
       "<style scoped>\n",
       "    .dataframe tbody tr th:only-of-type {\n",
       "        vertical-align: middle;\n",
       "    }\n",
       "\n",
       "    .dataframe tbody tr th {\n",
       "        vertical-align: top;\n",
       "    }\n",
       "\n",
       "    .dataframe thead th {\n",
       "        text-align: right;\n",
       "    }\n",
       "</style>\n",
       "<table border=\"1\" class=\"dataframe\">\n",
       "  <thead>\n",
       "    <tr style=\"text-align: right;\">\n",
       "      <th></th>\n",
       "      <th>author_id</th>\n",
       "      <th>author</th>\n",
       "    </tr>\n",
       "  </thead>\n",
       "  <tbody>\n",
       "    <tr>\n",
       "      <th>0</th>\n",
       "      <td>1</td>\n",
       "      <td>A.S. Byatt</td>\n",
       "    </tr>\n",
       "    <tr>\n",
       "      <th>1</th>\n",
       "      <td>2</td>\n",
       "      <td>Aesop/Laura Harris/Laura Gibbs</td>\n",
       "    </tr>\n",
       "    <tr>\n",
       "      <th>2</th>\n",
       "      <td>3</td>\n",
       "      <td>Agatha Christie</td>\n",
       "    </tr>\n",
       "    <tr>\n",
       "      <th>3</th>\n",
       "      <td>4</td>\n",
       "      <td>Alan Brennert</td>\n",
       "    </tr>\n",
       "    <tr>\n",
       "      <th>4</th>\n",
       "      <td>5</td>\n",
       "      <td>Alan Moore/David   Lloyd</td>\n",
       "    </tr>\n",
       "  </tbody>\n",
       "</table>\n",
       "</div>"
      ],
      "text/plain": [
       "   author_id                          author\n",
       "0          1                      A.S. Byatt\n",
       "1          2  Aesop/Laura Harris/Laura Gibbs\n",
       "2          3                 Agatha Christie\n",
       "3          4                   Alan Brennert\n",
       "4          5        Alan Moore/David   Lloyd"
      ]
     },
     "execution_count": 5,
     "metadata": {},
     "output_type": "execute_result"
    }
   ],
   "source": [
    "query = '''SELECT *\n",
    "           FROM authors\n",
    "           LIMIT 5;'''\n",
    "pd.io.sql.read_sql(query, con = engine)"
   ]
  },
  {
   "cell_type": "code",
   "execution_count": 6,
   "id": "31872f91",
   "metadata": {},
   "outputs": [
    {
     "data": {
      "text/html": [
       "<div>\n",
       "<style scoped>\n",
       "    .dataframe tbody tr th:only-of-type {\n",
       "        vertical-align: middle;\n",
       "    }\n",
       "\n",
       "    .dataframe tbody tr th {\n",
       "        vertical-align: top;\n",
       "    }\n",
       "\n",
       "    .dataframe thead th {\n",
       "        text-align: right;\n",
       "    }\n",
       "</style>\n",
       "<table border=\"1\" class=\"dataframe\">\n",
       "  <thead>\n",
       "    <tr style=\"text-align: right;\">\n",
       "      <th></th>\n",
       "      <th>publisher_id</th>\n",
       "      <th>publisher</th>\n",
       "    </tr>\n",
       "  </thead>\n",
       "  <tbody>\n",
       "    <tr>\n",
       "      <th>0</th>\n",
       "      <td>1</td>\n",
       "      <td>Ace</td>\n",
       "    </tr>\n",
       "    <tr>\n",
       "      <th>1</th>\n",
       "      <td>2</td>\n",
       "      <td>Ace Book</td>\n",
       "    </tr>\n",
       "    <tr>\n",
       "      <th>2</th>\n",
       "      <td>3</td>\n",
       "      <td>Ace Books</td>\n",
       "    </tr>\n",
       "    <tr>\n",
       "      <th>3</th>\n",
       "      <td>4</td>\n",
       "      <td>Ace Hardcover</td>\n",
       "    </tr>\n",
       "    <tr>\n",
       "      <th>4</th>\n",
       "      <td>5</td>\n",
       "      <td>Addison Wesley Publishing Company</td>\n",
       "    </tr>\n",
       "  </tbody>\n",
       "</table>\n",
       "</div>"
      ],
      "text/plain": [
       "   publisher_id                          publisher\n",
       "0             1                                Ace\n",
       "1             2                           Ace Book\n",
       "2             3                          Ace Books\n",
       "3             4                      Ace Hardcover\n",
       "4             5  Addison Wesley Publishing Company"
      ]
     },
     "execution_count": 6,
     "metadata": {},
     "output_type": "execute_result"
    }
   ],
   "source": [
    "query = '''SELECT *\n",
    "           FROM publishers\n",
    "           LIMIT 5;'''\n",
    "pd.io.sql.read_sql(query, con = engine)"
   ]
  },
  {
   "cell_type": "code",
   "execution_count": 7,
   "id": "1c6d1cef",
   "metadata": {},
   "outputs": [
    {
     "data": {
      "text/html": [
       "<div>\n",
       "<style scoped>\n",
       "    .dataframe tbody tr th:only-of-type {\n",
       "        vertical-align: middle;\n",
       "    }\n",
       "\n",
       "    .dataframe tbody tr th {\n",
       "        vertical-align: top;\n",
       "    }\n",
       "\n",
       "    .dataframe thead th {\n",
       "        text-align: right;\n",
       "    }\n",
       "</style>\n",
       "<table border=\"1\" class=\"dataframe\">\n",
       "  <thead>\n",
       "    <tr style=\"text-align: right;\">\n",
       "      <th></th>\n",
       "      <th>rating_id</th>\n",
       "      <th>book_id</th>\n",
       "      <th>username</th>\n",
       "      <th>rating</th>\n",
       "    </tr>\n",
       "  </thead>\n",
       "  <tbody>\n",
       "    <tr>\n",
       "      <th>0</th>\n",
       "      <td>1</td>\n",
       "      <td>1</td>\n",
       "      <td>ryanfranco</td>\n",
       "      <td>4</td>\n",
       "    </tr>\n",
       "    <tr>\n",
       "      <th>1</th>\n",
       "      <td>2</td>\n",
       "      <td>1</td>\n",
       "      <td>grantpatricia</td>\n",
       "      <td>2</td>\n",
       "    </tr>\n",
       "    <tr>\n",
       "      <th>2</th>\n",
       "      <td>3</td>\n",
       "      <td>1</td>\n",
       "      <td>brandtandrea</td>\n",
       "      <td>5</td>\n",
       "    </tr>\n",
       "    <tr>\n",
       "      <th>3</th>\n",
       "      <td>4</td>\n",
       "      <td>2</td>\n",
       "      <td>lorichen</td>\n",
       "      <td>3</td>\n",
       "    </tr>\n",
       "    <tr>\n",
       "      <th>4</th>\n",
       "      <td>5</td>\n",
       "      <td>2</td>\n",
       "      <td>mariokeller</td>\n",
       "      <td>2</td>\n",
       "    </tr>\n",
       "  </tbody>\n",
       "</table>\n",
       "</div>"
      ],
      "text/plain": [
       "   rating_id  book_id       username  rating\n",
       "0          1        1     ryanfranco       4\n",
       "1          2        1  grantpatricia       2\n",
       "2          3        1   brandtandrea       5\n",
       "3          4        2       lorichen       3\n",
       "4          5        2    mariokeller       2"
      ]
     },
     "execution_count": 7,
     "metadata": {},
     "output_type": "execute_result"
    }
   ],
   "source": [
    "query = '''SELECT *\n",
    "           FROM ratings\n",
    "           LIMIT 5;'''\n",
    "pd.io.sql.read_sql(query, con = engine)"
   ]
  },
  {
   "cell_type": "code",
   "execution_count": 8,
   "id": "38b4ee2a",
   "metadata": {
    "scrolled": true
   },
   "outputs": [
    {
     "data": {
      "text/html": [
       "<div>\n",
       "<style scoped>\n",
       "    .dataframe tbody tr th:only-of-type {\n",
       "        vertical-align: middle;\n",
       "    }\n",
       "\n",
       "    .dataframe tbody tr th {\n",
       "        vertical-align: top;\n",
       "    }\n",
       "\n",
       "    .dataframe thead th {\n",
       "        text-align: right;\n",
       "    }\n",
       "</style>\n",
       "<table border=\"1\" class=\"dataframe\">\n",
       "  <thead>\n",
       "    <tr style=\"text-align: right;\">\n",
       "      <th></th>\n",
       "      <th>review_id</th>\n",
       "      <th>book_id</th>\n",
       "      <th>username</th>\n",
       "      <th>text</th>\n",
       "    </tr>\n",
       "  </thead>\n",
       "  <tbody>\n",
       "    <tr>\n",
       "      <th>0</th>\n",
       "      <td>1</td>\n",
       "      <td>1</td>\n",
       "      <td>brandtandrea</td>\n",
       "      <td>Mention society tell send professor analysis. ...</td>\n",
       "    </tr>\n",
       "    <tr>\n",
       "      <th>1</th>\n",
       "      <td>2</td>\n",
       "      <td>1</td>\n",
       "      <td>ryanfranco</td>\n",
       "      <td>Foot glass pretty audience hit themselves. Amo...</td>\n",
       "    </tr>\n",
       "    <tr>\n",
       "      <th>2</th>\n",
       "      <td>3</td>\n",
       "      <td>2</td>\n",
       "      <td>lorichen</td>\n",
       "      <td>Listen treat keep worry. Miss husband tax but ...</td>\n",
       "    </tr>\n",
       "    <tr>\n",
       "      <th>3</th>\n",
       "      <td>4</td>\n",
       "      <td>3</td>\n",
       "      <td>johnsonamanda</td>\n",
       "      <td>Finally month interesting blue could nature cu...</td>\n",
       "    </tr>\n",
       "    <tr>\n",
       "      <th>4</th>\n",
       "      <td>5</td>\n",
       "      <td>3</td>\n",
       "      <td>scotttamara</td>\n",
       "      <td>Nation purpose heavy give wait song will. List...</td>\n",
       "    </tr>\n",
       "  </tbody>\n",
       "</table>\n",
       "</div>"
      ],
      "text/plain": [
       "   review_id  book_id       username  \\\n",
       "0          1        1   brandtandrea   \n",
       "1          2        1     ryanfranco   \n",
       "2          3        2       lorichen   \n",
       "3          4        3  johnsonamanda   \n",
       "4          5        3    scotttamara   \n",
       "\n",
       "                                                text  \n",
       "0  Mention society tell send professor analysis. ...  \n",
       "1  Foot glass pretty audience hit themselves. Amo...  \n",
       "2  Listen treat keep worry. Miss husband tax but ...  \n",
       "3  Finally month interesting blue could nature cu...  \n",
       "4  Nation purpose heavy give wait song will. List...  "
      ]
     },
     "execution_count": 8,
     "metadata": {},
     "output_type": "execute_result"
    }
   ],
   "source": [
    "query = '''SELECT *\n",
    "           FROM reviews\n",
    "           LIMIT 5;'''\n",
    "pd.io.sql.read_sql(query, con = engine)"
   ]
  },
  {
   "cell_type": "markdown",
   "id": "0a87bc40",
   "metadata": {},
   "source": [
    "## Решение задач"
   ]
  },
  {
   "cell_type": "markdown",
   "id": "1fa9b075",
   "metadata": {},
   "source": [
    "### 1 задача"
   ]
  },
  {
   "cell_type": "code",
   "execution_count": 9,
   "id": "9e4c4388",
   "metadata": {},
   "outputs": [
    {
     "data": {
      "text/html": [
       "<div>\n",
       "<style scoped>\n",
       "    .dataframe tbody tr th:only-of-type {\n",
       "        vertical-align: middle;\n",
       "    }\n",
       "\n",
       "    .dataframe tbody tr th {\n",
       "        vertical-align: top;\n",
       "    }\n",
       "\n",
       "    .dataframe thead th {\n",
       "        text-align: right;\n",
       "    }\n",
       "</style>\n",
       "<table border=\"1\" class=\"dataframe\">\n",
       "  <thead>\n",
       "    <tr style=\"text-align: right;\">\n",
       "      <th></th>\n",
       "      <th>count</th>\n",
       "    </tr>\n",
       "  </thead>\n",
       "  <tbody>\n",
       "    <tr>\n",
       "      <th>0</th>\n",
       "      <td>819</td>\n",
       "    </tr>\n",
       "  </tbody>\n",
       "</table>\n",
       "</div>"
      ],
      "text/plain": [
       "   count\n",
       "0    819"
      ]
     },
     "execution_count": 9,
     "metadata": {},
     "output_type": "execute_result"
    }
   ],
   "source": [
    "query = '''SELECT COUNT(book_id)\n",
    "           FROM books\n",
    "           WHERE publication_date > '2000-01-01';'''\n",
    "pd.io.sql.read_sql(query, con = engine)"
   ]
  },
  {
   "cell_type": "markdown",
   "id": "e0a82af0",
   "metadata": {},
   "source": [
    "Всего после 1 января 2000 года было опубликовано 819 книг"
   ]
  },
  {
   "cell_type": "markdown",
   "id": "85da4308",
   "metadata": {},
   "source": [
    "### 2 задача"
   ]
  },
  {
   "cell_type": "code",
   "execution_count": 10,
   "id": "eb1f2086",
   "metadata": {},
   "outputs": [
    {
     "data": {
      "text/html": [
       "<div>\n",
       "<style scoped>\n",
       "    .dataframe tbody tr th:only-of-type {\n",
       "        vertical-align: middle;\n",
       "    }\n",
       "\n",
       "    .dataframe tbody tr th {\n",
       "        vertical-align: top;\n",
       "    }\n",
       "\n",
       "    .dataframe thead th {\n",
       "        text-align: right;\n",
       "    }\n",
       "</style>\n",
       "<table border=\"1\" class=\"dataframe\">\n",
       "  <thead>\n",
       "    <tr style=\"text-align: right;\">\n",
       "      <th></th>\n",
       "      <th>book_id</th>\n",
       "      <th>title</th>\n",
       "      <th>count_review</th>\n",
       "      <th>avg_rating</th>\n",
       "    </tr>\n",
       "  </thead>\n",
       "  <tbody>\n",
       "    <tr>\n",
       "      <th>0</th>\n",
       "      <td>948.0</td>\n",
       "      <td>Twilight (Twilight  #1)</td>\n",
       "      <td>7</td>\n",
       "      <td>3.662500</td>\n",
       "    </tr>\n",
       "    <tr>\n",
       "      <th>1</th>\n",
       "      <td>854.0</td>\n",
       "      <td>The Road</td>\n",
       "      <td>6</td>\n",
       "      <td>3.772727</td>\n",
       "    </tr>\n",
       "    <tr>\n",
       "      <th>2</th>\n",
       "      <td>656.0</td>\n",
       "      <td>The Book Thief</td>\n",
       "      <td>6</td>\n",
       "      <td>4.264151</td>\n",
       "    </tr>\n",
       "    <tr>\n",
       "      <th>3</th>\n",
       "      <td>734.0</td>\n",
       "      <td>The Glass Castle</td>\n",
       "      <td>6</td>\n",
       "      <td>4.206897</td>\n",
       "    </tr>\n",
       "    <tr>\n",
       "      <th>4</th>\n",
       "      <td>963.0</td>\n",
       "      <td>Water for Elephants</td>\n",
       "      <td>6</td>\n",
       "      <td>3.977273</td>\n",
       "    </tr>\n",
       "    <tr>\n",
       "      <th>...</th>\n",
       "      <td>...</td>\n",
       "      <td>...</td>\n",
       "      <td>...</td>\n",
       "      <td>...</td>\n",
       "    </tr>\n",
       "    <tr>\n",
       "      <th>990</th>\n",
       "      <td>465.0</td>\n",
       "      <td>Naked Empire (Sword of Truth  #8)</td>\n",
       "      <td>1</td>\n",
       "      <td>3.500000</td>\n",
       "    </tr>\n",
       "    <tr>\n",
       "      <th>991</th>\n",
       "      <td>446.0</td>\n",
       "      <td>Moo  Baa  La La La!</td>\n",
       "      <td>1</td>\n",
       "      <td>3.000000</td>\n",
       "    </tr>\n",
       "    <tr>\n",
       "      <th>992</th>\n",
       "      <td>431.0</td>\n",
       "      <td>Merrick (The Vampire Chronicles #7)</td>\n",
       "      <td>1</td>\n",
       "      <td>4.000000</td>\n",
       "    </tr>\n",
       "    <tr>\n",
       "      <th>993</th>\n",
       "      <td>196.0</td>\n",
       "      <td>Dragons of Winter Night (Dragonlance: Chronicl...</td>\n",
       "      <td>1</td>\n",
       "      <td>4.000000</td>\n",
       "    </tr>\n",
       "    <tr>\n",
       "      <th>994</th>\n",
       "      <td>NaN</td>\n",
       "      <td>None</td>\n",
       "      <td>0</td>\n",
       "      <td>3.923077</td>\n",
       "    </tr>\n",
       "  </tbody>\n",
       "</table>\n",
       "<p>995 rows × 4 columns</p>\n",
       "</div>"
      ],
      "text/plain": [
       "     book_id                                              title  count_review  \\\n",
       "0      948.0                            Twilight (Twilight  #1)             7   \n",
       "1      854.0                                           The Road             6   \n",
       "2      656.0                                     The Book Thief             6   \n",
       "3      734.0                                   The Glass Castle             6   \n",
       "4      963.0                                Water for Elephants             6   \n",
       "..       ...                                                ...           ...   \n",
       "990    465.0                  Naked Empire (Sword of Truth  #8)             1   \n",
       "991    446.0                                Moo  Baa  La La La!             1   \n",
       "992    431.0                Merrick (The Vampire Chronicles #7)             1   \n",
       "993    196.0  Dragons of Winter Night (Dragonlance: Chronicl...             1   \n",
       "994      NaN                                               None             0   \n",
       "\n",
       "     avg_rating  \n",
       "0      3.662500  \n",
       "1      3.772727  \n",
       "2      4.264151  \n",
       "3      4.206897  \n",
       "4      3.977273  \n",
       "..          ...  \n",
       "990    3.500000  \n",
       "991    3.000000  \n",
       "992    4.000000  \n",
       "993    4.000000  \n",
       "994    3.923077  \n",
       "\n",
       "[995 rows x 4 columns]"
      ]
     },
     "execution_count": 10,
     "metadata": {},
     "output_type": "execute_result"
    }
   ],
   "source": [
    "query = '''SELECT b.book_id, b.title, a.count_review, a.avg_rating\n",
    "           FROM (SELECT re.book_id, COUNT(DISTINCT re.review_id) count_review, AVG(rt.rating) avg_rating\n",
    "           FROM ratings rt\n",
    "           LEFT JOIN reviews re ON rt.book_id=re.book_id\n",
    "           GROUP BY re.book_id) a\n",
    "           LEFT JOIN books b ON a.book_id=b.book_id\n",
    "           ORDER BY a.count_review DESC\n",
    "           '''\n",
    "pd.io.sql.read_sql(query, con = engine)"
   ]
  },
  {
   "cell_type": "code",
   "execution_count": 11,
   "id": "6c78564c",
   "metadata": {},
   "outputs": [
    {
     "data": {
      "text/html": [
       "<div>\n",
       "<style scoped>\n",
       "    .dataframe tbody tr th:only-of-type {\n",
       "        vertical-align: middle;\n",
       "    }\n",
       "\n",
       "    .dataframe tbody tr th {\n",
       "        vertical-align: top;\n",
       "    }\n",
       "\n",
       "    .dataframe thead th {\n",
       "        text-align: right;\n",
       "    }\n",
       "</style>\n",
       "<table border=\"1\" class=\"dataframe\">\n",
       "  <thead>\n",
       "    <tr style=\"text-align: right;\">\n",
       "      <th></th>\n",
       "      <th>book_id</th>\n",
       "      <th>title</th>\n",
       "      <th>count_review</th>\n",
       "      <th>avg_rating</th>\n",
       "    </tr>\n",
       "  </thead>\n",
       "  <tbody>\n",
       "    <tr>\n",
       "      <th>0</th>\n",
       "      <td>948</td>\n",
       "      <td>Twilight (Twilight  #1)</td>\n",
       "      <td>7</td>\n",
       "      <td>3.66</td>\n",
       "    </tr>\n",
       "    <tr>\n",
       "      <th>1</th>\n",
       "      <td>963</td>\n",
       "      <td>Water for Elephants</td>\n",
       "      <td>6</td>\n",
       "      <td>3.98</td>\n",
       "    </tr>\n",
       "    <tr>\n",
       "      <th>2</th>\n",
       "      <td>734</td>\n",
       "      <td>The Glass Castle</td>\n",
       "      <td>6</td>\n",
       "      <td>4.21</td>\n",
       "    </tr>\n",
       "    <tr>\n",
       "      <th>3</th>\n",
       "      <td>302</td>\n",
       "      <td>Harry Potter and the Prisoner of Azkaban (Harr...</td>\n",
       "      <td>6</td>\n",
       "      <td>4.41</td>\n",
       "    </tr>\n",
       "    <tr>\n",
       "      <th>4</th>\n",
       "      <td>695</td>\n",
       "      <td>The Curious Incident of the Dog in the Night-Time</td>\n",
       "      <td>6</td>\n",
       "      <td>4.08</td>\n",
       "    </tr>\n",
       "    <tr>\n",
       "      <th>...</th>\n",
       "      <td>...</td>\n",
       "      <td>...</td>\n",
       "      <td>...</td>\n",
       "      <td>...</td>\n",
       "    </tr>\n",
       "    <tr>\n",
       "      <th>995</th>\n",
       "      <td>83</td>\n",
       "      <td>Anne Rice's The Vampire Lestat: A Graphic Novel</td>\n",
       "      <td>0</td>\n",
       "      <td>3.67</td>\n",
       "    </tr>\n",
       "    <tr>\n",
       "      <th>996</th>\n",
       "      <td>808</td>\n",
       "      <td>The Natural Way to Draw</td>\n",
       "      <td>0</td>\n",
       "      <td>3.00</td>\n",
       "    </tr>\n",
       "    <tr>\n",
       "      <th>997</th>\n",
       "      <td>672</td>\n",
       "      <td>The Cat in the Hat and Other Dr. Seuss Favorites</td>\n",
       "      <td>0</td>\n",
       "      <td>5.00</td>\n",
       "    </tr>\n",
       "    <tr>\n",
       "      <th>998</th>\n",
       "      <td>221</td>\n",
       "      <td>Essential Tales and Poems</td>\n",
       "      <td>0</td>\n",
       "      <td>4.00</td>\n",
       "    </tr>\n",
       "    <tr>\n",
       "      <th>999</th>\n",
       "      <td>191</td>\n",
       "      <td>Disney's Beauty and the Beast (A Little Golden...</td>\n",
       "      <td>0</td>\n",
       "      <td>4.00</td>\n",
       "    </tr>\n",
       "  </tbody>\n",
       "</table>\n",
       "<p>1000 rows × 4 columns</p>\n",
       "</div>"
      ],
      "text/plain": [
       "     book_id                                              title  count_review  \\\n",
       "0        948                            Twilight (Twilight  #1)             7   \n",
       "1        963                                Water for Elephants             6   \n",
       "2        734                                   The Glass Castle             6   \n",
       "3        302  Harry Potter and the Prisoner of Azkaban (Harr...             6   \n",
       "4        695  The Curious Incident of the Dog in the Night-Time             6   \n",
       "..       ...                                                ...           ...   \n",
       "995       83    Anne Rice's The Vampire Lestat: A Graphic Novel             0   \n",
       "996      808                            The Natural Way to Draw             0   \n",
       "997      672   The Cat in the Hat and Other Dr. Seuss Favorites             0   \n",
       "998      221                          Essential Tales and Poems             0   \n",
       "999      191  Disney's Beauty and the Beast (A Little Golden...             0   \n",
       "\n",
       "     avg_rating  \n",
       "0          3.66  \n",
       "1          3.98  \n",
       "2          4.21  \n",
       "3          4.41  \n",
       "4          4.08  \n",
       "..          ...  \n",
       "995        3.67  \n",
       "996        3.00  \n",
       "997        5.00  \n",
       "998        4.00  \n",
       "999        4.00  \n",
       "\n",
       "[1000 rows x 4 columns]"
      ]
     },
     "execution_count": 11,
     "metadata": {},
     "output_type": "execute_result"
    }
   ],
   "source": [
    "query = '''SELECT b.book_id, b.title, a.count_review, a.avg_rating\n",
    "           FROM (SELECT bk.book_id, COUNT(DISTINCT re.review_id) count_review, ROUND(AVG(rt.rating), 2) avg_rating\n",
    "           FROM books bk\n",
    "           FULL JOIN ratings rt ON bk.book_id=rt.book_id\n",
    "           FULL JOIN reviews re ON bk.book_id=re.book_id\n",
    "           GROUP BY bk.book_id) a\n",
    "           LEFT JOIN books b ON a.book_id=b.book_id\n",
    "           ORDER BY a.count_review DESC\n",
    "           '''\n",
    "pd.io.sql.read_sql(query, con = engine)"
   ]
  },
  {
   "cell_type": "markdown",
   "id": "8c8a1b94",
   "metadata": {},
   "source": [
    "Максимальное количество обзоров на книгу под названием  Twilight (Twilight #1) и\tсоставило 7, минимальное 0, Средний рейтинг рейтинг находится в диапозоне от 1.5 до 5.0"
   ]
  },
  {
   "cell_type": "markdown",
   "id": "1c90fac0",
   "metadata": {},
   "source": [
    "### 3 задача"
   ]
  },
  {
   "cell_type": "code",
   "execution_count": 10,
   "id": "4dd3dde7",
   "metadata": {},
   "outputs": [
    {
     "data": {
      "text/html": [
       "<div>\n",
       "<style scoped>\n",
       "    .dataframe tbody tr th:only-of-type {\n",
       "        vertical-align: middle;\n",
       "    }\n",
       "\n",
       "    .dataframe tbody tr th {\n",
       "        vertical-align: top;\n",
       "    }\n",
       "\n",
       "    .dataframe thead th {\n",
       "        text-align: right;\n",
       "    }\n",
       "</style>\n",
       "<table border=\"1\" class=\"dataframe\">\n",
       "  <thead>\n",
       "    <tr style=\"text-align: right;\">\n",
       "      <th></th>\n",
       "      <th>publisher</th>\n",
       "      <th>count_books</th>\n",
       "    </tr>\n",
       "  </thead>\n",
       "  <tbody>\n",
       "    <tr>\n",
       "      <th>0</th>\n",
       "      <td>Penguin Books</td>\n",
       "      <td>42</td>\n",
       "    </tr>\n",
       "  </tbody>\n",
       "</table>\n",
       "</div>"
      ],
      "text/plain": [
       "       publisher  count_books\n",
       "0  Penguin Books           42"
      ]
     },
     "execution_count": 10,
     "metadata": {},
     "output_type": "execute_result"
    }
   ],
   "source": [
    "query = '''SELECT pub.publisher, COUNT(b.book_id) count_books\n",
    "           FROM books b\n",
    "           LEFT JOIN publishers pub ON b.publisher_id = pub.publisher_id\n",
    "           WHERE b.num_pages > 50\n",
    "           GROUP BY pub.publisher\n",
    "           ORDER BY count_books DESC\n",
    "           LIMIT 1;'''\n",
    "pd.io.sql.read_sql(query, con = engine)"
   ]
  },
  {
   "cell_type": "markdown",
   "id": "269346bd",
   "metadata": {},
   "source": [
    "Издатель \"Penguin Books\" выпустил больше всех книг более 50 страниц, а именно 42 книги"
   ]
  },
  {
   "cell_type": "markdown",
   "id": "8ca031b9",
   "metadata": {},
   "source": [
    "### 4 задача"
   ]
  },
  {
   "cell_type": "code",
   "execution_count": 11,
   "id": "15381596",
   "metadata": {},
   "outputs": [
    {
     "data": {
      "text/html": [
       "<div>\n",
       "<style scoped>\n",
       "    .dataframe tbody tr th:only-of-type {\n",
       "        vertical-align: middle;\n",
       "    }\n",
       "\n",
       "    .dataframe tbody tr th {\n",
       "        vertical-align: top;\n",
       "    }\n",
       "\n",
       "    .dataframe thead th {\n",
       "        text-align: right;\n",
       "    }\n",
       "</style>\n",
       "<table border=\"1\" class=\"dataframe\">\n",
       "  <thead>\n",
       "    <tr style=\"text-align: right;\">\n",
       "      <th></th>\n",
       "      <th>author</th>\n",
       "      <th>avg_rating</th>\n",
       "    </tr>\n",
       "  </thead>\n",
       "  <tbody>\n",
       "    <tr>\n",
       "      <th>0</th>\n",
       "      <td>J.K. Rowling/Mary GrandPré</td>\n",
       "      <td>4.29</td>\n",
       "    </tr>\n",
       "  </tbody>\n",
       "</table>\n",
       "</div>"
      ],
      "text/plain": [
       "                       author  avg_rating\n",
       "0  J.K. Rowling/Mary GrandPré        4.29"
      ]
     },
     "execution_count": 11,
     "metadata": {},
     "output_type": "execute_result"
    }
   ],
   "source": [
    "query = '''SELECT a.author, ROUND(AVG(rt.rating),2) avg_rating\n",
    "           FROM authors a\n",
    "           LEFT JOIN books b ON a.author_id = b.author_id\n",
    "           LEFT JOIN ratings rt ON b.book_id = rt.book_id\n",
    "           GROUP BY a.author\n",
    "           HAVING COUNT(rt.rating_id) > 50\n",
    "           ORDER BY avg_rating DESC\n",
    "           LIMIT 1;'''\n",
    "pd.io.sql.read_sql(query, con = engine)"
   ]
  },
  {
   "cell_type": "markdown",
   "id": "17c80987",
   "metadata": {},
   "source": [
    "\"J.K. Rowling/Mary GrandPré\" является автором с самой высокой средней оценкой(4.29 балла) среди авторов у которых больше 50 оценок среди написаных ими книг."
   ]
  },
  {
   "cell_type": "markdown",
   "id": "0cb2ccb6",
   "metadata": {},
   "source": []
  },
  {
   "cell_type": "markdown",
   "id": "daf1e687",
   "metadata": {},
   "source": [
    "### 5 задача"
   ]
  },
  {
   "cell_type": "code",
   "execution_count": 24,
   "id": "bae67da4",
   "metadata": {},
   "outputs": [
    {
     "data": {
      "text/html": [
       "<div>\n",
       "<style scoped>\n",
       "    .dataframe tbody tr th:only-of-type {\n",
       "        vertical-align: middle;\n",
       "    }\n",
       "\n",
       "    .dataframe tbody tr th {\n",
       "        vertical-align: top;\n",
       "    }\n",
       "\n",
       "    .dataframe thead th {\n",
       "        text-align: right;\n",
       "    }\n",
       "</style>\n",
       "<table border=\"1\" class=\"dataframe\">\n",
       "  <thead>\n",
       "    <tr style=\"text-align: right;\">\n",
       "      <th></th>\n",
       "      <th>round</th>\n",
       "    </tr>\n",
       "  </thead>\n",
       "  <tbody>\n",
       "    <tr>\n",
       "      <th>0</th>\n",
       "      <td>24.33</td>\n",
       "    </tr>\n",
       "  </tbody>\n",
       "</table>\n",
       "</div>"
      ],
      "text/plain": [
       "   round\n",
       "0  24.33"
      ]
     },
     "execution_count": 24,
     "metadata": {},
     "output_type": "execute_result"
    }
   ],
   "source": [
    "query = '''SELECT ROUND(AVG(a.count_review), 2)\n",
    "           FROM (SELECT rt.username, COUNT(DISTINCT re.review_id) count_review, COUNT(DISTINCT rt.rating_id) count_rating\n",
    "           FROM ratings rt\n",
    "           LEFT JOIN reviews re ON rt.username=re.username\n",
    "           GROUP BY rt.username\n",
    "           HAVING COUNT(DISTINCT rt.rating_id) > 50\n",
    "           ORDER BY count_review) a;'''\n",
    "pd.io.sql.read_sql(query, con = engine)"
   ]
  },
  {
   "cell_type": "markdown",
   "id": "0061e848",
   "metadata": {},
   "source": [
    "Среднее количество обзоров от пользователей, которые поставили больше 50 оценок составило 164 обзора"
   ]
  },
  {
   "cell_type": "markdown",
   "id": "76aae602",
   "metadata": {},
   "source": [
    "## Общие выводы"
   ]
  },
  {
   "cell_type": "markdown",
   "id": "45e817e4",
   "metadata": {},
   "source": [
    "- Всего после 1 января 2000 года было опубликовано 819 книг\n",
    "- Максимальное количество обзоров на книгу  составлило 7, минимальное 0, Средний рейтинг рейтинг находится в диапозоне от 1.5 до 5.0\n",
    "- Издатель \"Penguin Books\" выпустил больше всех книг более 50 страниц, а именно 42 книги\n",
    "- \"J.K. Rowling/Mary GrandPré\" является автором с самой высокой средней оценкой(4.29 балла) среди авторов у которых больше 50 оценок среди написаных ими книг.\n",
    "- Среднее количество обзоров от пользователей, которые поставили больше 50 оценок составило 164 обзора"
   ]
  }
 ],
 "metadata": {
  "ExecuteTimeLog": [
   {
    "duration": 584,
    "start_time": "2023-03-22T19:21:36.063Z"
   },
   {
    "duration": 7950,
    "start_time": "2023-03-22T19:21:36.650Z"
   },
   {
    "duration": 73,
    "start_time": "2023-03-22T19:21:44.601Z"
   },
   {
    "duration": 12,
    "start_time": "2023-03-22T19:21:44.677Z"
   },
   {
    "duration": 12,
    "start_time": "2023-03-22T19:21:44.690Z"
   },
   {
    "duration": 13,
    "start_time": "2023-03-22T19:21:44.704Z"
   },
   {
    "duration": 12,
    "start_time": "2023-03-22T19:21:44.718Z"
   },
   {
    "duration": 30,
    "start_time": "2023-03-22T19:21:44.731Z"
   },
   {
    "duration": 23,
    "start_time": "2023-03-22T19:21:44.763Z"
   },
   {
    "duration": 15,
    "start_time": "2023-03-22T19:21:44.788Z"
   },
   {
    "duration": 18,
    "start_time": "2023-03-22T19:21:44.805Z"
   },
   {
    "duration": 20,
    "start_time": "2023-03-22T19:21:44.825Z"
   },
   {
    "duration": 69,
    "start_time": "2023-03-22T19:23:07.645Z"
   },
   {
    "duration": 29,
    "start_time": "2023-03-22T19:23:13.948Z"
   },
   {
    "duration": 49,
    "start_time": "2023-03-23T19:22:50.936Z"
   },
   {
    "duration": 514,
    "start_time": "2023-03-23T19:22:55.237Z"
   },
   {
    "duration": 8093,
    "start_time": "2023-03-23T19:22:58.518Z"
   },
   {
    "duration": 98,
    "start_time": "2023-03-23T19:23:06.856Z"
   },
   {
    "duration": 134,
    "start_time": "2023-03-23T19:23:11.248Z"
   },
   {
    "duration": 15,
    "start_time": "2023-03-23T19:23:40.095Z"
   },
   {
    "duration": 106,
    "start_time": "2023-03-23T19:25:13.767Z"
   },
   {
    "duration": 27,
    "start_time": "2023-03-23T19:25:44.692Z"
   },
   {
    "duration": 19,
    "start_time": "2023-03-23T19:27:47.397Z"
   },
   {
    "duration": 34,
    "start_time": "2023-03-23T19:28:29.767Z"
   },
   {
    "duration": 110,
    "start_time": "2023-03-23T19:31:33.628Z"
   },
   {
    "duration": 145,
    "start_time": "2023-03-23T19:31:52.258Z"
   },
   {
    "duration": 40,
    "start_time": "2023-03-23T19:32:08.716Z"
   },
   {
    "duration": 40,
    "start_time": "2023-03-23T19:32:22.630Z"
   },
   {
    "duration": 32,
    "start_time": "2023-03-23T19:37:21.618Z"
   },
   {
    "duration": 21,
    "start_time": "2023-03-23T19:39:17.608Z"
   },
   {
    "duration": 39,
    "start_time": "2023-03-23T19:43:32.366Z"
   },
   {
    "duration": 101,
    "start_time": "2023-03-23T19:43:44.258Z"
   },
   {
    "duration": 48,
    "start_time": "2023-03-23T19:44:09.378Z"
   },
   {
    "duration": 38,
    "start_time": "2023-03-23T19:44:28.728Z"
   },
   {
    "duration": 37,
    "start_time": "2023-03-23T19:44:45.277Z"
   },
   {
    "duration": 44,
    "start_time": "2023-03-23T19:45:03.338Z"
   },
   {
    "duration": 42,
    "start_time": "2023-03-23T19:48:59.726Z"
   },
   {
    "duration": 46,
    "start_time": "2023-03-23T19:49:15.789Z"
   },
   {
    "duration": 54,
    "start_time": "2023-03-24T15:07:18.437Z"
   },
   {
    "duration": 461,
    "start_time": "2023-03-24T15:07:25.103Z"
   },
   {
    "duration": 7951,
    "start_time": "2023-03-24T15:07:25.962Z"
   },
   {
    "duration": 481,
    "start_time": "2023-03-24T15:07:35.254Z"
   },
   {
    "duration": 125,
    "start_time": "2023-03-24T15:08:09.042Z"
   },
   {
    "duration": 652,
    "start_time": "2023-03-24T15:10:07.631Z"
   },
   {
    "duration": 142,
    "start_time": "2023-03-24T15:11:25.897Z"
   },
   {
    "duration": 170,
    "start_time": "2023-03-24T15:12:05.267Z"
   },
   {
    "duration": 340,
    "start_time": "2023-03-24T15:12:41.957Z"
   },
   {
    "duration": 114,
    "start_time": "2023-03-24T15:13:31.039Z"
   },
   {
    "duration": 142,
    "start_time": "2023-03-24T15:15:54.119Z"
   },
   {
    "duration": 144,
    "start_time": "2023-03-24T15:16:07.951Z"
   },
   {
    "duration": 226,
    "start_time": "2023-03-24T15:23:11.008Z"
   },
   {
    "duration": 148,
    "start_time": "2023-03-24T15:24:20.085Z"
   },
   {
    "duration": 150,
    "start_time": "2023-03-24T15:26:31.982Z"
   },
   {
    "duration": 112,
    "start_time": "2023-03-24T15:26:56.198Z"
   },
   {
    "duration": 113,
    "start_time": "2023-03-24T15:27:32.589Z"
   },
   {
    "duration": 113,
    "start_time": "2023-03-24T15:29:28.008Z"
   },
   {
    "duration": 134,
    "start_time": "2023-03-24T15:30:27.696Z"
   },
   {
    "duration": 113,
    "start_time": "2023-03-24T15:30:44.668Z"
   },
   {
    "duration": 123,
    "start_time": "2023-03-24T15:31:04.418Z"
   },
   {
    "duration": 68,
    "start_time": "2023-03-26T14:31:00.741Z"
   },
   {
    "duration": 6,
    "start_time": "2023-03-26T14:31:35.899Z"
   },
   {
    "duration": 5,
    "start_time": "2023-03-26T14:31:36.253Z"
   },
   {
    "duration": 96,
    "start_time": "2023-03-26T14:31:37.298Z"
   },
   {
    "duration": 31,
    "start_time": "2023-03-26T14:31:38.295Z"
   },
   {
    "duration": 12,
    "start_time": "2023-03-26T14:31:40.132Z"
   },
   {
    "duration": 22,
    "start_time": "2023-03-26T14:31:40.405Z"
   },
   {
    "duration": 16,
    "start_time": "2023-03-26T14:31:40.723Z"
   },
   {
    "duration": 32,
    "start_time": "2023-03-26T14:31:41.698Z"
   },
   {
    "duration": 63,
    "start_time": "2023-03-26T14:31:43.138Z"
   },
   {
    "duration": 34,
    "start_time": "2023-03-26T14:33:06.903Z"
   },
   {
    "duration": 192,
    "start_time": "2023-03-26T14:34:10.932Z"
   },
   {
    "duration": 139,
    "start_time": "2023-03-26T14:35:52.765Z"
   },
   {
    "duration": 41,
    "start_time": "2023-03-26T14:36:11.752Z"
   },
   {
    "duration": 39,
    "start_time": "2023-03-26T14:37:02.614Z"
   },
   {
    "duration": 29,
    "start_time": "2023-03-26T14:37:10.011Z"
   },
   {
    "duration": 29,
    "start_time": "2023-03-26T14:37:18.823Z"
   },
   {
    "duration": 39,
    "start_time": "2023-03-26T14:37:27.492Z"
   },
   {
    "duration": 40,
    "start_time": "2023-03-26T14:38:04.291Z"
   },
   {
    "duration": 22,
    "start_time": "2023-03-26T14:39:50.843Z"
   },
   {
    "duration": 23,
    "start_time": "2023-03-26T14:39:59.802Z"
   },
   {
    "duration": 25,
    "start_time": "2023-03-26T14:41:49.032Z"
   },
   {
    "duration": 41,
    "start_time": "2023-03-26T14:41:59.265Z"
   },
   {
    "duration": 31,
    "start_time": "2023-03-26T14:44:54.371Z"
   },
   {
    "duration": 100,
    "start_time": "2023-03-26T14:46:37.512Z"
   },
   {
    "duration": 14,
    "start_time": "2023-03-26T14:46:43.993Z"
   },
   {
    "duration": 33,
    "start_time": "2023-03-26T14:47:57.362Z"
   },
   {
    "duration": 31,
    "start_time": "2023-03-26T14:48:06.503Z"
   },
   {
    "duration": 32,
    "start_time": "2023-03-26T14:48:20.086Z"
   },
   {
    "duration": 31,
    "start_time": "2023-03-26T14:48:45.340Z"
   },
   {
    "duration": 32,
    "start_time": "2023-03-26T14:48:54.093Z"
   },
   {
    "duration": 26,
    "start_time": "2023-03-26T14:49:36.185Z"
   },
   {
    "duration": 27,
    "start_time": "2023-03-26T14:51:26.703Z"
   },
   {
    "duration": 101,
    "start_time": "2023-03-26T14:52:57.511Z"
   },
   {
    "duration": 103,
    "start_time": "2023-03-26T14:53:58.193Z"
   },
   {
    "duration": 97,
    "start_time": "2023-03-26T14:54:23.498Z"
   },
   {
    "duration": 99,
    "start_time": "2023-03-26T14:54:48.139Z"
   },
   {
    "duration": 128,
    "start_time": "2023-03-26T14:55:23.432Z"
   },
   {
    "duration": 64,
    "start_time": "2023-03-26T14:56:38.887Z"
   },
   {
    "duration": 49,
    "start_time": "2023-03-26T14:57:00.196Z"
   },
   {
    "duration": 30,
    "start_time": "2023-03-26T14:57:40.815Z"
   },
   {
    "duration": 62,
    "start_time": "2023-03-26T14:57:58.661Z"
   },
   {
    "duration": 54,
    "start_time": "2023-04-25T19:02:15.933Z"
   },
   {
    "duration": 577,
    "start_time": "2023-04-25T19:02:22.457Z"
   },
   {
    "duration": 8957,
    "start_time": "2023-04-25T19:02:23.036Z"
   },
   {
    "duration": 59,
    "start_time": "2023-04-25T19:02:31.995Z"
   },
   {
    "duration": 27,
    "start_time": "2023-04-25T19:02:32.056Z"
   },
   {
    "duration": 14,
    "start_time": "2023-04-25T19:02:32.086Z"
   },
   {
    "duration": 34,
    "start_time": "2023-04-25T19:02:32.103Z"
   },
   {
    "duration": 24,
    "start_time": "2023-04-25T19:02:32.139Z"
   },
   {
    "duration": 11,
    "start_time": "2023-04-25T19:02:36.939Z"
   },
   {
    "duration": 34,
    "start_time": "2023-04-25T19:02:39.376Z"
   },
   {
    "duration": 30,
    "start_time": "2023-04-25T19:02:42.778Z"
   }
  ],
  "kernelspec": {
   "display_name": "Python 3 (ipykernel)",
   "language": "python",
   "name": "python3"
  },
  "language_info": {
   "codemirror_mode": {
    "name": "ipython",
    "version": 3
   },
   "file_extension": ".py",
   "mimetype": "text/x-python",
   "name": "python",
   "nbconvert_exporter": "python",
   "pygments_lexer": "ipython3",
   "version": "3.9.5"
  },
  "toc": {
   "base_numbering": 1,
   "nav_menu": {},
   "number_sections": true,
   "sideBar": true,
   "skip_h1_title": true,
   "title_cell": "Table of Contents",
   "title_sidebar": "Contents",
   "toc_cell": false,
   "toc_position": {
    "height": "calc(100% - 180px)",
    "left": "10px",
    "top": "150px",
    "width": "392.1px"
   },
   "toc_section_display": true,
   "toc_window_display": true
  }
 },
 "nbformat": 4,
 "nbformat_minor": 5
}
